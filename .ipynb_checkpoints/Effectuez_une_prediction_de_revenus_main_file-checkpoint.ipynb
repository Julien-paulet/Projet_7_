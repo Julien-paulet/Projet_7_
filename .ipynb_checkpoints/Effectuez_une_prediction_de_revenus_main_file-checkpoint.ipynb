{
 "cells": [
  {
   "cell_type": "code",
   "execution_count": 1,
   "metadata": {},
   "outputs": [],
   "source": [
    "import numpy as np\n",
    "import pandas as pd\n",
    "import matplotlib.pyplot as plt\n",
    "import seaborn as sns"
   ]
  },
  {
   "cell_type": "code",
   "execution_count": 2,
   "metadata": {},
   "outputs": [
    {
     "data": {
      "text/html": [
       "<div>\n",
       "<style scoped>\n",
       "    .dataframe tbody tr th:only-of-type {\n",
       "        vertical-align: middle;\n",
       "    }\n",
       "\n",
       "    .dataframe tbody tr th {\n",
       "        vertical-align: top;\n",
       "    }\n",
       "\n",
       "    .dataframe thead th {\n",
       "        text-align: right;\n",
       "    }\n",
       "</style>\n",
       "<table border=\"1\" class=\"dataframe\">\n",
       "  <thead>\n",
       "    <tr style=\"text-align: right;\">\n",
       "      <th></th>\n",
       "      <th>country</th>\n",
       "      <th>year_survey</th>\n",
       "      <th>quantile</th>\n",
       "      <th>nb_quantiles</th>\n",
       "      <th>income</th>\n",
       "      <th>gdpppp</th>\n",
       "    </tr>\n",
       "  </thead>\n",
       "  <tbody>\n",
       "    <tr>\n",
       "      <th>0</th>\n",
       "      <td>ALB</td>\n",
       "      <td>2008</td>\n",
       "      <td>1</td>\n",
       "      <td>100</td>\n",
       "      <td>728,89795</td>\n",
       "      <td>7297</td>\n",
       "    </tr>\n",
       "    <tr>\n",
       "      <th>1</th>\n",
       "      <td>ALB</td>\n",
       "      <td>2008</td>\n",
       "      <td>2</td>\n",
       "      <td>100</td>\n",
       "      <td>916,66235</td>\n",
       "      <td>7297</td>\n",
       "    </tr>\n",
       "    <tr>\n",
       "      <th>2</th>\n",
       "      <td>ALB</td>\n",
       "      <td>2008</td>\n",
       "      <td>3</td>\n",
       "      <td>100</td>\n",
       "      <td>1010,916</td>\n",
       "      <td>7297</td>\n",
       "    </tr>\n",
       "    <tr>\n",
       "      <th>3</th>\n",
       "      <td>ALB</td>\n",
       "      <td>2008</td>\n",
       "      <td>4</td>\n",
       "      <td>100</td>\n",
       "      <td>1086,9078</td>\n",
       "      <td>7297</td>\n",
       "    </tr>\n",
       "    <tr>\n",
       "      <th>4</th>\n",
       "      <td>ALB</td>\n",
       "      <td>2008</td>\n",
       "      <td>5</td>\n",
       "      <td>100</td>\n",
       "      <td>1132,6997</td>\n",
       "      <td>7297</td>\n",
       "    </tr>\n",
       "  </tbody>\n",
       "</table>\n",
       "</div>"
      ],
      "text/plain": [
       "  country  year_survey  quantile  nb_quantiles     income gdpppp\n",
       "0     ALB         2008         1           100  728,89795   7297\n",
       "1     ALB         2008         2           100  916,66235   7297\n",
       "2     ALB         2008         3           100   1010,916   7297\n",
       "3     ALB         2008         4           100  1086,9078   7297\n",
       "4     ALB         2008         5           100  1132,6997   7297"
      ]
     },
     "execution_count": 2,
     "metadata": {},
     "output_type": "execute_result"
    }
   ],
   "source": [
    "data = pd.read_csv('data-projet7.csv', decimal =\".\")\n",
    "data.head()"
   ]
  },
  {
   "cell_type": "code",
   "execution_count": 3,
   "metadata": {},
   "outputs": [
    {
     "data": {
      "text/plain": [
       "(11599, 6)"
      ]
     },
     "execution_count": 3,
     "metadata": {},
     "output_type": "execute_result"
    }
   ],
   "source": [
    "data.shape"
   ]
  },
  {
   "cell_type": "code",
   "execution_count": 4,
   "metadata": {},
   "outputs": [
    {
     "name": "stdout",
     "output_type": "stream",
     "text": [
      "La colonne 'country' : False\n",
      "La colonne 'year_survey' : False\n",
      "La colonne 'quantile' : False\n",
      "La colonne 'nb_quantiles' : False\n",
      "La colonne 'income' : False\n",
      "La colonne 'gdpppp' : True\n"
     ]
    }
   ],
   "source": [
    "for i in data.columns:\n",
    "    print(\"La colonne '{}' :\".format(i), any(pd.isna(data[i])))\n"
   ]
  },
  {
   "cell_type": "markdown",
   "metadata": {},
   "source": [
    "<p> Des valeurs NaN sont présentes dans la colonne 'gdpppp' </p>"
   ]
  },
  {
   "cell_type": "code",
   "execution_count": 5,
   "metadata": {},
   "outputs": [],
   "source": [
    "data['gdpppp'] = data['gdpppp'].fillna(0)\n",
    "#Voir après par quoi remplacer, 0 n'étant peut-être pas le bon chiffre"
   ]
  },
  {
   "cell_type": "code",
   "execution_count": 6,
   "metadata": {},
   "outputs": [
    {
     "name": "stdout",
     "output_type": "stream",
     "text": [
      "<class 'pandas.core.frame.DataFrame'>\n",
      "RangeIndex: 11599 entries, 0 to 11598\n",
      "Data columns (total 6 columns):\n",
      "country         11599 non-null object\n",
      "year_survey     11599 non-null int64\n",
      "quantile        11599 non-null int64\n",
      "nb_quantiles    11599 non-null int64\n",
      "income          11599 non-null object\n",
      "gdpppp          11599 non-null object\n",
      "dtypes: int64(3), object(3)\n",
      "memory usage: 543.8+ KB\n"
     ]
    }
   ],
   "source": [
    "data.info()"
   ]
  },
  {
   "cell_type": "markdown",
   "metadata": {},
   "source": [
    "Aucune colonne nulle ; Par contre on peut voir que 'income' et 'gdpppp' sont object et non numeric"
   ]
  },
  {
   "cell_type": "code",
   "execution_count": 7,
   "metadata": {},
   "outputs": [],
   "source": [
    "data['gdpppp'] = data['gdpppp'].astype(str)\n",
    "data['gdpppp'] = [x.replace(',', '.') for x in data['gdpppp']]\n",
    "data['gdpppp'] = pd.to_numeric(data['gdpppp'])\n",
    "\n",
    "data['income'] = data['income'].astype(str)\n",
    "data['income'] = [x.replace(',', '.') for x in data['income']]\n",
    "data['income'] = pd.to_numeric(data['income'])"
   ]
  },
  {
   "cell_type": "code",
   "execution_count": 8,
   "metadata": {},
   "outputs": [
    {
     "name": "stdout",
     "output_type": "stream",
     "text": [
      "<class 'pandas.core.frame.DataFrame'>\n",
      "RangeIndex: 11599 entries, 0 to 11598\n",
      "Data columns (total 6 columns):\n",
      "country         11599 non-null object\n",
      "year_survey     11599 non-null int64\n",
      "quantile        11599 non-null int64\n",
      "nb_quantiles    11599 non-null int64\n",
      "income          11599 non-null float64\n",
      "gdpppp          11599 non-null float64\n",
      "dtypes: float64(2), int64(3), object(1)\n",
      "memory usage: 543.8+ KB\n"
     ]
    }
   ],
   "source": [
    "data.info()"
   ]
  },
  {
   "cell_type": "markdown",
   "metadata": {},
   "source": [
    "On a bien nos colonnes 'income' et 'gdpppp' en float et plus en object"
   ]
  },
  {
   "cell_type": "code",
   "execution_count": 9,
   "metadata": {},
   "outputs": [
    {
     "data": {
      "text/html": [
       "<div>\n",
       "<style scoped>\n",
       "    .dataframe tbody tr th:only-of-type {\n",
       "        vertical-align: middle;\n",
       "    }\n",
       "\n",
       "    .dataframe tbody tr th {\n",
       "        vertical-align: top;\n",
       "    }\n",
       "\n",
       "    .dataframe thead th {\n",
       "        text-align: right;\n",
       "    }\n",
       "</style>\n",
       "<table border=\"1\" class=\"dataframe\">\n",
       "  <thead>\n",
       "    <tr style=\"text-align: right;\">\n",
       "      <th></th>\n",
       "      <th>year_survey</th>\n",
       "      <th>quantile</th>\n",
       "      <th>nb_quantiles</th>\n",
       "      <th>income</th>\n",
       "      <th>gdpppp</th>\n",
       "    </tr>\n",
       "  </thead>\n",
       "  <tbody>\n",
       "    <tr>\n",
       "      <th>count</th>\n",
       "      <td>11599.000000</td>\n",
       "      <td>11599.000000</td>\n",
       "      <td>11599.0</td>\n",
       "      <td>11599.000000</td>\n",
       "      <td>1.159900e+04</td>\n",
       "    </tr>\n",
       "    <tr>\n",
       "      <th>mean</th>\n",
       "      <td>2007.982757</td>\n",
       "      <td>50.500819</td>\n",
       "      <td>100.0</td>\n",
       "      <td>6069.224260</td>\n",
       "      <td>4.935532e+04</td>\n",
       "    </tr>\n",
       "    <tr>\n",
       "      <th>std</th>\n",
       "      <td>0.909633</td>\n",
       "      <td>28.868424</td>\n",
       "      <td>0.0</td>\n",
       "      <td>9414.185972</td>\n",
       "      <td>3.966582e+05</td>\n",
       "    </tr>\n",
       "    <tr>\n",
       "      <th>min</th>\n",
       "      <td>2004.000000</td>\n",
       "      <td>1.000000</td>\n",
       "      <td>100.0</td>\n",
       "      <td>16.719418</td>\n",
       "      <td>0.000000e+00</td>\n",
       "    </tr>\n",
       "    <tr>\n",
       "      <th>25%</th>\n",
       "      <td>2008.000000</td>\n",
       "      <td>25.500000</td>\n",
       "      <td>100.0</td>\n",
       "      <td>900.685515</td>\n",
       "      <td>2.340000e+03</td>\n",
       "    </tr>\n",
       "    <tr>\n",
       "      <th>50%</th>\n",
       "      <td>2008.000000</td>\n",
       "      <td>51.000000</td>\n",
       "      <td>100.0</td>\n",
       "      <td>2403.244900</td>\n",
       "      <td>7.505000e+03</td>\n",
       "    </tr>\n",
       "    <tr>\n",
       "      <th>75%</th>\n",
       "      <td>2008.000000</td>\n",
       "      <td>75.500000</td>\n",
       "      <td>100.0</td>\n",
       "      <td>7515.420900</td>\n",
       "      <td>1.838850e+04</td>\n",
       "    </tr>\n",
       "    <tr>\n",
       "      <th>max</th>\n",
       "      <td>2011.000000</td>\n",
       "      <td>100.000000</td>\n",
       "      <td>100.0</td>\n",
       "      <td>176928.550000</td>\n",
       "      <td>4.300332e+06</td>\n",
       "    </tr>\n",
       "  </tbody>\n",
       "</table>\n",
       "</div>"
      ],
      "text/plain": [
       "        year_survey      quantile  nb_quantiles         income        gdpppp\n",
       "count  11599.000000  11599.000000       11599.0   11599.000000  1.159900e+04\n",
       "mean    2007.982757     50.500819         100.0    6069.224260  4.935532e+04\n",
       "std        0.909633     28.868424           0.0    9414.185972  3.966582e+05\n",
       "min     2004.000000      1.000000         100.0      16.719418  0.000000e+00\n",
       "25%     2008.000000     25.500000         100.0     900.685515  2.340000e+03\n",
       "50%     2008.000000     51.000000         100.0    2403.244900  7.505000e+03\n",
       "75%     2008.000000     75.500000         100.0    7515.420900  1.838850e+04\n",
       "max     2011.000000    100.000000         100.0  176928.550000  4.300332e+06"
      ]
     },
     "execution_count": 9,
     "metadata": {},
     "output_type": "execute_result"
    }
   ],
   "source": [
    "data.describe()"
   ]
  },
  {
   "cell_type": "markdown",
   "metadata": {},
   "source": [
    "# Mission 1"
   ]
  },
  {
   "cell_type": "markdown",
   "metadata": {},
   "source": [
    "## Années des données utilisées"
   ]
  },
  {
   "cell_type": "markdown",
   "metadata": {},
   "source": [
    "<p> Testons d'abord que les données ont bien une année pour chaque pays : </p>"
   ]
  },
  {
   "cell_type": "code",
   "execution_count": 10,
   "metadata": {},
   "outputs": [
    {
     "name": "stdout",
     "output_type": "stream",
     "text": [
      "Le nombre de pays pour l'année 2004 est de : \n",
      "1\n",
      "Le nombre de pays pour l'année 2005 est de : \n",
      "0\n",
      "Le nombre de pays pour l'année 2006 est de : \n",
      "5\n",
      "Le nombre de pays pour l'année 2007 est de : \n",
      "15\n",
      "Le nombre de pays pour l'année 2008 est de : \n",
      "76\n",
      "Le nombre de pays pour l'année 2009 est de : \n",
      "12\n",
      "Le nombre de pays pour l'année 2010 est de : \n",
      "6\n",
      "Le nombre de pays pour l'année 2011 est de : \n",
      "1\n"
     ]
    }
   ],
   "source": [
    "for i in range(2004,2012):\n",
    "    country_year  = data[data['year_survey'] == i]\n",
    "    print(\"Le nombre de pays pour l'année {} est de : \".format(i))\n",
    "    print(len(country_year['country'].unique()))"
   ]
  },
  {
   "cell_type": "markdown",
   "metadata": {},
   "source": [
    "<p> Ce n'est pas le cas, deux solutions s'offrent donc à nous : <br/>\n",
    "<ol><li>Prendre uniquement l'année ayant le plus de pays (ici 2008) </li>\n",
    "    <li>Prendre une année par pays (mais problème dans nombre d'individus)</li></ol>\n",
    "</p>"
   ]
  },
  {
   "cell_type": "markdown",
   "metadata": {},
   "source": [
    "<p> Afin d'éviter les comparaisons d'indice de gini et de population entre plusieurs années, nous prendrons uniquement l'année 2008 pour cette étude.</p>"
   ]
  },
  {
   "cell_type": "code",
   "execution_count": 11,
   "metadata": {},
   "outputs": [],
   "source": [
    "data = data[data['year_survey'] == 2008]"
   ]
  },
  {
   "cell_type": "markdown",
   "metadata": {},
   "source": [
    "## Nombre de pays présents"
   ]
  },
  {
   "cell_type": "code",
   "execution_count": 12,
   "metadata": {},
   "outputs": [
    {
     "name": "stdout",
     "output_type": "stream",
     "text": [
      "Le nombre de pays est de :  76 pour l'année 2008\n"
     ]
    }
   ],
   "source": [
    "print('Le nombre de pays est de : ',len(data['country'].unique()), \"pour l'année 2008\")"
   ]
  },
  {
   "cell_type": "markdown",
   "metadata": {},
   "source": [
    "## Population couverte par l'analyse (%age de la population mondiale)"
   ]
  },
  {
   "cell_type": "markdown",
   "metadata": {},
   "source": [
    "<p> Pour ce pourcentage nous prendront comme base la population mondiale de chaque année concernée. Nous établierons ensuite la moyenne de toutes ces années. </p>"
   ]
  },
  {
   "cell_type": "code",
   "execution_count": 13,
   "metadata": {},
   "outputs": [
    {
     "data": {
      "text/html": [
       "<div>\n",
       "<style scoped>\n",
       "    .dataframe tbody tr th:only-of-type {\n",
       "        vertical-align: middle;\n",
       "    }\n",
       "\n",
       "    .dataframe tbody tr th {\n",
       "        vertical-align: top;\n",
       "    }\n",
       "\n",
       "    .dataframe thead th {\n",
       "        text-align: right;\n",
       "    }\n",
       "</style>\n",
       "<table border=\"1\" class=\"dataframe\">\n",
       "  <thead>\n",
       "    <tr style=\"text-align: right;\">\n",
       "      <th></th>\n",
       "      <th>Country</th>\n",
       "      <th>Countrycode3</th>\n",
       "      <th>Year</th>\n",
       "      <th>Population</th>\n",
       "      <th>PopCovr_new</th>\n",
       "    </tr>\n",
       "  </thead>\n",
       "  <tbody>\n",
       "    <tr>\n",
       "      <th>1</th>\n",
       "      <td>Afghanistan</td>\n",
       "      <td>AFG</td>\n",
       "      <td>2008</td>\n",
       "      <td>27.658890</td>\n",
       "      <td>All</td>\n",
       "    </tr>\n",
       "    <tr>\n",
       "      <th>5</th>\n",
       "      <td>Albania</td>\n",
       "      <td>ALB</td>\n",
       "      <td>2008</td>\n",
       "      <td>2.968026</td>\n",
       "      <td>All</td>\n",
       "    </tr>\n",
       "    <tr>\n",
       "      <th>10</th>\n",
       "      <td>Angola</td>\n",
       "      <td>AGO</td>\n",
       "      <td>2008</td>\n",
       "      <td>19.842251</td>\n",
       "      <td>All</td>\n",
       "    </tr>\n",
       "    <tr>\n",
       "      <th>164</th>\n",
       "      <td>Argentina</td>\n",
       "      <td>ARG</td>\n",
       "      <td>2008</td>\n",
       "      <td>40.381860</td>\n",
       "      <td>All</td>\n",
       "    </tr>\n",
       "    <tr>\n",
       "      <th>239</th>\n",
       "      <td>Armenia</td>\n",
       "      <td>ARM</td>\n",
       "      <td>2008</td>\n",
       "      <td>2.975029</td>\n",
       "      <td>All</td>\n",
       "    </tr>\n",
       "  </tbody>\n",
       "</table>\n",
       "</div>"
      ],
      "text/plain": [
       "         Country Countrycode3  Year  Population PopCovr_new\n",
       "1    Afghanistan          AFG  2008   27.658890         All\n",
       "5        Albania          ALB  2008    2.968026         All\n",
       "10        Angola          AGO  2008   19.842251         All\n",
       "164    Argentina          ARG  2008   40.381860         All\n",
       "239      Armenia          ARM  2008    2.975029         All"
      ]
     },
     "execution_count": 13,
     "metadata": {},
     "output_type": "execute_result"
    }
   ],
   "source": [
    "pop = pd.read_csv('pop.csv')\n",
    "pop = pop[pop['Year'] == 2008]\n",
    "pop = pop[['Country', 'Countrycode3', 'Year', 'Population', 'PopCovr_new']]\n",
    "pop = pop.drop_duplicates()\n",
    "pop.head()\n",
    "#A merge avec l'autre df, voir ensuite avec le % de population pour chaque pays"
   ]
  },
  {
   "cell_type": "code",
   "execution_count": 14,
   "metadata": {},
   "outputs": [
    {
     "data": {
      "text/html": [
       "<div>\n",
       "<style scoped>\n",
       "    .dataframe tbody tr th:only-of-type {\n",
       "        vertical-align: middle;\n",
       "    }\n",
       "\n",
       "    .dataframe tbody tr th {\n",
       "        vertical-align: top;\n",
       "    }\n",
       "\n",
       "    .dataframe thead th {\n",
       "        text-align: right;\n",
       "    }\n",
       "</style>\n",
       "<table border=\"1\" class=\"dataframe\">\n",
       "  <thead>\n",
       "    <tr style=\"text-align: right;\">\n",
       "      <th></th>\n",
       "      <th>code</th>\n",
       "      <th>Country</th>\n",
       "      <th>Population</th>\n",
       "    </tr>\n",
       "  </thead>\n",
       "  <tbody>\n",
       "    <tr>\n",
       "      <th>0</th>\n",
       "      <td>ALB</td>\n",
       "      <td>Albania</td>\n",
       "      <td>2.968026</td>\n",
       "    </tr>\n",
       "    <tr>\n",
       "      <th>1</th>\n",
       "      <td>ARG</td>\n",
       "      <td>Argentina</td>\n",
       "      <td>40.381860</td>\n",
       "    </tr>\n",
       "    <tr>\n",
       "      <th>2</th>\n",
       "      <td>ARM</td>\n",
       "      <td>Armenia</td>\n",
       "      <td>2.975029</td>\n",
       "    </tr>\n",
       "    <tr>\n",
       "      <th>3</th>\n",
       "      <td>AUT</td>\n",
       "      <td>Austria</td>\n",
       "      <td>8.331465</td>\n",
       "    </tr>\n",
       "    <tr>\n",
       "      <th>4</th>\n",
       "      <td>AZE</td>\n",
       "      <td>Azerbaijan</td>\n",
       "      <td>8.868713</td>\n",
       "    </tr>\n",
       "  </tbody>\n",
       "</table>\n",
       "</div>"
      ],
      "text/plain": [
       "  code     Country  Population\n",
       "0  ALB     Albania    2.968026\n",
       "1  ARG   Argentina   40.381860\n",
       "2  ARM     Armenia    2.975029\n",
       "3  AUT     Austria    8.331465\n",
       "4  AZE  Azerbaijan    8.868713"
      ]
     },
     "execution_count": 14,
     "metadata": {},
     "output_type": "execute_result"
    }
   ],
   "source": [
    "data_pop = pd.merge(data, pop, left_on=['country', 'year_survey'], \n",
    "                    right_on=['Countrycode3', 'Year'], how='left')\n",
    "data_pop = data_pop.rename(columns={'country':'code', 'year_survey':'year'})\n",
    "\n",
    "#On ne conserve que les individus dont la population couverte est all\n",
    "data_pop = data_pop[data_pop['PopCovr_new'] == 'All']\n",
    "data_pop = data_pop[['code', 'Country', 'Population']]\n",
    "\n",
    "#On groupby pour avoir une seul ligne par pays\n",
    "data_pop = data_pop.groupby(['code', 'Country', 'Population']).count()\n",
    "data_pop = data_pop.reset_index()\n",
    "\n",
    "data_pop.head()"
   ]
  },
  {
   "cell_type": "markdown",
   "metadata": {},
   "source": [
    "<p> La population totale dans le monde en 2008 était de : 6.766 Milliard selon le site : <br/> <a>https://donnees.banquemondiale.org/indicateur/sp.pop.totl?end=2017&start=2008</a>"
   ]
  },
  {
   "cell_type": "code",
   "execution_count": 15,
   "metadata": {},
   "outputs": [
    {
     "name": "stdout",
     "output_type": "stream",
     "text": [
      "Le pourcentage de population couvert par cette étude est de : 29.0 %\n"
     ]
    }
   ],
   "source": [
    "pop_tot = 6766\n",
    "print(\"Le pourcentage de population couvert par cette étude est de :\", \n",
    "      round(data_pop['Population'].sum()/pop_tot*100), \"%\")"
   ]
  },
  {
   "cell_type": "markdown",
   "metadata": {},
   "source": [
    "## De quel type de quantile s'agit-il "
   ]
  },
  {
   "cell_type": "markdown",
   "metadata": {},
   "source": [
    "<p> Les quantiles utilisés dans les données sont des centiles. <br/>\n",
    "    Le centile nous permet d'être précis dans nos calculs ; Et n'enlève pas la possibilité de prendre plus large (en décile par exemple).\n",
    "</p>"
   ]
  },
  {
   "cell_type": "markdown",
   "metadata": {},
   "source": [
    "## PPP"
   ]
  },
  {
   "cell_type": "markdown",
   "metadata": {},
   "source": [
    "<p> Le PPP (Purchasing Power Parity) permet de prendre en compte non seulement les revenus des habitant mais aussi le coût de la vie dans le pays. <br/>\n",
    "    Il est donc de ce fait beaucoup plus précis sur la richesse des habitants. </p>"
   ]
  },
  {
   "cell_type": "markdown",
   "metadata": {},
   "source": [
    "# Mission 2"
   ]
  },
  {
   "cell_type": "markdown",
   "metadata": {},
   "source": [
    "## Diversité des pays "
   ]
  },
  {
   "cell_type": "code",
   "execution_count": 16,
   "metadata": {},
   "outputs": [],
   "source": [
    "#Définition d'une fonction decile pour transformer les centiles en déciles\n",
    "def decile (value):\n",
    "    if 0<=int(value)<11 :\n",
    "        return int(1)\n",
    "    elif 11<=int(value)<21:\n",
    "        return int(2)\n",
    "    elif 21<=int(value)<31:\n",
    "        return int(3)\n",
    "    elif 31<=int(value)<41:\n",
    "        return int(4) \n",
    "    elif 41<=int(value)<51:\n",
    "        return int(5) \n",
    "    elif 51<=int(value)<61:\n",
    "        return int(6) \n",
    "    elif 61<=int(value)<71:\n",
    "        return int(7) \n",
    "    elif 71<=int(value)<81:\n",
    "        return int(8) \n",
    "    elif 81<=int(value)<91:\n",
    "        return int(9) \n",
    "    elif 91<=int(value)<101:\n",
    "        return int(10) \n",
    "    else:\n",
    "        return 'ERROR'\n",
    "    \n",
    "#Automatisation avec boucle ici ? Voir comment, chronophage à la main"
   ]
  },
  {
   "cell_type": "code",
   "execution_count": 17,
   "metadata": {},
   "outputs": [
    {
     "data": {
      "image/png": "[encoded data removed]",
      "text/plain": [
       "<Figure size 1296x720 with 1 Axes>"
      ]
     },
     "metadata": {
      "needs_background": "light"
     },
     "output_type": "display_data"
    }
   ],
   "source": [
    "np.random.seed(1)\n",
    "sample = np.random.randint(76, size=5)\n",
    "X = data['country'].unique()[sample]\n",
    "sampled_data = data[data.country.isin(X)]\n",
    "\n",
    "sampled_data = sampled_data.reset_index()\n",
    "#On applique la fonction decile au df : \n",
    "sampled_data['decile'] = sampled_data['quantile'].map(decile)\n",
    "\n",
    "sampled_crosstab = pd.crosstab(index=sampled_data[\"decile\"], \n",
    "                           columns=sampled_data[\"country\"], \n",
    "                           values=sampled_data[\"income\"],\n",
    "                          aggfunc = np.mean)\n",
    "#print(sampled_crosstab)\n",
    "sampled_crosstab.plot(kind=\"bar\", figsize=(18,10), stacked=False)\n",
    "plt.title(\"diversité des pays en termes de distribution des revenus\")\n",
    "plt.xlabel(\"Classes de revenus (déciles)\")\n",
    "plt.ylabel(\"Revenu moyen\")\n",
    "plt.yscale('log')\n",
    "plt.xticks(rotation = 'horizontal')\n",
    "plt.yticks(rotation = 'horizontal')\n",
    "plt.savefig(\"Graphiques/diversité_pays.png\")\n",
    "plt.show()"
   ]
  },
  {
   "cell_type": "markdown",
   "metadata": {},
   "source": [
    "<p> Ici les classes ont été passées en décile et non centile (pour plus de lisibilité), voir si on garde comme ça.</p>"
   ]
  },
  {
   "cell_type": "markdown",
   "metadata": {},
   "source": [
    "## Courbe de Lorenz"
   ]
  },
  {
   "cell_type": "markdown",
   "metadata": {},
   "source": [
    "### Définition de la fonction : "
   ]
  },
  {
   "cell_type": "code",
   "execution_count": 18,
   "metadata": {},
   "outputs": [],
   "source": [
    "def lorenz(df, name=None):\n",
    "    #On prend uniquement les colonnes utiles :\n",
    "    data_gini = df[['country', 'quantile', 'income']]\n",
    "    \n",
    "    #Calcul du coef de gini et courbe de Lorenz : \n",
    "    fig, ax = plt.subplots(figsize=[12,12])\n",
    "    for pays in data_gini['country'].unique():\n",
    "        #Gini\n",
    "        array = data_gini[data_gini['country'] == pays]['income']\n",
    "        array = np.sort(array) #values must be sorted\n",
    "        index = np.arange(1,array.shape[0]+1) #index per array element\n",
    "        n = array.shape[0]#number of array elements\n",
    "        coef = ((np.sum((2 * index - n  - 1) * array)) / (n * np.sum(array)))\n",
    "        \n",
    "        #Courbe de Lorenz\n",
    "        data_lorenz = data_gini[data_gini['country'] == pays]['income'].sort_values()\n",
    "        data_lorenz = data_lorenz.cumsum() / data_lorenz.sum()\n",
    "\n",
    "        ## Mise en place de la courbe\n",
    "        ax.plot(np.arange(data_lorenz.size)/(data_lorenz.size-1)*100, data_lorenz*100, \n",
    "                    label=pays)\n",
    "\n",
    "        ## courbe à coéfficient d'égalité : \n",
    "        ax.plot([0,100], [0,100], color='black')\n",
    "        plt.title(\"Courbe de Lorenz\")\n",
    "        plt.xlabel(\"Part cumulée de la population\")\n",
    "        plt.ylabel(\"Part cumulée des revenus\")\n",
    "        plt.legend()\n",
    "    plt.savefig(\"Graphiques/courbes_de_lorenz.png\")\n",
    "    plt.show()"
   ]
  },
  {
   "cell_type": "markdown",
   "metadata": {},
   "source": [
    "### Les courbes "
   ]
  },
  {
   "cell_type": "code",
   "execution_count": 19,
   "metadata": {
    "scrolled": false
   },
   "outputs": [
    {
     "data": {
      "image/png": "[encoded data removed]",
      "text/plain": [
       "<Figure size 864x864 with 1 Axes>"
      ]
     },
     "metadata": {
      "needs_background": "light"
     },
     "output_type": "display_data"
    }
   ],
   "source": [
    "lorenz(sampled_data)"
   ]
  },
  {
   "cell_type": "markdown",
   "metadata": {},
   "source": [
    "## Evolution de l'indice de Gini au fil des ans "
   ]
  },
  {
   "cell_type": "markdown",
   "metadata": {},
   "source": [
    "<p> Pour cette question nous allons prendre le fichier traité dans le fichier \"gini\" </p>"
   ]
  },
  {
   "cell_type": "code",
   "execution_count": 20,
   "metadata": {},
   "outputs": [
    {
     "data": {
      "text/html": [
       "<div>\n",
       "<style scoped>\n",
       "    .dataframe tbody tr th:only-of-type {\n",
       "        vertical-align: middle;\n",
       "    }\n",
       "\n",
       "    .dataframe tbody tr th {\n",
       "        vertical-align: top;\n",
       "    }\n",
       "\n",
       "    .dataframe thead th {\n",
       "        text-align: right;\n",
       "    }\n",
       "</style>\n",
       "<table border=\"1\" class=\"dataframe\">\n",
       "  <thead>\n",
       "    <tr style=\"text-align: right;\">\n",
       "      <th></th>\n",
       "      <th>Country</th>\n",
       "      <th>Countrycode3</th>\n",
       "      <th>Year</th>\n",
       "      <th>Gini</th>\n",
       "    </tr>\n",
       "  </thead>\n",
       "  <tbody>\n",
       "    <tr>\n",
       "      <th>0</th>\n",
       "      <td>Afghanistan</td>\n",
       "      <td>AFG</td>\n",
       "      <td>2007</td>\n",
       "      <td>29.00</td>\n",
       "    </tr>\n",
       "    <tr>\n",
       "      <th>1</th>\n",
       "      <td>Afghanistan</td>\n",
       "      <td>AFG</td>\n",
       "      <td>2008</td>\n",
       "      <td>27.80</td>\n",
       "    </tr>\n",
       "    <tr>\n",
       "      <th>2</th>\n",
       "      <td>Albania</td>\n",
       "      <td>ALB</td>\n",
       "      <td>1996</td>\n",
       "      <td>28.00</td>\n",
       "    </tr>\n",
       "    <tr>\n",
       "      <th>3</th>\n",
       "      <td>Albania</td>\n",
       "      <td>ALB</td>\n",
       "      <td>2002</td>\n",
       "      <td>31.74</td>\n",
       "    </tr>\n",
       "    <tr>\n",
       "      <th>4</th>\n",
       "      <td>Albania</td>\n",
       "      <td>ALB</td>\n",
       "      <td>2005</td>\n",
       "      <td>30.60</td>\n",
       "    </tr>\n",
       "  </tbody>\n",
       "</table>\n",
       "</div>"
      ],
      "text/plain": [
       "       Country Countrycode3  Year   Gini\n",
       "0  Afghanistan          AFG  2007  29.00\n",
       "1  Afghanistan          AFG  2008  27.80\n",
       "2      Albania          ALB  1996  28.00\n",
       "3      Albania          ALB  2002  31.74\n",
       "4      Albania          ALB  2005  30.60"
      ]
     },
     "execution_count": 20,
     "metadata": {},
     "output_type": "execute_result"
    }
   ],
   "source": [
    "indice_gini = pd.read_csv(\"gini.csv\")\n",
    "indice_gini = indice_gini[['Country', 'Countrycode3', 'Year', 'Gini']]\n",
    "indice_gini = indice_gini.groupby(['Country','Countrycode3', 'Year']).mean()\n",
    "indice_gini = indice_gini.reset_index()\n",
    "indice_gini.head()"
   ]
  },
  {
   "cell_type": "markdown",
   "metadata": {},
   "source": [
    "Les indices sont ici multipliés par 100, attention si courbes de Lorenz après."
   ]
  },
  {
   "cell_type": "code",
   "execution_count": 21,
   "metadata": {},
   "outputs": [
    {
     "data": {
      "text/html": [
       "<div>\n",
       "<style scoped>\n",
       "    .dataframe tbody tr th:only-of-type {\n",
       "        vertical-align: middle;\n",
       "    }\n",
       "\n",
       "    .dataframe tbody tr th {\n",
       "        vertical-align: top;\n",
       "    }\n",
       "\n",
       "    .dataframe thead th {\n",
       "        text-align: right;\n",
       "    }\n",
       "</style>\n",
       "<table border=\"1\" class=\"dataframe\">\n",
       "  <thead>\n",
       "    <tr style=\"text-align: right;\">\n",
       "      <th></th>\n",
       "      <th>Country</th>\n",
       "      <th>Countrycode3</th>\n",
       "      <th>Year</th>\n",
       "      <th>Gini</th>\n",
       "    </tr>\n",
       "  </thead>\n",
       "  <tbody>\n",
       "    <tr>\n",
       "      <th>371</th>\n",
       "      <td>Brazil</td>\n",
       "      <td>BRA</td>\n",
       "      <td>1958</td>\n",
       "      <td>49.100000</td>\n",
       "    </tr>\n",
       "    <tr>\n",
       "      <th>372</th>\n",
       "      <td>Brazil</td>\n",
       "      <td>BRA</td>\n",
       "      <td>1960</td>\n",
       "      <td>54.184615</td>\n",
       "    </tr>\n",
       "    <tr>\n",
       "      <th>373</th>\n",
       "      <td>Brazil</td>\n",
       "      <td>BRA</td>\n",
       "      <td>1970</td>\n",
       "      <td>57.418182</td>\n",
       "    </tr>\n",
       "    <tr>\n",
       "      <th>374</th>\n",
       "      <td>Brazil</td>\n",
       "      <td>BRA</td>\n",
       "      <td>1972</td>\n",
       "      <td>61.000000</td>\n",
       "    </tr>\n",
       "    <tr>\n",
       "      <th>375</th>\n",
       "      <td>Brazil</td>\n",
       "      <td>BRA</td>\n",
       "      <td>1974</td>\n",
       "      <td>55.300000</td>\n",
       "    </tr>\n",
       "  </tbody>\n",
       "</table>\n",
       "</div>"
      ],
      "text/plain": [
       "    Country Countrycode3  Year       Gini\n",
       "371  Brazil          BRA  1958  49.100000\n",
       "372  Brazil          BRA  1960  54.184615\n",
       "373  Brazil          BRA  1970  57.418182\n",
       "374  Brazil          BRA  1972  61.000000\n",
       "375  Brazil          BRA  1974  55.300000"
      ]
     },
     "execution_count": 21,
     "metadata": {},
     "output_type": "execute_result"
    }
   ],
   "source": [
    "sampled_gini = indice_gini[indice_gini[\"Countrycode3\"].isin(X)]\n",
    "sampled_gini.head()"
   ]
  },
  {
   "cell_type": "code",
   "execution_count": 22,
   "metadata": {},
   "outputs": [
    {
     "data": {
      "image/png": "[encoded data removed]",
      "text/plain": [
       "<Figure size 864x576 with 1 Axes>"
      ]
     },
     "metadata": {
      "needs_background": "light"
     },
     "output_type": "display_data"
    }
   ],
   "source": [
    "plt.figure(figsize=[12,8])\n",
    "for pays in sampled_gini['Country'].unique():    \n",
    "    Y = sampled_gini[sampled_gini['Country'] == pays]\n",
    "    plt.plot(Y['Year'], Y['Gini'], label=pays)\n",
    "    plt.title(\"Evolution de l'indice de Gini (5 Pays)\")\n",
    "    plt.xlabel('Année')\n",
    "    plt.ylabel('Gini')\n",
    "    plt.legend(handlelength = 1)\n",
    "    #On set la limit au min et max des 5 pays pour avoir la même échelle\n",
    "    plt.ylim(sampled_gini['Gini'].min()-3,sampled_gini['Gini'].max()+3)\n",
    "    plt.xlim(Y['Year'].min()-10, Y['Year'].max()+10)\n",
    "plt.savefig('Graphiques/evolution_gini.png')\n",
    "plt.show()"
   ]
  },
  {
   "cell_type": "markdown",
   "metadata": {},
   "source": [
    "## Classement des pays par indice de Gini "
   ]
  },
  {
   "cell_type": "markdown",
   "metadata": {},
   "source": [
    "### Calcul des indices de Gini pour chaque pays "
   ]
  },
  {
   "cell_type": "markdown",
   "metadata": {},
   "source": [
    "On se sert du fichier indice_gini pour récupérer les indices"
   ]
  },
  {
   "cell_type": "code",
   "execution_count": 23,
   "metadata": {},
   "outputs": [
    {
     "data": {
      "text/html": [
       "<div>\n",
       "<style scoped>\n",
       "    .dataframe tbody tr th:only-of-type {\n",
       "        vertical-align: middle;\n",
       "    }\n",
       "\n",
       "    .dataframe tbody tr th {\n",
       "        vertical-align: top;\n",
       "    }\n",
       "\n",
       "    .dataframe thead th {\n",
       "        text-align: right;\n",
       "    }\n",
       "</style>\n",
       "<table border=\"1\" class=\"dataframe\">\n",
       "  <thead>\n",
       "    <tr style=\"text-align: right;\">\n",
       "      <th></th>\n",
       "      <th>Country</th>\n",
       "      <th>code</th>\n",
       "      <th>annee</th>\n",
       "      <th>quantile</th>\n",
       "      <th>nb_quantiles</th>\n",
       "      <th>income</th>\n",
       "      <th>gdpppp</th>\n",
       "      <th>Gini</th>\n",
       "    </tr>\n",
       "  </thead>\n",
       "  <tbody>\n",
       "    <tr>\n",
       "      <th>0</th>\n",
       "      <td>Albania</td>\n",
       "      <td>ALB</td>\n",
       "      <td>2008</td>\n",
       "      <td>1</td>\n",
       "      <td>100</td>\n",
       "      <td>728.89795</td>\n",
       "      <td>7297.0</td>\n",
       "      <td>29.98</td>\n",
       "    </tr>\n",
       "    <tr>\n",
       "      <th>1</th>\n",
       "      <td>Albania</td>\n",
       "      <td>ALB</td>\n",
       "      <td>2008</td>\n",
       "      <td>2</td>\n",
       "      <td>100</td>\n",
       "      <td>916.66235</td>\n",
       "      <td>7297.0</td>\n",
       "      <td>29.98</td>\n",
       "    </tr>\n",
       "    <tr>\n",
       "      <th>2</th>\n",
       "      <td>Albania</td>\n",
       "      <td>ALB</td>\n",
       "      <td>2008</td>\n",
       "      <td>3</td>\n",
       "      <td>100</td>\n",
       "      <td>1010.91600</td>\n",
       "      <td>7297.0</td>\n",
       "      <td>29.98</td>\n",
       "    </tr>\n",
       "    <tr>\n",
       "      <th>3</th>\n",
       "      <td>Albania</td>\n",
       "      <td>ALB</td>\n",
       "      <td>2008</td>\n",
       "      <td>4</td>\n",
       "      <td>100</td>\n",
       "      <td>1086.90780</td>\n",
       "      <td>7297.0</td>\n",
       "      <td>29.98</td>\n",
       "    </tr>\n",
       "    <tr>\n",
       "      <th>4</th>\n",
       "      <td>Albania</td>\n",
       "      <td>ALB</td>\n",
       "      <td>2008</td>\n",
       "      <td>5</td>\n",
       "      <td>100</td>\n",
       "      <td>1132.69970</td>\n",
       "      <td>7297.0</td>\n",
       "      <td>29.98</td>\n",
       "    </tr>\n",
       "  </tbody>\n",
       "</table>\n",
       "</div>"
      ],
      "text/plain": [
       "   Country code  annee  quantile  nb_quantiles      income  gdpppp   Gini\n",
       "0  Albania  ALB   2008         1           100   728.89795  7297.0  29.98\n",
       "1  Albania  ALB   2008         2           100   916.66235  7297.0  29.98\n",
       "2  Albania  ALB   2008         3           100  1010.91600  7297.0  29.98\n",
       "3  Albania  ALB   2008         4           100  1086.90780  7297.0  29.98\n",
       "4  Albania  ALB   2008         5           100  1132.69970  7297.0  29.98"
      ]
     },
     "execution_count": 23,
     "metadata": {},
     "output_type": "execute_result"
    }
   ],
   "source": [
    "data_gini = pd.merge(data, indice_gini, left_on=['country', 'year_survey'], \n",
    "                     right_on=['Countrycode3', 'Year'], how='left')\n",
    "data_gini = data_gini[['Country', 'country', 'year_survey', \n",
    "                       'quantile', 'nb_quantiles', 'income', \n",
    "                       'gdpppp', 'Gini']]\n",
    "data_gini = data_gini.rename(columns={'country':'code', 'year_survey':'annee'})\n",
    "data_gini.head()"
   ]
  },
  {
   "cell_type": "code",
   "execution_count": 24,
   "metadata": {},
   "outputs": [
    {
     "data": {
      "text/html": [
       "<div>\n",
       "<style scoped>\n",
       "    .dataframe tbody tr th:only-of-type {\n",
       "        vertical-align: middle;\n",
       "    }\n",
       "\n",
       "    .dataframe tbody tr th {\n",
       "        vertical-align: top;\n",
       "    }\n",
       "\n",
       "    .dataframe thead th {\n",
       "        text-align: right;\n",
       "    }\n",
       "</style>\n",
       "<table border=\"1\" class=\"dataframe\">\n",
       "  <thead>\n",
       "    <tr style=\"text-align: right;\">\n",
       "      <th></th>\n",
       "      <th>Country</th>\n",
       "      <th>annee</th>\n",
       "      <th>quantile</th>\n",
       "      <th>nb_quantiles</th>\n",
       "      <th>income</th>\n",
       "      <th>gdpppp</th>\n",
       "      <th>Gini</th>\n",
       "    </tr>\n",
       "    <tr>\n",
       "      <th>code</th>\n",
       "      <th></th>\n",
       "      <th></th>\n",
       "      <th></th>\n",
       "      <th></th>\n",
       "      <th></th>\n",
       "      <th></th>\n",
       "      <th></th>\n",
       "    </tr>\n",
       "  </thead>\n",
       "  <tbody>\n",
       "    <tr>\n",
       "      <th>COD</th>\n",
       "      <td>0</td>\n",
       "      <td>100</td>\n",
       "      <td>100</td>\n",
       "      <td>100</td>\n",
       "      <td>100</td>\n",
       "      <td>100</td>\n",
       "      <td>0</td>\n",
       "    </tr>\n",
       "    <tr>\n",
       "      <th>IRN</th>\n",
       "      <td>0</td>\n",
       "      <td>100</td>\n",
       "      <td>100</td>\n",
       "      <td>100</td>\n",
       "      <td>100</td>\n",
       "      <td>100</td>\n",
       "      <td>0</td>\n",
       "    </tr>\n",
       "    <tr>\n",
       "      <th>IRQ</th>\n",
       "      <td>0</td>\n",
       "      <td>100</td>\n",
       "      <td>100</td>\n",
       "      <td>100</td>\n",
       "      <td>100</td>\n",
       "      <td>100</td>\n",
       "      <td>0</td>\n",
       "    </tr>\n",
       "    <tr>\n",
       "      <th>PAK</th>\n",
       "      <td>0</td>\n",
       "      <td>100</td>\n",
       "      <td>100</td>\n",
       "      <td>100</td>\n",
       "      <td>100</td>\n",
       "      <td>100</td>\n",
       "      <td>0</td>\n",
       "    </tr>\n",
       "    <tr>\n",
       "      <th>XKX</th>\n",
       "      <td>0</td>\n",
       "      <td>100</td>\n",
       "      <td>100</td>\n",
       "      <td>100</td>\n",
       "      <td>100</td>\n",
       "      <td>100</td>\n",
       "      <td>0</td>\n",
       "    </tr>\n",
       "    <tr>\n",
       "      <th>YEM</th>\n",
       "      <td>0</td>\n",
       "      <td>100</td>\n",
       "      <td>100</td>\n",
       "      <td>100</td>\n",
       "      <td>100</td>\n",
       "      <td>100</td>\n",
       "      <td>0</td>\n",
       "    </tr>\n",
       "  </tbody>\n",
       "</table>\n",
       "</div>"
      ],
      "text/plain": [
       "      Country  annee  quantile  nb_quantiles  income  gdpppp  Gini\n",
       "code                                                              \n",
       "COD         0    100       100           100     100     100     0\n",
       "IRN         0    100       100           100     100     100     0\n",
       "IRQ         0    100       100           100     100     100     0\n",
       "PAK         0    100       100           100     100     100     0\n",
       "XKX         0    100       100           100     100     100     0\n",
       "YEM         0    100       100           100     100     100     0"
      ]
     },
     "execution_count": 24,
     "metadata": {},
     "output_type": "execute_result"
    }
   ],
   "source": [
    "data_gini[pd.isna(data_gini['Gini'])].groupby(['code']).count()"
   ]
  },
  {
   "cell_type": "markdown",
   "metadata": {},
   "source": [
    "<p> 6 Pays du fichier n'ont pas d'indice de Gini (indice manquant dans le fichier source). </p>\n",
    "<p> Nous allons donc devoir le calculer directement </p>"
   ]
  },
  {
   "cell_type": "code",
   "execution_count": 25,
   "metadata": {},
   "outputs": [],
   "source": [
    "def calcul_gini(code):\n",
    "    array = data_gini[data_gini['code'] == code]['income']\n",
    "    array = np.sort(array) #On sort les valeurs\n",
    "    index = np.arange(1,array.shape[0]+1) \n",
    "    n = array.shape[0]  \n",
    "    return ((np.sum((2 * index - n  - 1) * array)) / (n * np.sum(array)))"
   ]
  },
  {
   "cell_type": "code",
   "execution_count": 26,
   "metadata": {},
   "outputs": [],
   "source": [
    "data_gini.loc[data_gini['code'] == 'COD', 'Gini'] = calcul_gini('COD')\n",
    "data_gini.loc[data_gini['code'] == 'COD', 'Country'] = 'Congo, Democratic republic of the'\n",
    "\n",
    "data_gini.loc[data_gini['code'] == 'IRN', 'Gini'] = calcul_gini('IRN')\n",
    "data_gini.loc[data_gini['code'] == 'IRN', 'Country'] = 'Iran'\n",
    "\n",
    "data_gini.loc[data_gini['code'] == 'IRQ', 'Gini'] = calcul_gini('IRQ')\n",
    "data_gini.loc[data_gini['code'] == 'IRQ', 'Country'] = 'Irak'\n",
    "\n",
    "data_gini.loc[data_gini['code'] == 'PAK', 'Gini'] = calcul_gini('PAK')\n",
    "data_gini.loc[data_gini['code'] == 'PAK', 'Country'] = 'Pakistan'\n",
    "\n",
    "data_gini.loc[data_gini['code'] == 'XKX', 'Gini'] = calcul_gini('XKX')\n",
    "data_gini.loc[data_gini['code'] == 'XKX', 'Country'] = 'Unknown'\n",
    "\n",
    "data_gini.loc[data_gini['code'] == 'YEM', 'Gini'] = calcul_gini('YEM')\n",
    "data_gini.loc[data_gini['code'] == 'YEM', 'Country'] = 'Yemen'\n",
    "\n",
    "data_gini.loc[data_gini['code'] == 'XKX', 'Gini'] = calcul_gini('XKX')\n",
    "data_gini.loc[data_gini['code'] == 'XKX', 'Country'] = 'Kosovo'\n",
    "#On peut surement le faire avec une boucle, voir ça plus tard"
   ]
  },
  {
   "cell_type": "markdown",
   "metadata": {},
   "source": [
    "#### Moyenne et pays avec le plus bas indice de Gini"
   ]
  },
  {
   "cell_type": "code",
   "execution_count": 27,
   "metadata": {},
   "outputs": [
    {
     "name": "stdout",
     "output_type": "stream",
     "text": [
      "La moyenne de tous les indices est de :  35\n",
      "\n",
      "\n",
      "Voici le df des 5 pays ayant l'indice le plus faible :\n"
     ]
    },
    {
     "data": {
      "text/html": [
       "<div>\n",
       "<style scoped>\n",
       "    .dataframe tbody tr th:only-of-type {\n",
       "        vertical-align: middle;\n",
       "    }\n",
       "\n",
       "    .dataframe tbody tr th {\n",
       "        vertical-align: top;\n",
       "    }\n",
       "\n",
       "    .dataframe thead th {\n",
       "        text-align: right;\n",
       "    }\n",
       "</style>\n",
       "<table border=\"1\" class=\"dataframe\">\n",
       "  <thead>\n",
       "    <tr style=\"text-align: right;\">\n",
       "      <th></th>\n",
       "      <th></th>\n",
       "      <th>annee</th>\n",
       "      <th>quantile</th>\n",
       "      <th>nb_quantiles</th>\n",
       "      <th>income</th>\n",
       "      <th>gdpppp</th>\n",
       "      <th>Gini</th>\n",
       "    </tr>\n",
       "    <tr>\n",
       "      <th>Country</th>\n",
       "      <th>code</th>\n",
       "      <th></th>\n",
       "      <th></th>\n",
       "      <th></th>\n",
       "      <th></th>\n",
       "      <th></th>\n",
       "      <th></th>\n",
       "    </tr>\n",
       "  </thead>\n",
       "  <tbody>\n",
       "    <tr>\n",
       "      <th>Pakistan</th>\n",
       "      <th>PAK</th>\n",
       "      <td>2008.0</td>\n",
       "      <td>50.5</td>\n",
       "      <td>100.0</td>\n",
       "      <td>887.839279</td>\n",
       "      <td>2335.0</td>\n",
       "      <td>0.299937</td>\n",
       "    </tr>\n",
       "    <tr>\n",
       "      <th>Kosovo</th>\n",
       "      <th>XKX</th>\n",
       "      <td>2008.0</td>\n",
       "      <td>50.5</td>\n",
       "      <td>100.0</td>\n",
       "      <td>2176.269035</td>\n",
       "      <td>0.0</td>\n",
       "      <td>0.314475</td>\n",
       "    </tr>\n",
       "    <tr>\n",
       "      <th>Irak</th>\n",
       "      <th>IRQ</th>\n",
       "      <td>2008.0</td>\n",
       "      <td>50.5</td>\n",
       "      <td>100.0</td>\n",
       "      <td>1705.512343</td>\n",
       "      <td>3171.0</td>\n",
       "      <td>0.360083</td>\n",
       "    </tr>\n",
       "    <tr>\n",
       "      <th>Yemen</th>\n",
       "      <th>YEM</th>\n",
       "      <td>2008.0</td>\n",
       "      <td>50.5</td>\n",
       "      <td>100.0</td>\n",
       "      <td>1042.635870</td>\n",
       "      <td>2224.0</td>\n",
       "      <td>0.374161</td>\n",
       "    </tr>\n",
       "    <tr>\n",
       "      <th>Iran</th>\n",
       "      <th>IRN</th>\n",
       "      <td>2008.0</td>\n",
       "      <td>50.5</td>\n",
       "      <td>100.0</td>\n",
       "      <td>5832.655501</td>\n",
       "      <td>10446.0</td>\n",
       "      <td>0.434374</td>\n",
       "    </tr>\n",
       "  </tbody>\n",
       "</table>\n",
       "</div>"
      ],
      "text/plain": [
       "                annee  quantile  nb_quantiles       income   gdpppp      Gini\n",
       "Country  code                                                                \n",
       "Pakistan PAK   2008.0      50.5         100.0   887.839279   2335.0  0.299937\n",
       "Kosovo   XKX   2008.0      50.5         100.0  2176.269035      0.0  0.314475\n",
       "Irak     IRQ   2008.0      50.5         100.0  1705.512343   3171.0  0.360083\n",
       "Yemen    YEM   2008.0      50.5         100.0  1042.635870   2224.0  0.374161\n",
       "Iran     IRN   2008.0      50.5         100.0  5832.655501  10446.0  0.434374"
      ]
     },
     "execution_count": 27,
     "metadata": {},
     "output_type": "execute_result"
    }
   ],
   "source": [
    "data_gini_sorted_low = data_gini.groupby(['Country', 'code']).mean().sort_values(by='Gini')\n",
    "\n",
    "print(\"La moyenne de tous les indices est de : \", round(data_gini_sorted_low['Gini'].mean()))\n",
    "print(\"\\n\")\n",
    "print(\"Voici le df des 5 pays ayant l'indice le plus faible :\")\n",
    "data_gini_sorted_low[0:5]"
   ]
  },
  {
   "cell_type": "markdown",
   "metadata": {},
   "source": [
    "#### Pays avec le plus haut indice de Gini"
   ]
  },
  {
   "cell_type": "code",
   "execution_count": 28,
   "metadata": {},
   "outputs": [
    {
     "name": "stdout",
     "output_type": "stream",
     "text": [
      "Voici le df des 5 pays ayant l'indice le plus fort :\n"
     ]
    },
    {
     "data": {
      "text/html": [
       "<div>\n",
       "<style scoped>\n",
       "    .dataframe tbody tr th:only-of-type {\n",
       "        vertical-align: middle;\n",
       "    }\n",
       "\n",
       "    .dataframe tbody tr th {\n",
       "        vertical-align: top;\n",
       "    }\n",
       "\n",
       "    .dataframe thead th {\n",
       "        text-align: right;\n",
       "    }\n",
       "</style>\n",
       "<table border=\"1\" class=\"dataframe\">\n",
       "  <thead>\n",
       "    <tr style=\"text-align: right;\">\n",
       "      <th></th>\n",
       "      <th></th>\n",
       "      <th>annee</th>\n",
       "      <th>quantile</th>\n",
       "      <th>nb_quantiles</th>\n",
       "      <th>income</th>\n",
       "      <th>gdpppp</th>\n",
       "      <th>Gini</th>\n",
       "    </tr>\n",
       "    <tr>\n",
       "      <th>Country</th>\n",
       "      <th>code</th>\n",
       "      <th></th>\n",
       "      <th></th>\n",
       "      <th></th>\n",
       "      <th></th>\n",
       "      <th></th>\n",
       "      <th></th>\n",
       "    </tr>\n",
       "  </thead>\n",
       "  <tbody>\n",
       "    <tr>\n",
       "      <th>South Africa</th>\n",
       "      <th>ZAF</th>\n",
       "      <td>2008.0</td>\n",
       "      <td>50.5</td>\n",
       "      <td>100.0</td>\n",
       "      <td>5617.904880</td>\n",
       "      <td>9602.0</td>\n",
       "      <td>64.355000</td>\n",
       "    </tr>\n",
       "    <tr>\n",
       "      <th>Central African Republic</th>\n",
       "      <th>CAF</th>\n",
       "      <td>2008.0</td>\n",
       "      <td>50.5</td>\n",
       "      <td>100.0</td>\n",
       "      <td>811.299901</td>\n",
       "      <td>685.0</td>\n",
       "      <td>56.240000</td>\n",
       "    </tr>\n",
       "    <tr>\n",
       "      <th>Brazil</th>\n",
       "      <th>BRA</th>\n",
       "      <td>2008.0</td>\n",
       "      <td>50.5</td>\n",
       "      <td>100.0</td>\n",
       "      <td>4807.484594</td>\n",
       "      <td>9559.0</td>\n",
       "      <td>55.278333</td>\n",
       "    </tr>\n",
       "    <tr>\n",
       "      <th>Honduras</th>\n",
       "      <th>HND</th>\n",
       "      <td>2008.0</td>\n",
       "      <td>50.5</td>\n",
       "      <td>100.0</td>\n",
       "      <td>3296.268419</td>\n",
       "      <td>3628.0</td>\n",
       "      <td>55.046667</td>\n",
       "    </tr>\n",
       "    <tr>\n",
       "      <th>Colombia</th>\n",
       "      <th>COL</th>\n",
       "      <td>2008.0</td>\n",
       "      <td>50.5</td>\n",
       "      <td>100.0</td>\n",
       "      <td>3547.005276</td>\n",
       "      <td>8185.0</td>\n",
       "      <td>53.760000</td>\n",
       "    </tr>\n",
       "  </tbody>\n",
       "</table>\n",
       "</div>"
      ],
      "text/plain": [
       "                                annee  quantile  nb_quantiles       income  \\\n",
       "Country                  code                                                \n",
       "South Africa             ZAF   2008.0      50.5         100.0  5617.904880   \n",
       "Central African Republic CAF   2008.0      50.5         100.0   811.299901   \n",
       "Brazil                   BRA   2008.0      50.5         100.0  4807.484594   \n",
       "Honduras                 HND   2008.0      50.5         100.0  3296.268419   \n",
       "Colombia                 COL   2008.0      50.5         100.0  3547.005276   \n",
       "\n",
       "                               gdpppp       Gini  \n",
       "Country                  code                     \n",
       "South Africa             ZAF   9602.0  64.355000  \n",
       "Central African Republic CAF    685.0  56.240000  \n",
       "Brazil                   BRA   9559.0  55.278333  \n",
       "Honduras                 HND   3628.0  55.046667  \n",
       "Colombia                 COL   8185.0  53.760000  "
      ]
     },
     "execution_count": 28,
     "metadata": {},
     "output_type": "execute_result"
    }
   ],
   "source": [
    "data_gini_sorted_high = data_gini.groupby(['Country', 'code']).mean().sort_values(by='Gini', ascending=False)\n",
    "\n",
    "print(\"Voici le df des 5 pays ayant l'indice le plus fort :\")\n",
    "data_gini_sorted_high[0:5]"
   ]
  },
  {
   "cell_type": "markdown",
   "metadata": {},
   "source": [
    "#### Position de la France dans le classement :"
   ]
  },
  {
   "cell_type": "code",
   "execution_count": 29,
   "metadata": {},
   "outputs": [
    {
     "data": {
      "text/html": [
       "<div>\n",
       "<style scoped>\n",
       "    .dataframe tbody tr th:only-of-type {\n",
       "        vertical-align: middle;\n",
       "    }\n",
       "\n",
       "    .dataframe tbody tr th {\n",
       "        vertical-align: top;\n",
       "    }\n",
       "\n",
       "    .dataframe thead th {\n",
       "        text-align: right;\n",
       "    }\n",
       "</style>\n",
       "<table border=\"1\" class=\"dataframe\">\n",
       "  <thead>\n",
       "    <tr style=\"text-align: right;\">\n",
       "      <th></th>\n",
       "      <th>Country</th>\n",
       "      <th>code</th>\n",
       "      <th>annee</th>\n",
       "      <th>quantile</th>\n",
       "      <th>nb_quantiles</th>\n",
       "      <th>income</th>\n",
       "      <th>gdpppp</th>\n",
       "      <th>Gini</th>\n",
       "    </tr>\n",
       "  </thead>\n",
       "  <tbody>\n",
       "    <tr>\n",
       "      <th>39</th>\n",
       "      <td>France</td>\n",
       "      <td>FRA</td>\n",
       "      <td>2008.0</td>\n",
       "      <td>50.5</td>\n",
       "      <td>100.0</td>\n",
       "      <td>18309.407545</td>\n",
       "      <td>30357.0</td>\n",
       "      <td>35.12</td>\n",
       "    </tr>\n",
       "  </tbody>\n",
       "</table>\n",
       "</div>"
      ],
      "text/plain": [
       "   Country code   annee  quantile  nb_quantiles        income   gdpppp   Gini\n",
       "39  France  FRA  2008.0      50.5         100.0  18309.407545  30357.0  35.12"
      ]
     },
     "execution_count": 29,
     "metadata": {},
     "output_type": "execute_result"
    }
   ],
   "source": [
    "data_gini_fr = data_gini.groupby(['Country', 'code']).mean().sort_values(by='Gini')\n",
    "data_gini_fr = data_gini_fr.reset_index()\n",
    "\n",
    "data_gini_fr[data_gini_fr['Country'] == 'France']"
   ]
  },
  {
   "cell_type": "markdown",
   "metadata": {},
   "source": [
    "<p> L'index de la France est le 39, elle est donc 40eme dans le classement </p>"
   ]
  },
  {
   "cell_type": "markdown",
   "metadata": {},
   "source": [
    "# Mission 3"
   ]
  },
  {
   "cell_type": "code",
   "execution_count": 30,
   "metadata": {},
   "outputs": [
    {
     "data": {
      "image/png": "[encoded data removed]",
      "text/plain": [
       "<Figure size 432x288 with 1 Axes>"
      ]
     },
     "metadata": {
      "needs_background": "light"
     },
     "output_type": "display_data"
    }
   ],
   "source": [
    "elasticite = pd.read_csv('coef_elasticite.csv')\n",
    "elasticite = elasticite.drop(columns=['region', 'Cores2125_MAcatC1', 'Shortfall0611_obs', \n",
    "                                      'Shortfall0611_IGP', 'Shortfall1217_obs', \n",
    "                                      'Shortfall1217_IGP', 'S1', 'S2', 'S3', 'MLD_psu', \n",
    "                                      'survey', 'ThreeGen_IGPgsd', 'All2125_MEANp', \n",
    "                                      'All2125_IGP', 'All2125_IGP', 'All2125_MAcatC1', \n",
    "                                      'Cores2125_MEANp', 'Asher_Q4_IGpri', \n",
    "                                      'ThreeGen_IGPp1', 'ThreeGen_IGPg1', \n",
    "                                      'All2125_MEANc', 'Cores2125_MEANc', \n",
    "                                      'Cores2125_IGP','fragile', 'Q4_IGpri', \n",
    "                                      'BHQ1', 'BHQ2', 'BHQ3', 'BHQ4', 'Q4BH', 'Delta50', \n",
    "                                      'IGP', 'NL1', 'NL2', 'COR', 'MAcatM', 'MAcatC1', \n",
    "                                      'Q4child', 'ThreeGen_obs', 'C3', 'C4', 'C5', \n",
    "                                      'MEANp', 'MEANc', 'SDp', 'SDc', 'P1', 'P2', 'P3', \n",
    "                                      'P4', 'P5', 'C1', 'C2', 'GINIp', 'GINIc', 'cohort'])\n",
    "#Faire ça autrement, ça prend trop de temps de tout enlever à la main comme ça\n",
    "\n",
    "elasticite = elasticite.groupby(['countryname', 'iso3', 'IGEincome']).count()\n",
    "elasticite = elasticite.reset_index()\n",
    "elasticite = elasticite[['iso3', 'IGEincome']]\n",
    "elasticite = elasticite.rename(columns={'IGEincome':'coef_elastic'})\n",
    "plt.hist(elasticite['coef_elastic'])\n",
    "plt.show()"
   ]
  },
  {
   "cell_type": "markdown",
   "metadata": {},
   "source": [
    "Les coefficients datent de 1970, impossible de trouver des données plus récentes."
   ]
  },
  {
   "cell_type": "code",
   "execution_count": 31,
   "metadata": {},
   "outputs": [
    {
     "data": {
      "text/plain": [
       "True"
      ]
     },
     "execution_count": 31,
     "metadata": {},
     "output_type": "execute_result"
    }
   ],
   "source": [
    "data_ela = pd.merge(data_gini, elasticite, how='left', left_on=\"code\", right_on=\"iso3\")\n",
    "data_ela = data_ela[['Country', 'code', 'annee', 'quantile', 'nb_quantiles', 'income', \n",
    "                       'gdpppp', 'Gini', 'coef_elastic']]\n",
    "\n",
    "any(pd.isnull(data_ela))"
   ]
  },
  {
   "cell_type": "markdown",
   "metadata": {},
   "source": [
    "On a donc des pays qui ne sont pas dans elasticite, il va falloir calculer un coef d'elasticité pour ces pays là"
   ]
  },
  {
   "cell_type": "code",
   "execution_count": 32,
   "metadata": {},
   "outputs": [
    {
     "data": {
      "text/plain": [
       "33.0"
      ]
     },
     "execution_count": 32,
     "metadata": {},
     "output_type": "execute_result"
    }
   ],
   "source": [
    "(data_ela['coef_elastic'].isnull().sum()+1)/100 #+1 car on part de 0, /100 parce qu'on a 100 centiles par pays"
   ]
  },
  {
   "cell_type": "markdown",
   "metadata": {},
   "source": [
    "33 Pays n'ont donc pas de valeur en coef elastic"
   ]
  },
  {
   "cell_type": "code",
   "execution_count": 33,
   "metadata": {
    "scrolled": true
   },
   "outputs": [
    {
     "data": {
      "text/html": [
       "<div>\n",
       "<style scoped>\n",
       "    .dataframe tbody tr th:only-of-type {\n",
       "        vertical-align: middle;\n",
       "    }\n",
       "\n",
       "    .dataframe tbody tr th {\n",
       "        vertical-align: top;\n",
       "    }\n",
       "\n",
       "    .dataframe thead th {\n",
       "        text-align: right;\n",
       "    }\n",
       "</style>\n",
       "<table border=\"1\" class=\"dataframe\">\n",
       "  <thead>\n",
       "    <tr style=\"text-align: right;\">\n",
       "      <th></th>\n",
       "      <th>code</th>\n",
       "      <th>annee</th>\n",
       "      <th>quantile</th>\n",
       "      <th>nb_quantiles</th>\n",
       "      <th>income</th>\n",
       "      <th>gdpppp</th>\n",
       "      <th>Gini</th>\n",
       "      <th>coef_elastic</th>\n",
       "    </tr>\n",
       "    <tr>\n",
       "      <th>Country</th>\n",
       "      <th></th>\n",
       "      <th></th>\n",
       "      <th></th>\n",
       "      <th></th>\n",
       "      <th></th>\n",
       "      <th></th>\n",
       "      <th></th>\n",
       "      <th></th>\n",
       "    </tr>\n",
       "  </thead>\n",
       "  <tbody>\n",
       "    <tr>\n",
       "      <th>Argentina</th>\n",
       "      <td>100</td>\n",
       "      <td>100</td>\n",
       "      <td>100</td>\n",
       "      <td>100</td>\n",
       "      <td>100</td>\n",
       "      <td>100</td>\n",
       "      <td>100</td>\n",
       "      <td>0</td>\n",
       "    </tr>\n",
       "    <tr>\n",
       "      <th>Armenia</th>\n",
       "      <td>100</td>\n",
       "      <td>100</td>\n",
       "      <td>100</td>\n",
       "      <td>100</td>\n",
       "      <td>100</td>\n",
       "      <td>100</td>\n",
       "      <td>100</td>\n",
       "      <td>0</td>\n",
       "    </tr>\n",
       "    <tr>\n",
       "      <th>Azerbaijan</th>\n",
       "      <td>100</td>\n",
       "      <td>100</td>\n",
       "      <td>100</td>\n",
       "      <td>100</td>\n",
       "      <td>100</td>\n",
       "      <td>100</td>\n",
       "      <td>100</td>\n",
       "      <td>0</td>\n",
       "    </tr>\n",
       "    <tr>\n",
       "      <th>Bulgaria</th>\n",
       "      <td>100</td>\n",
       "      <td>100</td>\n",
       "      <td>100</td>\n",
       "      <td>100</td>\n",
       "      <td>100</td>\n",
       "      <td>100</td>\n",
       "      <td>100</td>\n",
       "      <td>0</td>\n",
       "    </tr>\n",
       "    <tr>\n",
       "      <th>Cambodia</th>\n",
       "      <td>100</td>\n",
       "      <td>100</td>\n",
       "      <td>100</td>\n",
       "      <td>100</td>\n",
       "      <td>100</td>\n",
       "      <td>100</td>\n",
       "      <td>100</td>\n",
       "      <td>0</td>\n",
       "    </tr>\n",
       "  </tbody>\n",
       "</table>\n",
       "</div>"
      ],
      "text/plain": [
       "            code  annee  quantile  nb_quantiles  income  gdpppp  Gini  \\\n",
       "Country                                                                 \n",
       "Argentina    100    100       100           100     100     100   100   \n",
       "Armenia      100    100       100           100     100     100   100   \n",
       "Azerbaijan   100    100       100           100     100     100   100   \n",
       "Bulgaria     100    100       100           100     100     100   100   \n",
       "Cambodia     100    100       100           100     100     100   100   \n",
       "\n",
       "            coef_elastic  \n",
       "Country                   \n",
       "Argentina              0  \n",
       "Armenia                0  \n",
       "Azerbaijan             0  \n",
       "Bulgaria               0  \n",
       "Cambodia               0  "
      ]
     },
     "execution_count": 33,
     "metadata": {},
     "output_type": "execute_result"
    }
   ],
   "source": [
    "#Visualisons les valeurs NaN : \n",
    "nan_rows = data_ela[data_ela.isnull().T.any().T]\n",
    "nan_rows.groupby('Country').count().head()"
   ]
  },
  {
   "cell_type": "markdown",
   "metadata": {},
   "source": [
    "<p> Afin de récupérer une approximation du coef elastic des pays, nous allons ajouter la sous région et le continent au df ; Ensuite nous affecterons la moyenne de la sous région (ou du continent, selon ce qui est le mieux) comme coef : </p>"
   ]
  },
  {
   "cell_type": "code",
   "execution_count": 34,
   "metadata": {
    "scrolled": true
   },
   "outputs": [
    {
     "data": {
      "text/html": [
       "<div>\n",
       "<style scoped>\n",
       "    .dataframe tbody tr th:only-of-type {\n",
       "        vertical-align: middle;\n",
       "    }\n",
       "\n",
       "    .dataframe tbody tr th {\n",
       "        vertical-align: top;\n",
       "    }\n",
       "\n",
       "    .dataframe thead th {\n",
       "        text-align: right;\n",
       "    }\n",
       "</style>\n",
       "<table border=\"1\" class=\"dataframe\">\n",
       "  <thead>\n",
       "    <tr style=\"text-align: right;\">\n",
       "      <th></th>\n",
       "      <th>country</th>\n",
       "      <th>code_3</th>\n",
       "      <th>sub_region</th>\n",
       "      <th>continent</th>\n",
       "    </tr>\n",
       "  </thead>\n",
       "  <tbody>\n",
       "    <tr>\n",
       "      <th>0</th>\n",
       "      <td>Afghanistan</td>\n",
       "      <td>AFG</td>\n",
       "      <td>Southern Asia</td>\n",
       "      <td>Asia</td>\n",
       "    </tr>\n",
       "    <tr>\n",
       "      <th>1</th>\n",
       "      <td>Åland Islands</td>\n",
       "      <td>ALA</td>\n",
       "      <td>Northern Europe</td>\n",
       "      <td>Europe</td>\n",
       "    </tr>\n",
       "    <tr>\n",
       "      <th>2</th>\n",
       "      <td>Albania</td>\n",
       "      <td>ALB</td>\n",
       "      <td>Southern Europe</td>\n",
       "      <td>Europe</td>\n",
       "    </tr>\n",
       "    <tr>\n",
       "      <th>3</th>\n",
       "      <td>Algeria</td>\n",
       "      <td>DZA</td>\n",
       "      <td>Northern Africa</td>\n",
       "      <td>Africa</td>\n",
       "    </tr>\n",
       "    <tr>\n",
       "      <th>4</th>\n",
       "      <td>American Samoa</td>\n",
       "      <td>ASM</td>\n",
       "      <td>Polynesia</td>\n",
       "      <td>Oceania</td>\n",
       "    </tr>\n",
       "  </tbody>\n",
       "</table>\n",
       "</div>"
      ],
      "text/plain": [
       "          country code_3       sub_region continent\n",
       "0     Afghanistan    AFG    Southern Asia      Asia\n",
       "1   Åland Islands    ALA  Northern Europe    Europe\n",
       "2         Albania    ALB  Southern Europe    Europe\n",
       "3         Algeria    DZA  Northern Africa    Africa\n",
       "4  American Samoa    ASM        Polynesia   Oceania"
      ]
     },
     "execution_count": 34,
     "metadata": {},
     "output_type": "execute_result"
    }
   ],
   "source": [
    "country_region = pd.read_csv('countryContinent.csv', encoding='latin')\n",
    "country_region = country_region[['country', 'code_3', 'sub_region', 'continent']]\n",
    "\n",
    "country_region.head()"
   ]
  },
  {
   "cell_type": "markdown",
   "metadata": {},
   "source": [
    "Les données sont issues de Kaggle : <br/> https://www.kaggle.com/statchaitya/country-to-continent"
   ]
  },
  {
   "cell_type": "code",
   "execution_count": 35,
   "metadata": {},
   "outputs": [
    {
     "name": "stdout",
     "output_type": "stream",
     "text": [
      "True\n"
     ]
    }
   ],
   "source": [
    "data_coef_ = pd.merge(data_ela, country_region, how='left', left_on='code', right_on='code_3')\n",
    "data_coef_ = data_coef_[['Country', 'code', 'annee', 'quantile', 'nb_quantiles', 'income', \n",
    "                         'gdpppp', 'Gini', 'coef_elastic', 'sub_region', 'continent']]\n",
    "print(any(pd.isnull(data_coef_['sub_region'])))"
   ]
  },
  {
   "cell_type": "markdown",
   "metadata": {},
   "source": [
    "<p> Après vérification, le Kosovo n'est pas enregistré, nous allons donc le paramétrer à la main : </p>"
   ]
  },
  {
   "cell_type": "code",
   "execution_count": 36,
   "metadata": {},
   "outputs": [
    {
     "name": "stdout",
     "output_type": "stream",
     "text": [
      "False\n"
     ]
    }
   ],
   "source": [
    "data_coef_.loc[data_gini['code'] == 'XKX', 'continent'] = 'Europe'\n",
    "data_coef_.loc[data_gini['code'] == 'XKX', 'sub_region'] = 'Southern Europe'\n",
    "print(any(pd.isnull(data_coef_['sub_region'])))"
   ]
  },
  {
   "cell_type": "markdown",
   "metadata": {},
   "source": [
    "On peut désormais remplacer les valeurs NaN par la moyenne de chaque région : "
   ]
  },
  {
   "cell_type": "code",
   "execution_count": 37,
   "metadata": {},
   "outputs": [
    {
     "data": {
      "text/html": [
       "<div>\n",
       "<style scoped>\n",
       "    .dataframe tbody tr th:only-of-type {\n",
       "        vertical-align: middle;\n",
       "    }\n",
       "\n",
       "    .dataframe tbody tr th {\n",
       "        vertical-align: top;\n",
       "    }\n",
       "\n",
       "    .dataframe thead th {\n",
       "        text-align: right;\n",
       "    }\n",
       "</style>\n",
       "<table border=\"1\" class=\"dataframe\">\n",
       "  <thead>\n",
       "    <tr style=\"text-align: right;\">\n",
       "      <th></th>\n",
       "      <th></th>\n",
       "      <th>annee</th>\n",
       "      <th>quantile</th>\n",
       "      <th>nb_quantiles</th>\n",
       "      <th>income</th>\n",
       "      <th>gdpppp</th>\n",
       "      <th>Gini</th>\n",
       "      <th>coef_elastic</th>\n",
       "    </tr>\n",
       "    <tr>\n",
       "      <th>continent</th>\n",
       "      <th>sub_region</th>\n",
       "      <th></th>\n",
       "      <th></th>\n",
       "      <th></th>\n",
       "      <th></th>\n",
       "      <th></th>\n",
       "      <th></th>\n",
       "      <th></th>\n",
       "    </tr>\n",
       "  </thead>\n",
       "  <tbody>\n",
       "    <tr>\n",
       "      <th rowspan=\"4\" valign=\"top\">Africa</th>\n",
       "      <th>Eastern Africa</th>\n",
       "      <td>2008.0</td>\n",
       "      <td>50.50000</td>\n",
       "      <td>100.0</td>\n",
       "      <td>692.480501</td>\n",
       "      <td>7.730000e+02</td>\n",
       "      <td>42.945000</td>\n",
       "      <td>NaN</td>\n",
       "    </tr>\n",
       "    <tr>\n",
       "      <th>Middle Africa</th>\n",
       "      <td>2008.0</td>\n",
       "      <td>50.50000</td>\n",
       "      <td>100.0</td>\n",
       "      <td>543.657972</td>\n",
       "      <td>4.940965e+02</td>\n",
       "      <td>28.341998</td>\n",
       "      <td>0.707703</td>\n",
       "    </tr>\n",
       "    <tr>\n",
       "      <th>Southern Africa</th>\n",
       "      <td>2008.0</td>\n",
       "      <td>50.50000</td>\n",
       "      <td>100.0</td>\n",
       "      <td>5617.904880</td>\n",
       "      <td>9.602000e+03</td>\n",
       "      <td>64.355000</td>\n",
       "      <td>0.677000</td>\n",
       "    </tr>\n",
       "    <tr>\n",
       "      <th>Western Africa</th>\n",
       "      <td>2008.0</td>\n",
       "      <td>50.50000</td>\n",
       "      <td>100.0</td>\n",
       "      <td>1099.222144</td>\n",
       "      <td>1.876367e+03</td>\n",
       "      <td>40.392500</td>\n",
       "      <td>NaN</td>\n",
       "    </tr>\n",
       "    <tr>\n",
       "      <th rowspan=\"4\" valign=\"top\">Americas</th>\n",
       "      <th>Caribbean</th>\n",
       "      <td>2008.0</td>\n",
       "      <td>50.50000</td>\n",
       "      <td>100.0</td>\n",
       "      <td>3558.402105</td>\n",
       "      <td>7.505000e+03</td>\n",
       "      <td>50.716667</td>\n",
       "      <td>NaN</td>\n",
       "    </tr>\n",
       "    <tr>\n",
       "      <th>Central America</th>\n",
       "      <td>2008.0</td>\n",
       "      <td>50.50000</td>\n",
       "      <td>100.0</td>\n",
       "      <td>3904.427515</td>\n",
       "      <td>8.426500e+03</td>\n",
       "      <td>49.319167</td>\n",
       "      <td>NaN</td>\n",
       "    </tr>\n",
       "    <tr>\n",
       "      <th>Northern America</th>\n",
       "      <td>2008.0</td>\n",
       "      <td>50.50000</td>\n",
       "      <td>100.0</td>\n",
       "      <td>24621.611090</td>\n",
       "      <td>3.957800e+04</td>\n",
       "      <td>40.800000</td>\n",
       "      <td>0.403499</td>\n",
       "    </tr>\n",
       "    <tr>\n",
       "      <th>South America</th>\n",
       "      <td>2008.0</td>\n",
       "      <td>50.50000</td>\n",
       "      <td>100.0</td>\n",
       "      <td>4062.722325</td>\n",
       "      <td>8.295125e+03</td>\n",
       "      <td>49.395500</td>\n",
       "      <td>0.858733</td>\n",
       "    </tr>\n",
       "    <tr>\n",
       "      <th rowspan=\"5\" valign=\"top\">Asia</th>\n",
       "      <th>Central Asia</th>\n",
       "      <td>2008.0</td>\n",
       "      <td>50.50000</td>\n",
       "      <td>100.0</td>\n",
       "      <td>2006.184508</td>\n",
       "      <td>6.256000e+03</td>\n",
       "      <td>30.192500</td>\n",
       "      <td>0.295433</td>\n",
       "    </tr>\n",
       "    <tr>\n",
       "      <th>Eastern Asia</th>\n",
       "      <td>2008.0</td>\n",
       "      <td>50.50000</td>\n",
       "      <td>100.0</td>\n",
       "      <td>16386.918100</td>\n",
       "      <td>2.527033e+04</td>\n",
       "      <td>32.718333</td>\n",
       "      <td>0.305000</td>\n",
       "    </tr>\n",
       "    <tr>\n",
       "      <th>South-Eastern Asia</th>\n",
       "      <td>2008.0</td>\n",
       "      <td>50.50000</td>\n",
       "      <td>100.0</td>\n",
       "      <td>1486.340247</td>\n",
       "      <td>1.802000e+03</td>\n",
       "      <td>35.100000</td>\n",
       "      <td>NaN</td>\n",
       "    </tr>\n",
       "    <tr>\n",
       "      <th>Southern Asia</th>\n",
       "      <td>2008.0</td>\n",
       "      <td>50.50000</td>\n",
       "      <td>100.0</td>\n",
       "      <td>3360.247390</td>\n",
       "      <td>6.390500e+03</td>\n",
       "      <td>0.367155</td>\n",
       "      <td>0.450500</td>\n",
       "    </tr>\n",
       "    <tr>\n",
       "      <th>Western Asia</th>\n",
       "      <td>2008.0</td>\n",
       "      <td>50.50000</td>\n",
       "      <td>100.0</td>\n",
       "      <td>5071.391170</td>\n",
       "      <td>1.029144e+04</td>\n",
       "      <td>28.131472</td>\n",
       "      <td>0.429699</td>\n",
       "    </tr>\n",
       "    <tr>\n",
       "      <th rowspan=\"4\" valign=\"top\">Europe</th>\n",
       "      <th>Eastern Europe</th>\n",
       "      <td>2008.0</td>\n",
       "      <td>50.50000</td>\n",
       "      <td>100.0</td>\n",
       "      <td>5105.474446</td>\n",
       "      <td>1.378590e+04</td>\n",
       "      <td>31.903283</td>\n",
       "      <td>0.414511</td>\n",
       "    </tr>\n",
       "    <tr>\n",
       "      <th>Northern Europe</th>\n",
       "      <td>2008.0</td>\n",
       "      <td>50.50951</td>\n",
       "      <td>100.0</td>\n",
       "      <td>15952.682569</td>\n",
       "      <td>3.131174e+04</td>\n",
       "      <td>33.468358</td>\n",
       "      <td>0.334797</td>\n",
       "    </tr>\n",
       "    <tr>\n",
       "      <th>Southern Europe</th>\n",
       "      <td>2008.0</td>\n",
       "      <td>50.50000</td>\n",
       "      <td>100.0</td>\n",
       "      <td>8262.615999</td>\n",
       "      <td>1.699064e+04</td>\n",
       "      <td>31.086270</td>\n",
       "      <td>0.439281</td>\n",
       "    </tr>\n",
       "    <tr>\n",
       "      <th>Western Europe</th>\n",
       "      <td>2008.0</td>\n",
       "      <td>50.50000</td>\n",
       "      <td>100.0</td>\n",
       "      <td>18496.590650</td>\n",
       "      <td>4.084350e+04</td>\n",
       "      <td>33.590000</td>\n",
       "      <td>0.284700</td>\n",
       "    </tr>\n",
       "    <tr>\n",
       "      <th>Oceania</th>\n",
       "      <th>Melanesia</th>\n",
       "      <td>2008.0</td>\n",
       "      <td>50.50000</td>\n",
       "      <td>100.0</td>\n",
       "      <td>2098.730882</td>\n",
       "      <td>4.300332e+06</td>\n",
       "      <td>42.780000</td>\n",
       "      <td>NaN</td>\n",
       "    </tr>\n",
       "  </tbody>\n",
       "</table>\n",
       "</div>"
      ],
      "text/plain": [
       "                               annee  quantile  nb_quantiles        income  \\\n",
       "continent sub_region                                                         \n",
       "Africa    Eastern Africa      2008.0  50.50000         100.0    692.480501   \n",
       "          Middle Africa       2008.0  50.50000         100.0    543.657972   \n",
       "          Southern Africa     2008.0  50.50000         100.0   5617.904880   \n",
       "          Western Africa      2008.0  50.50000         100.0   1099.222144   \n",
       "Americas  Caribbean           2008.0  50.50000         100.0   3558.402105   \n",
       "          Central America     2008.0  50.50000         100.0   3904.427515   \n",
       "          Northern America    2008.0  50.50000         100.0  24621.611090   \n",
       "          South America       2008.0  50.50000         100.0   4062.722325   \n",
       "Asia      Central Asia        2008.0  50.50000         100.0   2006.184508   \n",
       "          Eastern Asia        2008.0  50.50000         100.0  16386.918100   \n",
       "          South-Eastern Asia  2008.0  50.50000         100.0   1486.340247   \n",
       "          Southern Asia       2008.0  50.50000         100.0   3360.247390   \n",
       "          Western Asia        2008.0  50.50000         100.0   5071.391170   \n",
       "Europe    Eastern Europe      2008.0  50.50000         100.0   5105.474446   \n",
       "          Northern Europe     2008.0  50.50951         100.0  15952.682569   \n",
       "          Southern Europe     2008.0  50.50000         100.0   8262.615999   \n",
       "          Western Europe      2008.0  50.50000         100.0  18496.590650   \n",
       "Oceania   Melanesia           2008.0  50.50000         100.0   2098.730882   \n",
       "\n",
       "                                    gdpppp       Gini  coef_elastic  \n",
       "continent sub_region                                                 \n",
       "Africa    Eastern Africa      7.730000e+02  42.945000           NaN  \n",
       "          Middle Africa       4.940965e+02  28.341998      0.707703  \n",
       "          Southern Africa     9.602000e+03  64.355000      0.677000  \n",
       "          Western Africa      1.876367e+03  40.392500           NaN  \n",
       "Americas  Caribbean           7.505000e+03  50.716667           NaN  \n",
       "          Central America     8.426500e+03  49.319167           NaN  \n",
       "          Northern America    3.957800e+04  40.800000      0.403499  \n",
       "          South America       8.295125e+03  49.395500      0.858733  \n",
       "Asia      Central Asia        6.256000e+03  30.192500      0.295433  \n",
       "          Eastern Asia        2.527033e+04  32.718333      0.305000  \n",
       "          South-Eastern Asia  1.802000e+03  35.100000           NaN  \n",
       "          Southern Asia       6.390500e+03   0.367155      0.450500  \n",
       "          Western Asia        1.029144e+04  28.131472      0.429699  \n",
       "Europe    Eastern Europe      1.378590e+04  31.903283      0.414511  \n",
       "          Northern Europe     3.131174e+04  33.468358      0.334797  \n",
       "          Southern Europe     1.699064e+04  31.086270      0.439281  \n",
       "          Western Europe      4.084350e+04  33.590000      0.284700  \n",
       "Oceania   Melanesia           4.300332e+06  42.780000           NaN  "
      ]
     },
     "execution_count": 37,
     "metadata": {},
     "output_type": "execute_result"
    }
   ],
   "source": [
    "coef_mean = data_coef_.groupby(['continent','sub_region']).mean()\n",
    "\n",
    "coef_mean"
   ]
  },
  {
   "cell_type": "markdown",
   "metadata": {},
   "source": [
    "On peut voir ici que certaines sous région n'ont pas de valeur pour le coef, on va donc devoir prendre les continents. <br/>\n",
    "Concernant l'Océanie, il faudra trouver la valeur ailleurs"
   ]
  },
  {
   "cell_type": "code",
   "execution_count": 38,
   "metadata": {},
   "outputs": [
    {
     "data": {
      "text/html": [
       "<div>\n",
       "<style scoped>\n",
       "    .dataframe tbody tr th:only-of-type {\n",
       "        vertical-align: middle;\n",
       "    }\n",
       "\n",
       "    .dataframe tbody tr th {\n",
       "        vertical-align: top;\n",
       "    }\n",
       "\n",
       "    .dataframe thead th {\n",
       "        text-align: right;\n",
       "    }\n",
       "</style>\n",
       "<table border=\"1\" class=\"dataframe\">\n",
       "  <thead>\n",
       "    <tr style=\"text-align: right;\">\n",
       "      <th></th>\n",
       "      <th>continent</th>\n",
       "      <th>coef_elastic</th>\n",
       "    </tr>\n",
       "  </thead>\n",
       "  <tbody>\n",
       "    <tr>\n",
       "      <th>0</th>\n",
       "      <td>Africa</td>\n",
       "      <td>0.692351</td>\n",
       "    </tr>\n",
       "    <tr>\n",
       "      <th>1</th>\n",
       "      <td>Americas</td>\n",
       "      <td>0.728666</td>\n",
       "    </tr>\n",
       "    <tr>\n",
       "      <th>2</th>\n",
       "      <td>Asia</td>\n",
       "      <td>0.351970</td>\n",
       "    </tr>\n",
       "    <tr>\n",
       "      <th>3</th>\n",
       "      <td>Europe</td>\n",
       "      <td>0.370715</td>\n",
       "    </tr>\n",
       "    <tr>\n",
       "      <th>4</th>\n",
       "      <td>Oceania</td>\n",
       "      <td>NaN</td>\n",
       "    </tr>\n",
       "  </tbody>\n",
       "</table>\n",
       "</div>"
      ],
      "text/plain": [
       "  continent  coef_elastic\n",
       "0    Africa      0.692351\n",
       "1  Americas      0.728666\n",
       "2      Asia      0.351970\n",
       "3    Europe      0.370715\n",
       "4   Oceania           NaN"
      ]
     },
     "execution_count": 38,
     "metadata": {},
     "output_type": "execute_result"
    }
   ],
   "source": [
    "coef_mean = data_coef_.groupby(['continent']).mean()\n",
    "coef_mean = coef_mean.reset_index()\n",
    "coef_mean = coef_mean[['continent', 'coef_elastic']]\n",
    "\n",
    "coef_mean"
   ]
  },
  {
   "cell_type": "markdown",
   "metadata": {},
   "source": [
    "<p> Concernant l'Océanie, nous allons devoir prendre une valeur arbitraire, prenons donc le base case donné dans le fichier elasticity.txt du sujet : <br/>\n",
    "    Australia/New Zealand/USA : 0.4"
   ]
  },
  {
   "cell_type": "code",
   "execution_count": 39,
   "metadata": {},
   "outputs": [],
   "source": [
    "coef_mean.loc[coef_mean.continent == 'Oceania', 'coef_elastic'] = 0.4"
   ]
  },
  {
   "cell_type": "code",
   "execution_count": 40,
   "metadata": {},
   "outputs": [
    {
     "data": {
      "text/html": [
       "<div>\n",
       "<style scoped>\n",
       "    .dataframe tbody tr th:only-of-type {\n",
       "        vertical-align: middle;\n",
       "    }\n",
       "\n",
       "    .dataframe tbody tr th {\n",
       "        vertical-align: top;\n",
       "    }\n",
       "\n",
       "    .dataframe thead th {\n",
       "        text-align: right;\n",
       "    }\n",
       "</style>\n",
       "<table border=\"1\" class=\"dataframe\">\n",
       "  <thead>\n",
       "    <tr style=\"text-align: right;\">\n",
       "      <th></th>\n",
       "      <th>Country</th>\n",
       "      <th>code</th>\n",
       "      <th>annee</th>\n",
       "      <th>quantile</th>\n",
       "      <th>nb_quantiles</th>\n",
       "      <th>income</th>\n",
       "      <th>gdpppp</th>\n",
       "      <th>Gini</th>\n",
       "      <th>coef_elastic</th>\n",
       "      <th>sub_region</th>\n",
       "      <th>continent</th>\n",
       "    </tr>\n",
       "  </thead>\n",
       "  <tbody>\n",
       "    <tr>\n",
       "      <th>0</th>\n",
       "      <td>Albania</td>\n",
       "      <td>ALB</td>\n",
       "      <td>2008</td>\n",
       "      <td>1</td>\n",
       "      <td>100</td>\n",
       "      <td>728.89795</td>\n",
       "      <td>7297.0</td>\n",
       "      <td>29.98</td>\n",
       "      <td>0.815874</td>\n",
       "      <td>Southern Europe</td>\n",
       "      <td>Europe</td>\n",
       "    </tr>\n",
       "    <tr>\n",
       "      <th>1</th>\n",
       "      <td>Albania</td>\n",
       "      <td>ALB</td>\n",
       "      <td>2008</td>\n",
       "      <td>2</td>\n",
       "      <td>100</td>\n",
       "      <td>916.66235</td>\n",
       "      <td>7297.0</td>\n",
       "      <td>29.98</td>\n",
       "      <td>0.815874</td>\n",
       "      <td>Southern Europe</td>\n",
       "      <td>Europe</td>\n",
       "    </tr>\n",
       "    <tr>\n",
       "      <th>2</th>\n",
       "      <td>Albania</td>\n",
       "      <td>ALB</td>\n",
       "      <td>2008</td>\n",
       "      <td>3</td>\n",
       "      <td>100</td>\n",
       "      <td>1010.91600</td>\n",
       "      <td>7297.0</td>\n",
       "      <td>29.98</td>\n",
       "      <td>0.815874</td>\n",
       "      <td>Southern Europe</td>\n",
       "      <td>Europe</td>\n",
       "    </tr>\n",
       "    <tr>\n",
       "      <th>3</th>\n",
       "      <td>Albania</td>\n",
       "      <td>ALB</td>\n",
       "      <td>2008</td>\n",
       "      <td>4</td>\n",
       "      <td>100</td>\n",
       "      <td>1086.90780</td>\n",
       "      <td>7297.0</td>\n",
       "      <td>29.98</td>\n",
       "      <td>0.815874</td>\n",
       "      <td>Southern Europe</td>\n",
       "      <td>Europe</td>\n",
       "    </tr>\n",
       "    <tr>\n",
       "      <th>4</th>\n",
       "      <td>Albania</td>\n",
       "      <td>ALB</td>\n",
       "      <td>2008</td>\n",
       "      <td>5</td>\n",
       "      <td>100</td>\n",
       "      <td>1132.69970</td>\n",
       "      <td>7297.0</td>\n",
       "      <td>29.98</td>\n",
       "      <td>0.815874</td>\n",
       "      <td>Southern Europe</td>\n",
       "      <td>Europe</td>\n",
       "    </tr>\n",
       "  </tbody>\n",
       "</table>\n",
       "</div>"
      ],
      "text/plain": [
       "   Country code  annee  quantile  nb_quantiles      income  gdpppp   Gini  \\\n",
       "0  Albania  ALB   2008         1           100   728.89795  7297.0  29.98   \n",
       "1  Albania  ALB   2008         2           100   916.66235  7297.0  29.98   \n",
       "2  Albania  ALB   2008         3           100  1010.91600  7297.0  29.98   \n",
       "3  Albania  ALB   2008         4           100  1086.90780  7297.0  29.98   \n",
       "4  Albania  ALB   2008         5           100  1132.69970  7297.0  29.98   \n",
       "\n",
       "   coef_elastic       sub_region continent  \n",
       "0      0.815874  Southern Europe    Europe  \n",
       "1      0.815874  Southern Europe    Europe  \n",
       "2      0.815874  Southern Europe    Europe  \n",
       "3      0.815874  Southern Europe    Europe  \n",
       "4      0.815874  Southern Europe    Europe  "
      ]
     },
     "execution_count": 40,
     "metadata": {},
     "output_type": "execute_result"
    }
   ],
   "source": [
    "#On applique ensuite les coefs au df :\n",
    "data_coef = data_coef_.copy()\n",
    "means = data_coef.groupby('continent')['coef_elastic'].transform(np.mean)\n",
    "filled_means = means.fillna(1)\n",
    "data_coef['coef_elastic'] = data_coef['coef_elastic'].fillna(filled_means)\n",
    "\n",
    "data_coef.head()"
   ]
  },
  {
   "cell_type": "markdown",
   "metadata": {},
   "source": [
    "<p> Nous n'avons plus de valeur NaN pour le coef elastique </p>"
   ]
  },
  {
   "cell_type": "markdown",
   "metadata": {},
   "source": [
    "## Définition des fonctions :"
   ]
  },
  {
   "cell_type": "code",
   "execution_count": 41,
   "metadata": {},
   "outputs": [],
   "source": [
    "import scipy.stats as st\n",
    "from collections import Counter "
   ]
  },
  {
   "cell_type": "code",
   "execution_count": 42,
   "metadata": {},
   "outputs": [],
   "source": [
    "#Question 1 à 3 :\n",
    "def generate_incomes(n, pj):\n",
    "    ln_y_parent = st.norm(0,1).rvs(size=n)\n",
    "    \n",
    "    residues = st.norm(0,1).rvs(size=n)\n",
    "    \n",
    "    return np.exp(pj*ln_y_parent + residues), np.exp(ln_y_parent)\n",
    "\n",
    "#Question 4 :\n",
    "#Cette fonction permet de mettre chaque valeur dans son quantile respectif (en fonction du nombre de quantile)\n",
    "def quantiles(l, nb_quantiles):\n",
    "    size = len(l)\n",
    "    l_sorted = l.copy()\n",
    "    l_sorted = l_sorted.sort_values()\n",
    "    quantiles = np.round(np.arange(1, nb_quantiles+1, nb_quantiles/size) -0.5 +1./size)\n",
    "    q_dict = {a:int(b) for a, b in zip(l_sorted, quantiles)}\n",
    "    return pd.Series([q_dict[e] for e in l])\n",
    "\n",
    "#Cette fonction permet d'associer chaque revenu des parents et enfants en une classe de revenus\n",
    "#Selon le nombre de quantile\n",
    "def compute_quantiles(y_child, y_parents, nb_quantiles):\n",
    "    y_child = pd.Series(y_child)\n",
    "    y_parents = pd.Series(y_parents)\n",
    "    c_i_child = quantiles(y_child, nb_quantiles)\n",
    "    c_i_parent = quantiles(y_parents, nb_quantiles)\n",
    "    sample = pd.concat([y_child, y_parents, c_i_child, c_i_parent], axis=1)\n",
    "    sample.columns = ['y_child', 'y_parents', 'c_i_child', 'c_i_parent']\n",
    "    return sample\n",
    "\n",
    "\n",
    "#Question 5 :\n",
    "#Permet un calcul de la distribution de chaque quantile enfant par rapport au quantile parent \n",
    "def distribution(counts, nb_quantiles):\n",
    "    distrib = []\n",
    "    total = counts['counts'].sum()\n",
    "    \n",
    "    if total == 0:\n",
    "        return [0] * nb_quantiles\n",
    "    \n",
    "    for q_p in range(1, nb_quantiles+1):\n",
    "        subset = counts[counts.c_i_parent == q_p]\n",
    "        if len(subset):\n",
    "            nb = subset['counts'].values[0]\n",
    "            distrib += [nb/total]\n",
    "        else :\n",
    "            distrib += [0]\n",
    "    \n",
    "    return distrib\n",
    "\n",
    "#Calcul de la distribution conditionnelle : \n",
    "def conditional_distributions(sample, nb_quantiles):\n",
    "    counts = sample.groupby(['c_i_child', 'c_i_parent']).apply(len)\n",
    "    counts = counts.reset_index()\n",
    "    counts.columns = ['c_i_child', 'c_i_parent', 'counts']\n",
    "    \n",
    "    mat = []\n",
    "    for child_quantile in np.arange(nb_quantiles)+1:\n",
    "        subset = counts[counts.c_i_child == child_quantile]\n",
    "        mat += [distribution(subset, nb_quantiles)]\n",
    "    \n",
    "    return np.array(mat)\n",
    "\n",
    "#Question 6 :\n",
    "#Plot de la distribution conditionnelle :\n",
    "def plot_conditional_distributions(p, cd, nb_quantiles):\n",
    "    plt.figure()\n",
    "    cumul = np.array([0]*nb_quantiles)\n",
    "    \n",
    "    for i, child_quantile in enumerate(cd):\n",
    "        plt.bar(np.arange(nb_quantiles)+1, child_quantile, bottom = cumul, \n",
    "                width = 0.95, label = str(i+1) + 'e')\n",
    "        cumul = cumul + np.array(child_quantile)\n",
    "        plt.axis([.5, nb_quantiles*1.3, 0, 1])\n",
    "        plt.title('P='+str(p))\n",
    "        plt.legend()\n",
    "        plt.xlabel('quantile parents')\n",
    "        plt.ylabel('Probabilité du quantile enfant')\n",
    "        plt.show()\n",
    "\n",
    "#Calcul de la probabilité conditionnelle :\n",
    "def proba_cond(c_i_parent, c_i_child, mat):\n",
    "    return mat[c_i_child, c_i_parent]\n",
    "\n"
   ]
  },
  {
   "cell_type": "markdown",
   "metadata": {},
   "source": [
    "## Question 1 à 6 :"
   ]
  },
  {
   "cell_type": "code",
   "execution_count": 43,
   "metadata": {
    "scrolled": true
   },
   "outputs": [
    {
     "name": "stdout",
     "output_type": "stream",
     "text": [
      "[0.68746667 0.63034084 6.14434149 ... 1.64701442 0.86777549 1.52721795]\n",
      "[0.20154935 0.2281323  1.62173384 ... 0.63305753 2.5038885  5.80479444]\n",
      "\n",
      "P(c_i_parent = 8 | c_i_child = 5, pj = 0.9) = 0.024\n"
     ]
    }
   ],
   "source": [
    "#Question 1 à 2 :\n",
    "pj = 0.9\n",
    "nb_quantiles = 100\n",
    "n = 1000*nb_quantiles\n",
    "\n",
    "#Question 3 : \n",
    "y_child, y_parents = generate_incomes(n, pj)\n",
    "\n",
    "#Question 4 :\n",
    "sample = compute_quantiles(y_child, y_parents, nb_quantiles)\n",
    "\n",
    "#Question 5 :\n",
    "cd = conditional_distributions(sample, nb_quantiles)\n",
    "\n",
    "#plot_conditional_distributions(pj, cd, nb_quantiles) #prend beaucoup de temps\n",
    "\n",
    "c_i_child = 5\n",
    "c_i_parent = 8\n",
    "p = proba_cond(c_i_parent, c_i_child, cd)\n",
    "print(\"\\nP(c_i_parent = {} | c_i_child = {}, pj = {}) = {}\".format(c_i_parent, \n",
    "                                                                   c_i_child,pj, p))"
   ]
  },
  {
   "cell_type": "markdown",
   "metadata": {},
   "source": [
    "Passons maintenant au plot stacked_bar ; Pour plus de lisibilité nous choisirons des déciles et non des centiles :"
   ]
  },
  {
   "cell_type": "markdown",
   "metadata": {},
   "source": [
    "## Question 6 (mise en place du stacked bar) :"
   ]
  },
  {
   "cell_type": "code",
   "execution_count": 44,
   "metadata": {},
   "outputs": [],
   "source": [
    "pj_2 = 0.9 \n",
    "nb_quantiles_2 = 10\n",
    "n_2 = 1000*nb_quantiles_2\n",
    "y_child_2, y_parents_2 = generate_incomes(n_2, pj_2)\n",
    "sample_2 = compute_quantiles(y_child_2, y_parents_2, nb_quantiles_2)\n",
    "cd_2 = conditional_distributions(sample_2, nb_quantiles_2)"
   ]
  },
  {
   "cell_type": "code",
   "execution_count": 71,
   "metadata": {},
   "outputs": [
    {
     "data": {
      "image/png": "[encoded data removed]",
      "text/plain": [
       "<Figure size 864x576 with 1 Axes>"
      ]
     },
     "metadata": {
      "needs_background": "light"
     },
     "output_type": "display_data"
    }
   ],
   "source": [
    "cd_df = pd.DataFrame(cd_2, columns = [np.arange(nb_quantiles_2)+1])\n",
    "cd_df = cd_df.T #Voir avec Laura\n",
    "cd_df.columns = np.arange(nb_quantiles_2)+1\n",
    "\n",
    "cd_df.plot(kind=\"bar\", figsize=(12,8), stacked=True, width=0.95)\n",
    "plt.title(\"pj=\"+str(pj_2))\n",
    "plt.xlabel(\"Quantile Parents\")\n",
    "plt.ylabel(\"Probabilité Quantile Enfant\")\n",
    "plt.xticks(rotation = 'horizontal')\n",
    "plt.yticks(rotation = 'horizontal')\n",
    "plt.savefig(\"Graphiques/barstacked_pj_haut.png\")\n",
    "plt.show()"
   ]
  },
  {
   "cell_type": "code",
   "execution_count": 46,
   "metadata": {},
   "outputs": [],
   "source": [
    "pj_3 = 0.1 \n",
    "nb_quantiles_3 = 10\n",
    "n_3 = 1000*nb_quantiles_3\n",
    "y_child_3, y_parents_3 = generate_incomes(n_3, pj_3)\n",
    "sample_3 = compute_quantiles(y_child_3, y_parents_3, nb_quantiles_3)\n",
    "cd_3 = conditional_distributions(sample_3, nb_quantiles_3)"
   ]
  },
  {
   "cell_type": "code",
   "execution_count": 72,
   "metadata": {},
   "outputs": [
    {
     "data": {
      "image/png": "[encoded data removed]",
      "text/plain": [
       "<Figure size 864x576 with 1 Axes>"
      ]
     },
     "metadata": {
      "needs_background": "light"
     },
     "output_type": "display_data"
    }
   ],
   "source": [
    "cd_df3 = pd.DataFrame(cd_3, columns = [np.arange(nb_quantiles_3)+1])\n",
    "cd_df3 = cd_df3.T #Voir avec Laura\n",
    "cd_df3.columns = np.arange(nb_quantiles_3)+1\n",
    "\n",
    "cd_df3.plot(kind=\"bar\", figsize=(12,8), stacked=True, width=0.95)\n",
    "plt.title(\"pj=\"+str(pj_3))\n",
    "plt.xlabel(\"Quantile Parents\")\n",
    "plt.ylabel(\"Probabilité Quantile Enfant\")\n",
    "plt.xticks(rotation = 'horizontal')\n",
    "plt.yticks(rotation = 'horizontal')\n",
    "plt.savefig(\"Graphiques/barstacked_pj_faible.png\")\n",
    "plt.show()"
   ]
  },
  {
   "cell_type": "markdown",
   "metadata": {},
   "source": [
    "## Question 7 :"
   ]
  },
  {
   "cell_type": "code",
   "execution_count": 48,
   "metadata": {},
   "outputs": [],
   "source": [
    "#On commence par effacer les variables inutiles, on garde les distributions conditionnelles\n",
    "pj = None\n",
    "nb_quantiles = None\n",
    "n = None\n",
    "y_child = None\n",
    "y_parents = None\n",
    "sample = None"
   ]
  },
  {
   "cell_type": "markdown",
   "metadata": {},
   "source": [
    "## Question 8 :"
   ]
  },
  {
   "cell_type": "markdown",
   "metadata": {},
   "source": [
    "<p>Pour cette question on va utiliser le fichier de la WID (donc notre df data_gini).</p>\n",
    "<p>Nous allons créer 499 clones de chaque individus </p>"
   ]
  },
  {
   "cell_type": "code",
   "execution_count": 49,
   "metadata": {},
   "outputs": [
    {
     "data": {
      "text/html": [
       "<div>\n",
       "<style scoped>\n",
       "    .dataframe tbody tr th:only-of-type {\n",
       "        vertical-align: middle;\n",
       "    }\n",
       "\n",
       "    .dataframe tbody tr th {\n",
       "        vertical-align: top;\n",
       "    }\n",
       "\n",
       "    .dataframe thead th {\n",
       "        text-align: right;\n",
       "    }\n",
       "</style>\n",
       "<table border=\"1\" class=\"dataframe\">\n",
       "  <thead>\n",
       "    <tr style=\"text-align: right;\">\n",
       "      <th></th>\n",
       "      <th>code</th>\n",
       "      <th>quantile</th>\n",
       "      <th>income</th>\n",
       "      <th>Gini</th>\n",
       "      <th>coef_elastic</th>\n",
       "    </tr>\n",
       "  </thead>\n",
       "  <tbody>\n",
       "    <tr>\n",
       "      <th>0</th>\n",
       "      <td>ALB</td>\n",
       "      <td>1</td>\n",
       "      <td>728.89795</td>\n",
       "      <td>29.98</td>\n",
       "      <td>0.815874</td>\n",
       "    </tr>\n",
       "    <tr>\n",
       "      <th>1</th>\n",
       "      <td>ALB</td>\n",
       "      <td>1</td>\n",
       "      <td>728.89795</td>\n",
       "      <td>29.98</td>\n",
       "      <td>0.815874</td>\n",
       "    </tr>\n",
       "    <tr>\n",
       "      <th>2</th>\n",
       "      <td>ALB</td>\n",
       "      <td>1</td>\n",
       "      <td>728.89795</td>\n",
       "      <td>29.98</td>\n",
       "      <td>0.815874</td>\n",
       "    </tr>\n",
       "    <tr>\n",
       "      <th>3</th>\n",
       "      <td>ALB</td>\n",
       "      <td>1</td>\n",
       "      <td>728.89795</td>\n",
       "      <td>29.98</td>\n",
       "      <td>0.815874</td>\n",
       "    </tr>\n",
       "    <tr>\n",
       "      <th>4</th>\n",
       "      <td>ALB</td>\n",
       "      <td>1</td>\n",
       "      <td>728.89795</td>\n",
       "      <td>29.98</td>\n",
       "      <td>0.815874</td>\n",
       "    </tr>\n",
       "  </tbody>\n",
       "</table>\n",
       "</div>"
      ],
      "text/plain": [
       "  code  quantile     income   Gini  coef_elastic\n",
       "0  ALB         1  728.89795  29.98      0.815874\n",
       "1  ALB         1  728.89795  29.98      0.815874\n",
       "2  ALB         1  728.89795  29.98      0.815874\n",
       "3  ALB         1  728.89795  29.98      0.815874\n",
       "4  ALB         1  728.89795  29.98      0.815874"
      ]
     },
     "execution_count": 49,
     "metadata": {},
     "output_type": "execute_result"
    }
   ],
   "source": [
    "data_cloned = data_coef[['code', 'quantile', 'income', 'Gini', 'coef_elastic']]\n",
    "data_cloned = pd.concat([data_cloned]*500, ignore_index=True)\n",
    "data_cloned = data_cloned.sort_values(by=['code', 'quantile'])\n",
    "\n",
    "#On reset les index pour avoir des index qui se suivent\n",
    "data_cloned = data_cloned.reset_index()\n",
    "data_cloned = data_cloned[['code', 'quantile', 'income', 'Gini', 'coef_elastic']]\n",
    "data_cloned.head()"
   ]
  },
  {
   "cell_type": "markdown",
   "metadata": {},
   "source": [
    "## Question 9 :"
   ]
  },
  {
   "cell_type": "markdown",
   "metadata": {},
   "source": [
    "<p> On assigne maintenant à chaque individus la classe c_i_parents conformément aux distributions trouvées précédemment </p>"
   ]
  },
  {
   "cell_type": "code",
   "execution_count": 50,
   "metadata": {},
   "outputs": [
    {
     "data": {
      "text/plain": [
       "array([[130.5,  54.5,  32.5, ...,   0. ,   0. ,   0. ],\n",
       "       [ 50.5,  40. ,  46. , ...,   0. ,   0. ,   0. ],\n",
       "       [ 37. ,  42. ,  33.5, ...,   0. ,   0. ,   0. ],\n",
       "       ...,\n",
       "       [  0. ,   0. ,   0. , ...,  38. ,  35.5,  45. ],\n",
       "       [  0. ,   0. ,   0. , ...,  39.5,  51.5,  58. ],\n",
       "       [  0. ,   0. ,   0. , ...,  37.5,  64. , 126. ]])"
      ]
     },
     "execution_count": 50,
     "metadata": {},
     "output_type": "execute_result"
    }
   ],
   "source": [
    "#On commence par multiplier la distribution par 500, on a maintenant le nombre d'individus à attribuer\n",
    "#A chaque quantile\n",
    "distrib = cd.copy()\n",
    "distrib = distrib*500\n",
    "\n",
    "distrib"
   ]
  },
  {
   "cell_type": "markdown",
   "metadata": {},
   "source": [
    "### Boucle 1 : un seul quantile, un seul pays"
   ]
  },
  {
   "cell_type": "code",
   "execution_count": 51,
   "metadata": {},
   "outputs": [
    {
     "data": {
      "text/html": [
       "<div>\n",
       "<style scoped>\n",
       "    .dataframe tbody tr th:only-of-type {\n",
       "        vertical-align: middle;\n",
       "    }\n",
       "\n",
       "    .dataframe tbody tr th {\n",
       "        vertical-align: top;\n",
       "    }\n",
       "\n",
       "    .dataframe thead th {\n",
       "        text-align: right;\n",
       "    }\n",
       "</style>\n",
       "<table border=\"1\" class=\"dataframe\">\n",
       "  <thead>\n",
       "    <tr style=\"text-align: right;\">\n",
       "      <th></th>\n",
       "      <th>code</th>\n",
       "      <th>quantile</th>\n",
       "      <th>income</th>\n",
       "      <th>Gini</th>\n",
       "      <th>c_i_parents</th>\n",
       "    </tr>\n",
       "  </thead>\n",
       "  <tbody>\n",
       "    <tr>\n",
       "      <th>0</th>\n",
       "      <td>ALB</td>\n",
       "      <td>1</td>\n",
       "      <td>728.89795</td>\n",
       "      <td>29.98</td>\n",
       "      <td>1</td>\n",
       "    </tr>\n",
       "    <tr>\n",
       "      <th>1</th>\n",
       "      <td>ALB</td>\n",
       "      <td>1</td>\n",
       "      <td>728.89795</td>\n",
       "      <td>29.98</td>\n",
       "      <td>1</td>\n",
       "    </tr>\n",
       "    <tr>\n",
       "      <th>2</th>\n",
       "      <td>ALB</td>\n",
       "      <td>1</td>\n",
       "      <td>728.89795</td>\n",
       "      <td>29.98</td>\n",
       "      <td>1</td>\n",
       "    </tr>\n",
       "    <tr>\n",
       "      <th>3</th>\n",
       "      <td>ALB</td>\n",
       "      <td>1</td>\n",
       "      <td>728.89795</td>\n",
       "      <td>29.98</td>\n",
       "      <td>1</td>\n",
       "    </tr>\n",
       "    <tr>\n",
       "      <th>4</th>\n",
       "      <td>ALB</td>\n",
       "      <td>1</td>\n",
       "      <td>728.89795</td>\n",
       "      <td>29.98</td>\n",
       "      <td>1</td>\n",
       "    </tr>\n",
       "  </tbody>\n",
       "</table>\n",
       "</div>"
      ],
      "text/plain": [
       "  code  quantile     income   Gini  c_i_parents\n",
       "0  ALB         1  728.89795  29.98            1\n",
       "1  ALB         1  728.89795  29.98            1\n",
       "2  ALB         1  728.89795  29.98            1\n",
       "3  ALB         1  728.89795  29.98            1\n",
       "4  ALB         1  728.89795  29.98            1"
      ]
     },
     "execution_count": 51,
     "metadata": {},
     "output_type": "execute_result"
    }
   ],
   "source": [
    "test = data_cloned[data_cloned['code'] == 'ALB']\n",
    "test = test[test['quantile'] == 1]\n",
    "test['c_i_parents'] = 1\n",
    "test = test.reset_index()\n",
    "test = test[['code', 'quantile', 'income', 'Gini', 'c_i_parents']]\n",
    "\n",
    "#On essaye d'attribuer la valeur 1 de 0 à distrib 1\n",
    "#base = 0\n",
    "#quant = 1\n",
    "#test.iloc[base:int(distrib[0,0]),4] = quant\n",
    "#print(test)\n",
    "\n",
    "#Ca fonctionne, on peut donc boucler la dessus :\n",
    "base = 0\n",
    "quant = 1\n",
    "pair_impair = 0\n",
    "for i in range(0,100):\n",
    "    x = distrib[0,i]\n",
    "    if x*10 %2 != 0:\n",
    "        if pair_impair %2 == 0:\n",
    "            up = base + int(distrib[0,i])\n",
    "            pair_impair += 1\n",
    "        else :\n",
    "            up = base + int(distrib[0,i])+1\n",
    "            pair_impair += 1\n",
    "    else:\n",
    "        up = base + int(distrib[0,i])\n",
    "    test.iloc[base:up,4] = quant\n",
    "    base = up\n",
    "    quant = quant+1\n",
    "    \n",
    "    \n",
    "test.head()"
   ]
  },
  {
   "cell_type": "markdown",
   "metadata": {},
   "source": [
    "La boucle fonctionne !!"
   ]
  },
  {
   "cell_type": "markdown",
   "metadata": {},
   "source": [
    "### Boucle 2 : Tous les quantiles, un seul pays"
   ]
  },
  {
   "cell_type": "code",
   "execution_count": 52,
   "metadata": {},
   "outputs": [],
   "source": [
    "import time"
   ]
  },
  {
   "cell_type": "markdown",
   "metadata": {},
   "source": [
    "Double boucle un peu chimique, à voir comment optimiser ça"
   ]
  },
  {
   "cell_type": "code",
   "execution_count": 53,
   "metadata": {},
   "outputs": [
    {
     "name": "stdout",
     "output_type": "stream",
     "text": [
      "\n",
      "\n",
      "Function elapsed in:  7.953125 s\n"
     ]
    }
   ],
   "source": [
    "#Calcul du temps d'execution de la fonction :\n",
    "t0 = time.process_time()\n",
    "\n",
    "test = data_cloned[data_cloned['code'] == 'ALB'].copy()\n",
    "test['c_i_parents'] = 1\n",
    "test = test.reset_index()\n",
    "test = test[['code', 'quantile', 'income', 'Gini', 'c_i_parents']]\n",
    "\n",
    "result = []\n",
    "for j in range(0,100):\n",
    "    beta = test[test['quantile'] == j+1].copy()\n",
    "    base = 0\n",
    "    pair_impair = 0\n",
    "    for i in range(0,100):\n",
    "        x = distrib[j,i]\n",
    "        if x*10 %2 != 0:\n",
    "            if pair_impair %2 == 0:\n",
    "                up = base + int(distrib[j,i])\n",
    "                pair_impair += 1\n",
    "            else :\n",
    "                up = base + int(distrib[j,i])+1\n",
    "                pair_impair += 1\n",
    "        else:\n",
    "            up = base + int(distrib[j,i])\n",
    "        \n",
    "        beta.iloc[base:up,4] = i+1\n",
    "        base = up\n",
    "    result.append(beta)\n",
    "result = pd.concat(result)\n",
    "    #df.append() ou .loc ou .iloc\n",
    "\n",
    "#Temps d'execution :\n",
    "t1 = time.process_time()\n",
    "print(\"\\n\")\n",
    "print ('Function elapsed in: ', t1-t0, 's')"
   ]
  },
  {
   "cell_type": "markdown",
   "metadata": {},
   "source": [
    "Fonctionne !!!"
   ]
  },
  {
   "cell_type": "code",
   "execution_count": 54,
   "metadata": {},
   "outputs": [
    {
     "data": {
      "text/html": [
       "<div>\n",
       "<style scoped>\n",
       "    .dataframe tbody tr th:only-of-type {\n",
       "        vertical-align: middle;\n",
       "    }\n",
       "\n",
       "    .dataframe tbody tr th {\n",
       "        vertical-align: top;\n",
       "    }\n",
       "\n",
       "    .dataframe thead th {\n",
       "        text-align: right;\n",
       "    }\n",
       "</style>\n",
       "<table border=\"1\" class=\"dataframe\">\n",
       "  <thead>\n",
       "    <tr style=\"text-align: right;\">\n",
       "      <th></th>\n",
       "      <th>code</th>\n",
       "      <th>quantile</th>\n",
       "      <th>income</th>\n",
       "      <th>Gini</th>\n",
       "      <th>c_i_parents</th>\n",
       "    </tr>\n",
       "  </thead>\n",
       "  <tbody>\n",
       "    <tr>\n",
       "      <th>0</th>\n",
       "      <td>ALB</td>\n",
       "      <td>1</td>\n",
       "      <td>728.89795</td>\n",
       "      <td>29.98</td>\n",
       "      <td>1</td>\n",
       "    </tr>\n",
       "    <tr>\n",
       "      <th>1</th>\n",
       "      <td>ALB</td>\n",
       "      <td>1</td>\n",
       "      <td>728.89795</td>\n",
       "      <td>29.98</td>\n",
       "      <td>1</td>\n",
       "    </tr>\n",
       "    <tr>\n",
       "      <th>2</th>\n",
       "      <td>ALB</td>\n",
       "      <td>1</td>\n",
       "      <td>728.89795</td>\n",
       "      <td>29.98</td>\n",
       "      <td>1</td>\n",
       "    </tr>\n",
       "    <tr>\n",
       "      <th>3</th>\n",
       "      <td>ALB</td>\n",
       "      <td>1</td>\n",
       "      <td>728.89795</td>\n",
       "      <td>29.98</td>\n",
       "      <td>1</td>\n",
       "    </tr>\n",
       "    <tr>\n",
       "      <th>4</th>\n",
       "      <td>ALB</td>\n",
       "      <td>1</td>\n",
       "      <td>728.89795</td>\n",
       "      <td>29.98</td>\n",
       "      <td>1</td>\n",
       "    </tr>\n",
       "  </tbody>\n",
       "</table>\n",
       "</div>"
      ],
      "text/plain": [
       "  code  quantile     income   Gini  c_i_parents\n",
       "0  ALB         1  728.89795  29.98            1\n",
       "1  ALB         1  728.89795  29.98            1\n",
       "2  ALB         1  728.89795  29.98            1\n",
       "3  ALB         1  728.89795  29.98            1\n",
       "4  ALB         1  728.89795  29.98            1"
      ]
     },
     "execution_count": 54,
     "metadata": {},
     "output_type": "execute_result"
    }
   ],
   "source": [
    "result.head()"
   ]
  },
  {
   "cell_type": "markdown",
   "metadata": {},
   "source": [
    "### Boucle 3 : Tous les quantiles, tous les pays"
   ]
  },
  {
   "cell_type": "markdown",
   "metadata": {},
   "source": [
    "<p> Avant toute chose, il nous faut les distrib_cond pour chaque coef_elastic des pays </p>\n",
    "\n",
    "<p> Nous allons donc boucler les fonctions précédentes pour avoir chacune des distributions : </p>"
   ]
  },
  {
   "cell_type": "code",
   "execution_count": 55,
   "metadata": {},
   "outputs": [
    {
     "name": "stdout",
     "output_type": "stream",
     "text": [
      "\n",
      "\n",
      "Function elapsed in:  23.824479166666666 min\n"
     ]
    }
   ],
   "source": [
    "t0 = time.process_time()\n",
    "\n",
    "dist = []\n",
    "for rho_j in data_coef['coef_elastic']:\n",
    "    pj = rho_j\n",
    "    nb_quantiles = 100\n",
    "    n_ = 1000*nb_quantiles\n",
    "    y_child, y_parents = generate_incomes(n, pj)\n",
    "    sample = compute_quantiles(y_child, y_parents, nb_quantiles)\n",
    "    cd = conditional_distributions(sample, nb_quantiles)\n",
    "    dist.append(cd*500)\n",
    "\n",
    "    \n",
    "t1 = time.process_time()\n",
    "print(\"\\n\")\n",
    "print ('Function elapsed in: ', (t1-t0)/60, 'min')"
   ]
  },
  {
   "cell_type": "code",
   "execution_count": 56,
   "metadata": {},
   "outputs": [
    {
     "data": {
      "text/plain": [
       "array(['ALB', 'ARG', 'ARM', 'AUT', 'AZE', 'BEL', 'BGR', 'BLR', 'BOL',\n",
       "       'BRA', 'CAF', 'CAN', 'CIV', 'COD', 'COL', 'CRI', 'CYP', 'CZE',\n",
       "       'DEU', 'DNK', 'DOM', 'ECU', 'ESP', 'EST', 'FIN', 'FJI', 'FRA',\n",
       "       'GBR', 'GEO', 'GRC', 'HND', 'HRV', 'HUN', 'IRL', 'IRN', 'IRQ',\n",
       "       'ISL', 'ISR', 'ITA', 'JOR', 'JPN', 'KAZ', 'KGZ', 'KHM', 'KOR',\n",
       "       'LTU', 'LUX', 'LVA', 'MDA', 'MEX', 'MKD', 'MNE', 'MOZ', 'MRT',\n",
       "       'NLD', 'NOR', 'PAK', 'PER', 'POL', 'PRT', 'PRY', 'ROU', 'RUS',\n",
       "       'SLV', 'SRB', 'SVK', 'SVN', 'SWE', 'TUR', 'TWN', 'UKR', 'URY',\n",
       "       'USA', 'XKX', 'YEM', 'ZAF'], dtype=object)"
      ]
     },
     "execution_count": 56,
     "metadata": {},
     "output_type": "execute_result"
    }
   ],
   "source": [
    "data_cloned['code'].unique()"
   ]
  },
  {
   "cell_type": "code",
   "execution_count": 57,
   "metadata": {},
   "outputs": [
    {
     "name": "stdout",
     "output_type": "stream",
     "text": [
      "\n",
      "\n",
      "Function elapsed in:  10.132291666666667 min\n"
     ]
    }
   ],
   "source": [
    "#Test avec une nouvelle boucle :\n",
    "t0 = time.process_time()\n",
    "nb_quant = 100\n",
    "data_cloned['c_i_parents'] = 1\n",
    "result = []\n",
    "for pays, k in zip(data_cloned['code'].unique(), range(0,len(data_cloned))):\n",
    "    df = data_cloned[data_cloned['code'] == pays].copy()\n",
    "    for j in range(0,nb_quant):\n",
    "        beta = df[df['quantile'] == j+1].copy()\n",
    "        base = 0\n",
    "        pair_impair = 0\n",
    "        for i in range(0,nb_quant):\n",
    "            x = dist[k][j,i]\n",
    "            if x*10 %2 != 0:\n",
    "                if pair_impair %2 == 0:\n",
    "                    up = base + int(dist[k][j,i])\n",
    "                    pair_impair += 1\n",
    "                else :\n",
    "                    up = base + int(dist[k][j,i])+1\n",
    "                    pair_impair += 1\n",
    "            else:\n",
    "                up = base + int(dist[k][j,i])\n",
    "\n",
    "            beta.iloc[base:up,5] = i+1\n",
    "            base = up\n",
    "        result.append(beta)\n",
    "result = pd.concat(result)\n",
    "\n",
    "t1 = time.process_time()\n",
    "print(\"\\n\")\n",
    "print ('Function elapsed in: ', (t1-t0)/60, 'min')"
   ]
  },
  {
   "cell_type": "code",
   "execution_count": 58,
   "metadata": {},
   "outputs": [
    {
     "data": {
      "text/html": [
       "<div>\n",
       "<style scoped>\n",
       "    .dataframe tbody tr th:only-of-type {\n",
       "        vertical-align: middle;\n",
       "    }\n",
       "\n",
       "    .dataframe tbody tr th {\n",
       "        vertical-align: top;\n",
       "    }\n",
       "\n",
       "    .dataframe thead th {\n",
       "        text-align: right;\n",
       "    }\n",
       "</style>\n",
       "<table border=\"1\" class=\"dataframe\">\n",
       "  <thead>\n",
       "    <tr style=\"text-align: right;\">\n",
       "      <th></th>\n",
       "      <th>code</th>\n",
       "      <th>quantile</th>\n",
       "      <th>income</th>\n",
       "      <th>Gini</th>\n",
       "      <th>coef_elastic</th>\n",
       "      <th>c_i_parents</th>\n",
       "    </tr>\n",
       "  </thead>\n",
       "  <tbody>\n",
       "    <tr>\n",
       "      <th>0</th>\n",
       "      <td>ALB</td>\n",
       "      <td>1</td>\n",
       "      <td>728.89795</td>\n",
       "      <td>29.98</td>\n",
       "      <td>0.815874</td>\n",
       "      <td>1</td>\n",
       "    </tr>\n",
       "    <tr>\n",
       "      <th>1</th>\n",
       "      <td>ALB</td>\n",
       "      <td>1</td>\n",
       "      <td>728.89795</td>\n",
       "      <td>29.98</td>\n",
       "      <td>0.815874</td>\n",
       "      <td>1</td>\n",
       "    </tr>\n",
       "    <tr>\n",
       "      <th>2</th>\n",
       "      <td>ALB</td>\n",
       "      <td>1</td>\n",
       "      <td>728.89795</td>\n",
       "      <td>29.98</td>\n",
       "      <td>0.815874</td>\n",
       "      <td>1</td>\n",
       "    </tr>\n",
       "    <tr>\n",
       "      <th>3</th>\n",
       "      <td>ALB</td>\n",
       "      <td>1</td>\n",
       "      <td>728.89795</td>\n",
       "      <td>29.98</td>\n",
       "      <td>0.815874</td>\n",
       "      <td>1</td>\n",
       "    </tr>\n",
       "    <tr>\n",
       "      <th>4</th>\n",
       "      <td>ALB</td>\n",
       "      <td>1</td>\n",
       "      <td>728.89795</td>\n",
       "      <td>29.98</td>\n",
       "      <td>0.815874</td>\n",
       "      <td>1</td>\n",
       "    </tr>\n",
       "  </tbody>\n",
       "</table>\n",
       "</div>"
      ],
      "text/plain": [
       "  code  quantile     income   Gini  coef_elastic  c_i_parents\n",
       "0  ALB         1  728.89795  29.98      0.815874            1\n",
       "1  ALB         1  728.89795  29.98      0.815874            1\n",
       "2  ALB         1  728.89795  29.98      0.815874            1\n",
       "3  ALB         1  728.89795  29.98      0.815874            1\n",
       "4  ALB         1  728.89795  29.98      0.815874            1"
      ]
     },
     "execution_count": 58,
     "metadata": {},
     "output_type": "execute_result"
    }
   ],
   "source": [
    "result.head()"
   ]
  },
  {
   "cell_type": "markdown",
   "metadata": {},
   "source": [
    "<p> Les boucles fonctionnent correctement, mais mettent beaucoup de temps à tourner ; Voir si possibilité de faire autrement</p>\n",
    "\n",
    "<p> Nous avons donc notre df final, passons maintenant à la mission 4 </p>"
   ]
  },
  {
   "cell_type": "code",
   "execution_count": 59,
   "metadata": {},
   "outputs": [
    {
     "data": {
      "text/html": [
       "<div>\n",
       "<style scoped>\n",
       "    .dataframe tbody tr th:only-of-type {\n",
       "        vertical-align: middle;\n",
       "    }\n",
       "\n",
       "    .dataframe tbody tr th {\n",
       "        vertical-align: top;\n",
       "    }\n",
       "\n",
       "    .dataframe thead th {\n",
       "        text-align: right;\n",
       "    }\n",
       "</style>\n",
       "<table border=\"1\" class=\"dataframe\">\n",
       "  <thead>\n",
       "    <tr style=\"text-align: right;\">\n",
       "      <th></th>\n",
       "      <th>code</th>\n",
       "      <th>income</th>\n",
       "      <th>Gini</th>\n",
       "      <th>coef_elastic</th>\n",
       "      <th>c_i_parents</th>\n",
       "      <th>mean_income</th>\n",
       "    </tr>\n",
       "  </thead>\n",
       "  <tbody>\n",
       "    <tr>\n",
       "      <th>0</th>\n",
       "      <td>ALB</td>\n",
       "      <td>728.89795</td>\n",
       "      <td>29.98</td>\n",
       "      <td>0.815874</td>\n",
       "      <td>1</td>\n",
       "      <td>2994.829902</td>\n",
       "    </tr>\n",
       "    <tr>\n",
       "      <th>1</th>\n",
       "      <td>ALB</td>\n",
       "      <td>728.89795</td>\n",
       "      <td>29.98</td>\n",
       "      <td>0.815874</td>\n",
       "      <td>1</td>\n",
       "      <td>2994.829902</td>\n",
       "    </tr>\n",
       "    <tr>\n",
       "      <th>2</th>\n",
       "      <td>ALB</td>\n",
       "      <td>728.89795</td>\n",
       "      <td>29.98</td>\n",
       "      <td>0.815874</td>\n",
       "      <td>1</td>\n",
       "      <td>2994.829902</td>\n",
       "    </tr>\n",
       "    <tr>\n",
       "      <th>3</th>\n",
       "      <td>ALB</td>\n",
       "      <td>728.89795</td>\n",
       "      <td>29.98</td>\n",
       "      <td>0.815874</td>\n",
       "      <td>1</td>\n",
       "      <td>2994.829902</td>\n",
       "    </tr>\n",
       "    <tr>\n",
       "      <th>4</th>\n",
       "      <td>ALB</td>\n",
       "      <td>728.89795</td>\n",
       "      <td>29.98</td>\n",
       "      <td>0.815874</td>\n",
       "      <td>1</td>\n",
       "      <td>2994.829902</td>\n",
       "    </tr>\n",
       "  </tbody>\n",
       "</table>\n",
       "</div>"
      ],
      "text/plain": [
       "  code     income   Gini  coef_elastic  c_i_parents  mean_income\n",
       "0  ALB  728.89795  29.98      0.815874            1  2994.829902\n",
       "1  ALB  728.89795  29.98      0.815874            1  2994.829902\n",
       "2  ALB  728.89795  29.98      0.815874            1  2994.829902\n",
       "3  ALB  728.89795  29.98      0.815874            1  2994.829902\n",
       "4  ALB  728.89795  29.98      0.815874            1  2994.829902"
      ]
     },
     "execution_count": 59,
     "metadata": {},
     "output_type": "execute_result"
    }
   ],
   "source": [
    "#Enlevons quand même la variable C_i_child pour éviter toute confusion : \n",
    "\n",
    "df_final = result.copy()\n",
    "df_final = df_final.drop(columns='quantile')\n",
    "\n",
    "#Et ajoutons la colonne mean_income : \n",
    "mean_count = df_final.groupby('code').mean()\n",
    "mean_count = mean_count.reset_index()\n",
    "mean_count = mean_count[['code', 'income']]\n",
    "mean_count = mean_count.rename(columns={'income':'mean_income'})\n",
    "\n",
    "df_final = pd.merge(df_final, mean_count, left_on='code', right_on='code', how='left')\n",
    "\n",
    "df_final.head()"
   ]
  },
  {
   "cell_type": "markdown",
   "metadata": {},
   "source": [
    "# Mission 4"
   ]
  },
  {
   "cell_type": "code",
   "execution_count": 60,
   "metadata": {},
   "outputs": [],
   "source": [
    "import statsmodels.formula.api as smf"
   ]
  },
  {
   "cell_type": "markdown",
   "metadata": {},
   "source": [
    "## ANOVA"
   ]
  },
  {
   "cell_type": "code",
   "execution_count": 61,
   "metadata": {},
   "outputs": [
    {
     "name": "stdout",
     "output_type": "stream",
     "text": [
      "                            OLS Regression Results                            \n",
      "==============================================================================\n",
      "Dep. Variable:                 income   R-squared:                       0.445\n",
      "Model:                            OLS   Adj. R-squared:                  0.445\n",
      "Method:                 Least Squares   F-statistic:                 4.064e+04\n",
      "Date:                Tue, 02 Jul 2019   Prob (F-statistic):               0.00\n",
      "Time:                        11:34:18   Log-Likelihood:            -3.9530e+07\n",
      "No. Observations:             3799500   AIC:                         7.906e+07\n",
      "Df Residuals:                 3799424   BIC:                         7.906e+07\n",
      "Df Model:                          75                                         \n",
      "Covariance Type:            nonrobust                                         \n",
      "===============================================================================\n",
      "                  coef    std err          t      P>|t|      [0.025      0.975]\n",
      "-------------------------------------------------------------------------------\n",
      "Intercept    2994.8299     35.703     83.883      0.000    2924.854    3064.806\n",
      "code[T.ARG]  2853.0548     50.491     56.506      0.000    2754.094    2952.016\n",
      "code[T.ARM] -1366.4471     50.491    -27.063      0.000   -1465.408   -1267.486\n",
      "code[T.AUT]  1.364e+04     50.491    270.201      0.000    1.35e+04    1.37e+04\n",
      "code[T.AZE]  -637.4009     50.491    -12.624      0.000    -736.362    -538.440\n",
      "code[T.BEL]  1.203e+04     50.491    238.255      0.000    1.19e+04    1.21e+04\n",
      "code[T.BGR]  1990.1487     50.491     39.416      0.000    1891.188    2089.110\n",
      "code[T.BLR]   926.3336     50.491     18.346      0.000     827.373    1025.295\n",
      "code[T.BOL]    21.4339     50.491      0.425      0.671     -77.527     120.395\n",
      "code[T.BRA]  1812.6547     50.491     35.900      0.000    1713.694    1911.616\n",
      "code[T.CAF] -2183.5300     50.491    -43.246      0.000   -2282.491   -2084.569\n",
      "code[T.CAN]  2.074e+04     50.491    410.860      0.000    2.06e+04    2.08e+04\n",
      "code[T.CIV] -2594.9947     50.491    -51.395      0.000   -2693.956   -2496.034\n",
      "code[T.COD] -2718.8139     50.491    -53.847      0.000   -2817.775   -2619.853\n",
      "code[T.COL]   552.1754     50.491     10.936      0.000     453.214     651.136\n",
      "code[T.CRI]  2585.5567     50.491     51.208      0.000    2486.596    2684.518\n",
      "code[T.CYP]  1.435e+04     50.491    284.219      0.000    1.43e+04    1.44e+04\n",
      "code[T.CZE]  5240.4635     50.491    103.790      0.000    5141.503    5339.424\n",
      "code[T.DEU]  1.507e+04     50.491    298.406      0.000     1.5e+04    1.52e+04\n",
      "code[T.DNK]  1.405e+04     50.491    278.233      0.000    1.39e+04    1.41e+04\n",
      "code[T.DOM]   563.5722     50.491     11.162      0.000     464.611     662.533\n",
      "code[T.ECU]   388.9111     50.491      7.703      0.000     289.950     487.872\n",
      "code[T.ESP]  1.012e+04     50.491    200.474      0.000       1e+04    1.02e+04\n",
      "code[T.EST]  4707.2327     50.491     93.229      0.000    4608.272    4806.194\n",
      "code[T.FIN]  1.331e+04     50.491    263.640      0.000    1.32e+04    1.34e+04\n",
      "code[T.FJI]  -896.0990     50.491    -17.748      0.000    -995.060    -797.138\n",
      "code[T.FRA]  1.531e+04     50.491    303.312      0.000    1.52e+04    1.54e+04\n",
      "code[T.GBR]  1.871e+04     50.491    370.654      0.000    1.86e+04    1.88e+04\n",
      "code[T.GEO] -1631.0713     50.491    -32.304      0.000   -1730.032   -1532.110\n",
      "code[T.GRC]  8732.4444     50.491    172.950      0.000    8633.483    8831.405\n",
      "code[T.HND]   301.4385     50.491      5.970      0.000     202.478     400.399\n",
      "code[T.HRV]  4721.6359     50.491     93.514      0.000    4622.675    4820.597\n",
      "code[T.HUN]  3106.5113     50.491     61.526      0.000    3007.550    3205.472\n",
      "code[T.IRL]  1.472e+04     50.491    291.455      0.000    1.46e+04    1.48e+04\n",
      "code[T.IRN]  2837.8256     50.491     56.204      0.000    2738.865    2936.787\n",
      "code[T.IRQ] -1289.3176     50.491    -25.535      0.000   -1388.279   -1190.357\n",
      "code[T.ISL]  2.389e+04     50.491    473.225      0.000    2.38e+04     2.4e+04\n",
      "code[T.ISR]  8105.4882     50.491    160.533      0.000    8006.527    8204.449\n",
      "code[T.ITA]  1.193e+04     50.491    236.286      0.000    1.18e+04     1.2e+04\n",
      "code[T.JOR]    53.8011     50.491      1.066      0.287     -45.160     152.762\n",
      "code[T.JPN]  1.444e+04     50.491    285.953      0.000    1.43e+04    1.45e+04\n",
      "code[T.KAZ]  -755.6801     50.491    -14.967      0.000    -854.641    -656.719\n",
      "code[T.KGZ] -1221.6107     50.491    -24.195      0.000   -1320.572   -1122.650\n",
      "code[T.KHM] -1508.4897     50.491    -29.876      0.000   -1607.451   -1409.529\n",
      "code[T.KOR]  1.223e+04     50.491    242.275      0.000    1.21e+04    1.23e+04\n",
      "code[T.LTU]  3646.4177     50.619     72.037      0.000    3547.207    3745.628\n",
      "code[T.LUX]  2.222e+04     50.491    440.131      0.000    2.21e+04    2.23e+04\n",
      "code[T.LVA]  3769.6447     50.491     74.659      0.000    3670.684    3868.606\n",
      "code[T.MDA]  -845.6585     50.491    -16.749      0.000    -944.619    -746.698\n",
      "code[T.MEX]   891.0004     50.491     17.647      0.000     792.039     989.961\n",
      "code[T.MKD]  1604.5664     50.491     31.779      0.000    1505.605    1703.527\n",
      "code[T.MNE]  3553.0692     50.491     70.370      0.000    3454.108    3652.030\n",
      "code[T.MOZ] -2302.3494     50.491    -45.599      0.000   -2401.310   -2203.388\n",
      "code[T.MRT] -1196.2208     50.491    -23.692      0.000   -1295.182   -1097.260\n",
      "code[T.NLD]  1.473e+04     50.491    291.809      0.000    1.46e+04    1.48e+04\n",
      "code[T.NOR]  1.949e+04     50.491    385.979      0.000    1.94e+04    1.96e+04\n",
      "code[T.PAK] -2106.9906     50.491    -41.730      0.000   -2205.952   -2008.030\n",
      "code[T.PER]   335.7034     50.491      6.649      0.000     236.742     434.664\n",
      "code[T.POL]  2746.8903     50.491     54.403      0.000    2647.929    2845.851\n",
      "code[T.PRT]  7103.8455     50.491    140.695      0.000    7004.884    7202.806\n",
      "code[T.PRY]   283.2511     50.491      5.610      0.000     184.290     382.212\n",
      "code[T.ROU]   323.5073     50.491      6.407      0.000     224.546     422.468\n",
      "code[T.RUS]  4161.9408     50.491     82.429      0.000    4062.980    4260.902\n",
      "code[T.SLV]  -139.6051     50.491     -2.765      0.006    -238.566     -40.644\n",
      "code[T.SRB]  1884.9209     50.491     37.332      0.000    1785.960    1983.882\n",
      "code[T.SVK]  3101.7500     50.491     61.431      0.000    3002.789    3200.711\n",
      "code[T.SVN]  9111.1776     50.491    180.451      0.000    9012.217    9210.139\n",
      "code[T.SWE]  1.319e+04     50.491    261.222      0.000    1.31e+04    1.33e+04\n",
      "code[T.TUR]  3055.6354     50.491     60.518      0.000    2956.674    3154.596\n",
      "code[T.TWN]  1.351e+04     50.491    267.480      0.000    1.34e+04    1.36e+04\n",
      "code[T.UKR]   354.5584     50.491      7.022      0.000     255.597     453.519\n",
      "code[T.URY]  2295.9550     50.491     45.472      0.000    2196.994    2394.916\n",
      "code[T.USA]  2.251e+04     50.491    445.795      0.000    2.24e+04    2.26e+04\n",
      "code[T.XKX]  -818.5609     50.491    -16.212      0.000    -917.522    -719.600\n",
      "code[T.YEM] -1952.1940     50.491    -38.664      0.000   -2051.155   -1853.233\n",
      "code[T.ZAF]  2623.0750     50.491     51.951      0.000    2524.114    2722.036\n",
      "==============================================================================\n",
      "Omnibus:                  4298019.468   Durbin-Watson:                   0.001\n",
      "Prob(Omnibus):                  0.000   Jarque-Bera (JB):        703730413.299\n",
      "Skew:                           5.716   Prob(JB):                         0.00\n",
      "Kurtosis:                      68.685   Cond. No.                         77.0\n",
      "==============================================================================\n",
      "\n",
      "Warnings:\n",
      "[1] Standard Errors assume that the covariance matrix of the errors is correctly specified.\n"
     ]
    }
   ],
   "source": [
    "anova_pays = smf.ols('income~code', data=df_final).fit()\n",
    "print(anova_pays.summary())"
   ]
  },
  {
   "cell_type": "markdown",
   "metadata": {},
   "source": [
    "<p> Test de Ficher : <br/>\n",
    "    La p_valeur = 0 . Bizarre, à creuser quand même <br/>\n",
    "    On pouvait se douter que le pays a effectivement un impact sur les revenus, de là à avoir une p_valeur égale à zéro...</p>"
   ]
  },
  {
   "cell_type": "markdown",
   "metadata": {},
   "source": [
    "2 pays ne sont pas significatifs, il faudra les enlever"
   ]
  },
  {
   "cell_type": "code",
   "execution_count": 62,
   "metadata": {},
   "outputs": [
    {
     "data": {
      "text/html": [
       "<div>\n",
       "<style scoped>\n",
       "    .dataframe tbody tr th:only-of-type {\n",
       "        vertical-align: middle;\n",
       "    }\n",
       "\n",
       "    .dataframe tbody tr th {\n",
       "        vertical-align: top;\n",
       "    }\n",
       "\n",
       "    .dataframe thead th {\n",
       "        text-align: right;\n",
       "    }\n",
       "</style>\n",
       "<table border=\"1\" class=\"dataframe\">\n",
       "  <thead>\n",
       "    <tr style=\"text-align: right;\">\n",
       "      <th></th>\n",
       "      <th>sum_sq</th>\n",
       "      <th>df</th>\n",
       "      <th>F</th>\n",
       "      <th>PR(&gt;F)</th>\n",
       "    </tr>\n",
       "  </thead>\n",
       "  <tbody>\n",
       "    <tr>\n",
       "      <th>code</th>\n",
       "      <td>1.942574e+14</td>\n",
       "      <td>75.0</td>\n",
       "      <td>40639.163243</td>\n",
       "      <td>0.0</td>\n",
       "    </tr>\n",
       "    <tr>\n",
       "      <th>Residual</th>\n",
       "      <td>2.421527e+14</td>\n",
       "      <td>3799424.0</td>\n",
       "      <td>NaN</td>\n",
       "      <td>NaN</td>\n",
       "    </tr>\n",
       "  </tbody>\n",
       "</table>\n",
       "</div>"
      ],
      "text/plain": [
       "                sum_sq         df             F  PR(>F)\n",
       "code      1.942574e+14       75.0  40639.163243     0.0\n",
       "Residual  2.421527e+14  3799424.0           NaN     NaN"
      ]
     },
     "execution_count": 62,
     "metadata": {},
     "output_type": "execute_result"
    }
   ],
   "source": [
    "import statsmodels.api as sm\n",
    "anov_table = sm.stats.anova_lm(anova_pays, typ=2)\n",
    "anov_table"
   ]
  },
  {
   "cell_type": "markdown",
   "metadata": {},
   "source": [
    "## Régressions Linéaires"
   ]
  },
  {
   "cell_type": "markdown",
   "metadata": {},
   "source": [
    "### Income sans logarithme"
   ]
  },
  {
   "cell_type": "code",
   "execution_count": 63,
   "metadata": {},
   "outputs": [
    {
     "name": "stdout",
     "output_type": "stream",
     "text": [
      "                            OLS Regression Results                            \n",
      "==============================================================================\n",
      "Dep. Variable:                 income   R-squared:                       0.445\n",
      "Model:                            OLS   Adj. R-squared:                  0.445\n",
      "Method:                 Least Squares   F-statistic:                 1.524e+06\n",
      "Date:                Tue, 02 Jul 2019   Prob (F-statistic):               0.00\n",
      "Time:                        11:34:24   Log-Likelihood:            -3.9530e+07\n",
      "No. Observations:             3799500   AIC:                         7.906e+07\n",
      "Df Residuals:                 3799497   BIC:                         7.906e+07\n",
      "Df Model:                           2                                         \n",
      "Covariance Type:            nonrobust                                         \n",
      "===============================================================================\n",
      "                  coef    std err          t      P>|t|      [0.025      0.975]\n",
      "-------------------------------------------------------------------------------\n",
      "Intercept   -1.495e-08     12.748  -1.17e-09      1.000     -24.986      24.986\n",
      "Gini         2.393e-11      0.319    7.5e-11      1.000      -0.625       0.625\n",
      "mean_income     1.0000      0.001   1745.694      0.000       0.999       1.001\n",
      "==============================================================================\n",
      "Omnibus:                  4298019.468   Durbin-Watson:                   0.001\n",
      "Prob(Omnibus):                  0.000   Jarque-Bera (JB):        703730413.298\n",
      "Skew:                           5.716   Prob(JB):                         0.00\n",
      "Kurtosis:                      68.685   Cond. No.                     3.41e+04\n",
      "==============================================================================\n",
      "\n",
      "Warnings:\n",
      "[1] Standard Errors assume that the covariance matrix of the errors is correctly specified.\n",
      "[2] The condition number is large, 3.41e+04. This might indicate that there are\n",
      "strong multicollinearity or other numerical problems.\n"
     ]
    }
   ],
   "source": [
    "reg_multi = smf.ols(\"income~Gini+mean_income\", data=df_final).fit()\n",
    "print(reg_multi.summary())"
   ]
  },
  {
   "cell_type": "markdown",
   "metadata": {},
   "source": [
    "<p>On voit sur cette régression que l'indice de Gini n'est pas significatif, on peut donc l'enlever</p>\n",
    "\n",
    "<p> Il semble même qu'il y ait une colinéarité entre Gini et income </p>"
   ]
  },
  {
   "cell_type": "code",
   "execution_count": 64,
   "metadata": {},
   "outputs": [
    {
     "name": "stdout",
     "output_type": "stream",
     "text": [
      "                            OLS Regression Results                            \n",
      "==============================================================================\n",
      "Dep. Variable:                 income   R-squared:                       0.445\n",
      "Model:                            OLS   Adj. R-squared:                  0.445\n",
      "Method:                 Least Squares   F-statistic:                 3.048e+06\n",
      "Date:                Tue, 02 Jul 2019   Prob (F-statistic):               0.00\n",
      "Time:                        11:34:26   Log-Likelihood:            -3.9530e+07\n",
      "No. Observations:             3799500   AIC:                         7.906e+07\n",
      "Df Residuals:                 3799498   BIC:                         7.906e+07\n",
      "Df Model:                           1                                         \n",
      "Covariance Type:            nonrobust                                         \n",
      "===============================================================================\n",
      "                  coef    std err          t      P>|t|      [0.025      0.975]\n",
      "-------------------------------------------------------------------------------\n",
      "Intercept   -5.223e-10      6.282  -8.31e-11      1.000     -12.312      12.312\n",
      "mean_income     1.0000      0.001   1745.851      0.000       0.999       1.001\n",
      "==============================================================================\n",
      "Omnibus:                  4298019.468   Durbin-Watson:                   0.001\n",
      "Prob(Omnibus):                  0.000   Jarque-Bera (JB):        703730413.300\n",
      "Skew:                           5.716   Prob(JB):                         0.00\n",
      "Kurtosis:                      68.685   Cond. No.                     1.68e+04\n",
      "==============================================================================\n",
      "\n",
      "Warnings:\n",
      "[1] Standard Errors assume that the covariance matrix of the errors is correctly specified.\n",
      "[2] The condition number is large, 1.68e+04. This might indicate that there are\n",
      "strong multicollinearity or other numerical problems.\n"
     ]
    }
   ],
   "source": [
    "reg_multi = smf.ols(\"income~mean_income\", data=df_final).fit()\n",
    "print(reg_multi.summary())"
   ]
  },
  {
   "cell_type": "markdown",
   "metadata": {},
   "source": [
    "<p> Le paramètre est ici significatif, et on obtient un R-squared de 0.445 </p>\n",
    "    \n",
    "<p> La décomposition de variance totale expliquée pour le pays de naissance est donc égale à 0.445 </p>\n",
    "\n",
    "<p> Et pour les autres facteurs, on a 1-0.445 = 0.555 ? </p>\n",
    "\n",
    "<p> Intercept à 1 par contre, voir explications </p>"
   ]
  },
  {
   "cell_type": "code",
   "execution_count": 65,
   "metadata": {},
   "outputs": [],
   "source": [
    "from statsmodels.stats.outliers_influence import variance_inflation_factor"
   ]
  },
  {
   "cell_type": "code",
   "execution_count": 66,
   "metadata": {},
   "outputs": [
    {
     "data": {
      "text/plain": [
       "[0.999999999999887]"
      ]
     },
     "execution_count": 66,
     "metadata": {},
     "output_type": "execute_result"
    }
   ],
   "source": [
    "variables = reg_multi.model.exog\n",
    "[variance_inflation_factor(variables, i) for i in np.arange(1,variables.shape[1])]"
   ]
  },
  {
   "cell_type": "markdown",
   "metadata": {},
   "source": [
    "Pas de problème de colinéarité"
   ]
  },
  {
   "cell_type": "markdown",
   "metadata": {},
   "source": [
    "### Income logarithme"
   ]
  },
  {
   "cell_type": "code",
   "execution_count": 67,
   "metadata": {},
   "outputs": [
    {
     "name": "stdout",
     "output_type": "stream",
     "text": [
      "                            OLS Regression Results                            \n",
      "==============================================================================\n",
      "Dep. Variable:                 income   R-squared:                       0.359\n",
      "Model:                            OLS   Adj. R-squared:                  0.359\n",
      "Method:                 Least Squares   F-statistic:                 1.065e+06\n",
      "Date:                Tue, 02 Jul 2019   Prob (F-statistic):               0.00\n",
      "Time:                        11:34:30   Log-Likelihood:            -3.9804e+07\n",
      "No. Observations:             3799500   AIC:                         7.961e+07\n",
      "Df Residuals:                 3799497   BIC:                         7.961e+07\n",
      "Df Model:                           2                                         \n",
      "Covariance Type:            nonrobust                                         \n",
      "=============================================================================================\n",
      "                                coef    std err          t      P>|t|      [0.025      0.975]\n",
      "---------------------------------------------------------------------------------------------\n",
      "Intercept                 -4.359e+04     37.629  -1158.319      0.000   -4.37e+04   -4.35e+04\n",
      "Gini                        -58.7552      0.346   -169.855      0.000     -59.433     -58.077\n",
      "mean_income.apply(np.log)  6284.3072      4.307   1458.995      0.000    6275.865    6292.749\n",
      "==============================================================================\n",
      "Omnibus:                  4176677.504   Durbin-Watson:                   0.001\n",
      "Prob(Omnibus):                  0.000   Jarque-Bera (JB):        571271704.542\n",
      "Skew:                           5.496   Prob(JB):                         0.00\n",
      "Kurtosis:                      62.057   Cond. No.                         328.\n",
      "==============================================================================\n",
      "\n",
      "Warnings:\n",
      "[1] Standard Errors assume that the covariance matrix of the errors is correctly specified.\n"
     ]
    }
   ],
   "source": [
    "reg_multi_ln = smf.ols(\"income~Gini+mean_income.apply(np.log)\", data=df_final).fit()\n",
    "print(reg_multi_ln.summary())"
   ]
  },
  {
   "cell_type": "markdown",
   "metadata": {},
   "source": [
    "<p> En passant la variable mean_income en logarithm on obtient deux paramètres significatifs, cependant, on peut voir que le R-squared est faible : 0.359  </p>\n",
    "\n",
    "<p> On gardera tout de même ce modèle puisqu'il contient plus de paramètres </p>\n",
    "\n",
    "<p> La décomposition de variance totale expliquée pour le pays de naissance est donc égale à 0.359 </p>\n",
    "\n",
    "<p> Et pour les autres facteurs, on a 1-0.359 = 0.641 ? </p>"
   ]
  },
  {
   "cell_type": "markdown",
   "metadata": {},
   "source": [
    "## Amélioration du modèle :  "
   ]
  },
  {
   "cell_type": "markdown",
   "metadata": {},
   "source": [
    "### Income sans logarithme"
   ]
  },
  {
   "cell_type": "code",
   "execution_count": 68,
   "metadata": {},
   "outputs": [
    {
     "name": "stdout",
     "output_type": "stream",
     "text": [
      "                            OLS Regression Results                            \n",
      "==============================================================================\n",
      "Dep. Variable:                 income   R-squared:                       0.449\n",
      "Model:                            OLS   Adj. R-squared:                  0.449\n",
      "Method:                 Least Squares   F-statistic:                 1.548e+06\n",
      "Date:                Tue, 02 Jul 2019   Prob (F-statistic):               0.00\n",
      "Time:                        11:34:33   Log-Likelihood:            -3.9517e+07\n",
      "No. Observations:             3799500   AIC:                         7.903e+07\n",
      "Df Residuals:                 3799497   BIC:                         7.903e+07\n",
      "Df Model:                           2                                         \n",
      "Covariance Type:            nonrobust                                         \n",
      "===============================================================================\n",
      "                  coef    std err          t      P>|t|      [0.025      0.975]\n",
      "-------------------------------------------------------------------------------\n",
      "Intercept    6731.2139     41.898    160.657      0.000    6649.095    6813.333\n",
      "mean_income     1.0000      0.001   1751.905      0.000       0.999       1.001\n",
      "c_i_parents -6664.5572     41.017   -162.481      0.000   -6744.950   -6584.164\n",
      "==============================================================================\n",
      "Omnibus:                  4321924.854   Durbin-Watson:                   0.001\n",
      "Prob(Omnibus):                  0.000   Jarque-Bera (JB):        719305056.285\n",
      "Skew:                           5.769   Prob(JB):                         0.00\n",
      "Kurtosis:                      69.411   Cond. No.                     1.57e+05\n",
      "==============================================================================\n",
      "\n",
      "Warnings:\n",
      "[1] Standard Errors assume that the covariance matrix of the errors is correctly specified.\n",
      "[2] The condition number is large, 1.57e+05. This might indicate that there are\n",
      "strong multicollinearity or other numerical problems.\n"
     ]
    }
   ],
   "source": [
    "reg_multi = smf.ols(\"income~mean_income+c_i_parents\", data=df_final).fit()\n",
    "print(reg_multi.summary())"
   ]
  },
  {
   "cell_type": "markdown",
   "metadata": {},
   "source": [
    "<p> Les paramètres sont bien significatifs, et on obtient un R-squared de 0.449 ! </p>"
   ]
  },
  {
   "cell_type": "code",
   "execution_count": 69,
   "metadata": {},
   "outputs": [
    {
     "data": {
      "text/plain": [
       "[1.0000000000093245, 1.0000000000095044]"
      ]
     },
     "execution_count": 69,
     "metadata": {},
     "output_type": "execute_result"
    }
   ],
   "source": [
    "variables = reg_multi.model.exog\n",
    "[variance_inflation_factor(variables, i) for i in np.arange(1,variables.shape[1])]"
   ]
  },
  {
   "cell_type": "markdown",
   "metadata": {},
   "source": [
    "Pas de colinéarité "
   ]
  },
  {
   "cell_type": "markdown",
   "metadata": {},
   "source": [
    "### Income logarithme"
   ]
  },
  {
   "cell_type": "code",
   "execution_count": 70,
   "metadata": {},
   "outputs": [
    {
     "name": "stdout",
     "output_type": "stream",
     "text": [
      "                            OLS Regression Results                            \n",
      "==============================================================================\n",
      "Dep. Variable:                 income   R-squared:                       0.363\n",
      "Model:                            OLS   Adj. R-squared:                  0.363\n",
      "Method:                 Least Squares   F-statistic:                 7.216e+05\n",
      "Date:                Tue, 02 Jul 2019   Prob (F-statistic):               0.00\n",
      "Time:                        11:34:39   Log-Likelihood:            -3.9793e+07\n",
      "No. Observations:             3799500   AIC:                         7.959e+07\n",
      "Df Residuals:                 3799496   BIC:                         7.959e+07\n",
      "Df Model:                           3                                         \n",
      "Covariance Type:            nonrobust                                         \n",
      "=============================================================================================\n",
      "                                coef    std err          t      P>|t|      [0.025      0.975]\n",
      "---------------------------------------------------------------------------------------------\n",
      "Intercept                 -3.685e+04     58.237   -632.837      0.000    -3.7e+04   -3.67e+04\n",
      "Gini                        -58.7552      0.345   -170.365      0.000     -59.431     -58.079\n",
      "mean_income.apply(np.log)  6284.3089      4.294   1463.374      0.000    6275.892    6292.726\n",
      "c_i_parents               -6664.9532     44.102   -151.125      0.000   -6751.392   -6578.515\n",
      "==============================================================================\n",
      "Omnibus:                  4195296.553   Durbin-Watson:                   0.001\n",
      "Prob(Omnibus):                  0.000   Jarque-Bera (JB):        582150550.915\n",
      "Skew:                           5.535   Prob(JB):                         0.00\n",
      "Kurtosis:                      62.621   Cond. No.                         600.\n",
      "==============================================================================\n",
      "\n",
      "Warnings:\n",
      "[1] Standard Errors assume that the covariance matrix of the errors is correctly specified.\n"
     ]
    }
   ],
   "source": [
    "reg_multi_ln = smf.ols(\"income~Gini+mean_income.apply(np.log)+c_i_parents\", \n",
    "                       data=df_final).fit()\n",
    "\n",
    "print(reg_multi_ln.summary())"
   ]
  },
  {
   "cell_type": "markdown",
   "metadata": {},
   "source": [
    "<p> Les paramètres sont là aussi significatifs, cependant le R-squared est inférieur à la reg précédente : 0.363 </p>\n",
    "\n",
    "<p> On gardera quand même ce modèle, qui encore une fois présente plus de paramètres </p>"
   ]
  },
  {
   "cell_type": "markdown",
   "metadata": {},
   "source": [
    "<p> L'indice de Gini est placé en coefficient négatif, ce qui veut dire que plus l'Income est grand, plus l'indice est petit ? REVOIR CE POINT </p>"
   ]
  },
  {
   "cell_type": "code",
   "execution_count": null,
   "metadata": {},
   "outputs": [],
   "source": []
  }
 ],
 "metadata": {
  "kernelspec": {
   "display_name": "Python 3",
   "language": "python",
   "name": "python3"
  },
  "language_info": {
   "codemirror_mode": {
    "name": "ipython",
    "version": 3
   },
   "file_extension": ".py",
   "mimetype": "text/x-python",
   "name": "python",
   "nbconvert_exporter": "python",
   "pygments_lexer": "ipython3",
   "version": "3.7.1"
  },
  "toc": {
   "base_numbering": 1,
   "nav_menu": {},
   "number_sections": true,
   "sideBar": true,
   "skip_h1_title": false,
   "title_cell": "Table of Contents",
   "title_sidebar": "Contents",
   "toc_cell": false,
   "toc_position": {},
   "toc_section_display": true,
   "toc_window_display": false
  }
 },
 "nbformat": 4,
 "nbformat_minor": 2
}
