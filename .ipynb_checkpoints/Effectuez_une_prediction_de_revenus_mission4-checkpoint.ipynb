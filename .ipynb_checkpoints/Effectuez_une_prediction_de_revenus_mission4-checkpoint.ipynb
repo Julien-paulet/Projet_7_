{
 "cells": [
  {
   "cell_type": "code",
   "execution_count": 1,
   "metadata": {},
   "outputs": [],
   "source": [
    "import numpy as np\n",
    "import pandas as pd\n",
    "import matplotlib.pyplot as plt\n",
    "import seaborn as sns"
   ]
  },
  {
   "cell_type": "markdown",
   "metadata": {},
   "source": [
    "# Mission 4"
   ]
  },
  {
   "cell_type": "code",
   "execution_count": 2,
   "metadata": {},
   "outputs": [],
   "source": [
    "df_final = pd.read_csv('df_final')"
   ]
  },
  {
   "cell_type": "code",
   "execution_count": 3,
   "metadata": {},
   "outputs": [
    {
     "data": {
      "text/plain": [
       "(3799500, 7)"
      ]
     },
     "execution_count": 3,
     "metadata": {},
     "output_type": "execute_result"
    }
   ],
   "source": [
    "df_final.shape"
   ]
  },
  {
   "cell_type": "code",
   "execution_count": 4,
   "metadata": {},
   "outputs": [],
   "source": [
    "import statsmodels.formula.api as smf"
   ]
  },
  {
   "cell_type": "markdown",
   "metadata": {},
   "source": [
    "## ANOVA"
   ]
  },
  {
   "cell_type": "markdown",
   "metadata": {},
   "source": [
    "<p> Commençons par une boxplot, nous passerons ensuite au calcul de l'ANOVA ; </p>\n",
    "\n",
    "<p> Pour plus de lisibilité nous en prendrons que 10 Pays sur les 76 </p>"
   ]
  },
  {
   "cell_type": "code",
   "execution_count": 5,
   "metadata": {},
   "outputs": [
    {
     "data": {
      "image/png": "[encoded data removed]",
      "text/plain": [
       "<Figure size 864x576 with 1 Axes>"
      ]
     },
     "metadata": {
      "needs_background": "light"
     },
     "output_type": "display_data"
    }
   ],
   "source": [
    "np.random.seed(1)\n",
    "sample = np.random.randint(76, size=10)\n",
    "X_ = df_final['code'].unique()[sample]\n",
    "sampled_data_ = df_final[df_final.code.isin(X_)]\n",
    "\n",
    "X = \"code\" # qualitative\n",
    "\n",
    "Y = \"income\" # quantitative\n",
    "\n",
    "sous_echantillon = sampled_data_\n",
    "\n",
    "modalites = sous_echantillon[X].unique()\n",
    "\n",
    "groupes = []\n",
    "\n",
    "for m in modalites:\n",
    "\n",
    "    groupes.append(sous_echantillon[sous_echantillon[X]==m][Y])\n",
    "\n",
    "medianprops = {'color':\"black\"}\n",
    "\n",
    "meanprops = {'marker':'o', 'markeredgecolor':'black',\n",
    "\n",
    "            'markerfacecolor':'firebrick'}\n",
    "\n",
    "plt.figure(figsize=[12,8])\n",
    "plt.boxplot(groupes, labels=modalites, showfliers=False, medianprops=medianprops, \n",
    "\n",
    "            vert=False, patch_artist=True, showmeans=True, meanprops=meanprops)\n",
    "plt.title(\"Boxplot\")\n",
    "plt.xlabel(\"Income\")\n",
    "plt.ylabel(\"Code\")\n",
    "#plt.savefig(\"Graphiques/boxplot_.png\")\n",
    "plt.show()"
   ]
  },
  {
   "cell_type": "code",
   "execution_count": 6,
   "metadata": {},
   "outputs": [
    {
     "name": "stdout",
     "output_type": "stream",
     "text": [
      "                            OLS Regression Results                            \n",
      "==============================================================================\n",
      "Dep. Variable:                 income   R-squared:                       0.445\n",
      "Model:                            OLS   Adj. R-squared:                  0.445\n",
      "Method:                 Least Squares   F-statistic:                 4.064e+04\n",
      "Date:                Tue, 23 Jul 2019   Prob (F-statistic):               0.00\n",
      "Time:                        16:04:31   Log-Likelihood:            -3.9530e+07\n",
      "No. Observations:             3799500   AIC:                         7.906e+07\n",
      "Df Residuals:                 3799424   BIC:                         7.906e+07\n",
      "Df Model:                          75                                         \n",
      "Covariance Type:            nonrobust                                         \n",
      "===============================================================================\n",
      "                  coef    std err          t      P>|t|      [0.025      0.975]\n",
      "-------------------------------------------------------------------------------\n",
      "Intercept    2994.8299     35.703     83.883      0.000    2924.854    3064.806\n",
      "code[T.ARG]  2853.0548     50.491     56.506      0.000    2754.094    2952.016\n",
      "code[T.ARM] -1366.4471     50.491    -27.063      0.000   -1465.408   -1267.486\n",
      "code[T.AUT]  1.364e+04     50.491    270.201      0.000    1.35e+04    1.37e+04\n",
      "code[T.AZE]  -637.4009     50.491    -12.624      0.000    -736.362    -538.440\n",
      "code[T.BEL]  1.203e+04     50.491    238.255      0.000    1.19e+04    1.21e+04\n",
      "code[T.BGR]  1990.1487     50.491     39.416      0.000    1891.188    2089.110\n",
      "code[T.BLR]   926.3336     50.491     18.346      0.000     827.373    1025.295\n",
      "code[T.BOL]    21.4339     50.491      0.425      0.671     -77.527     120.395\n",
      "code[T.BRA]  1812.6547     50.491     35.900      0.000    1713.694    1911.616\n",
      "code[T.CAF] -2183.5300     50.491    -43.246      0.000   -2282.491   -2084.569\n",
      "code[T.CAN]  2.074e+04     50.491    410.860      0.000    2.06e+04    2.08e+04\n",
      "code[T.CIV] -2594.9947     50.491    -51.395      0.000   -2693.956   -2496.034\n",
      "code[T.COD] -2718.8139     50.491    -53.847      0.000   -2817.775   -2619.853\n",
      "code[T.COL]   552.1754     50.491     10.936      0.000     453.214     651.136\n",
      "code[T.CRI]  2585.5567     50.491     51.208      0.000    2486.596    2684.518\n",
      "code[T.CYP]  1.435e+04     50.491    284.219      0.000    1.43e+04    1.44e+04\n",
      "code[T.CZE]  5240.4635     50.491    103.790      0.000    5141.503    5339.424\n",
      "code[T.DEU]  1.507e+04     50.491    298.406      0.000     1.5e+04    1.52e+04\n",
      "code[T.DNK]  1.405e+04     50.491    278.233      0.000    1.39e+04    1.41e+04\n",
      "code[T.DOM]   563.5722     50.491     11.162      0.000     464.611     662.533\n",
      "code[T.ECU]   388.9111     50.491      7.703      0.000     289.950     487.872\n",
      "code[T.ESP]  1.012e+04     50.491    200.474      0.000       1e+04    1.02e+04\n",
      "code[T.EST]  4707.2327     50.491     93.229      0.000    4608.272    4806.194\n",
      "code[T.FIN]  1.331e+04     50.491    263.640      0.000    1.32e+04    1.34e+04\n",
      "code[T.FJI]  -896.0990     50.491    -17.748      0.000    -995.060    -797.138\n",
      "code[T.FRA]  1.531e+04     50.491    303.312      0.000    1.52e+04    1.54e+04\n",
      "code[T.GBR]  1.871e+04     50.491    370.654      0.000    1.86e+04    1.88e+04\n",
      "code[T.GEO] -1631.0713     50.491    -32.304      0.000   -1730.032   -1532.110\n",
      "code[T.GRC]  8732.4444     50.491    172.950      0.000    8633.483    8831.405\n",
      "code[T.HND]   301.4385     50.491      5.970      0.000     202.478     400.399\n",
      "code[T.HRV]  4721.6359     50.491     93.514      0.000    4622.675    4820.597\n",
      "code[T.HUN]  3106.5113     50.491     61.526      0.000    3007.550    3205.472\n",
      "code[T.IRL]  1.472e+04     50.491    291.455      0.000    1.46e+04    1.48e+04\n",
      "code[T.IRN]  2837.8256     50.491     56.204      0.000    2738.865    2936.787\n",
      "code[T.IRQ] -1289.3176     50.491    -25.535      0.000   -1388.279   -1190.357\n",
      "code[T.ISL]  2.389e+04     50.491    473.225      0.000    2.38e+04     2.4e+04\n",
      "code[T.ISR]  8105.4882     50.491    160.533      0.000    8006.527    8204.449\n",
      "code[T.ITA]  1.193e+04     50.491    236.286      0.000    1.18e+04     1.2e+04\n",
      "code[T.JOR]    53.8011     50.491      1.066      0.287     -45.160     152.762\n",
      "code[T.JPN]  1.444e+04     50.491    285.953      0.000    1.43e+04    1.45e+04\n",
      "code[T.KAZ]  -755.6801     50.491    -14.967      0.000    -854.641    -656.719\n",
      "code[T.KGZ] -1221.6107     50.491    -24.195      0.000   -1320.572   -1122.650\n",
      "code[T.KHM] -1508.4897     50.491    -29.876      0.000   -1607.451   -1409.529\n",
      "code[T.KOR]  1.223e+04     50.491    242.275      0.000    1.21e+04    1.23e+04\n",
      "code[T.LTU]  3646.4177     50.619     72.037      0.000    3547.207    3745.628\n",
      "code[T.LUX]  2.222e+04     50.491    440.131      0.000    2.21e+04    2.23e+04\n",
      "code[T.LVA]  3769.6447     50.491     74.659      0.000    3670.684    3868.606\n",
      "code[T.MDA]  -845.6585     50.491    -16.749      0.000    -944.619    -746.698\n",
      "code[T.MEX]   891.0004     50.491     17.647      0.000     792.039     989.961\n",
      "code[T.MKD]  1604.5664     50.491     31.779      0.000    1505.605    1703.527\n",
      "code[T.MNE]  3553.0692     50.491     70.370      0.000    3454.108    3652.030\n",
      "code[T.MOZ] -2302.3494     50.491    -45.599      0.000   -2401.310   -2203.388\n",
      "code[T.MRT] -1196.2208     50.491    -23.692      0.000   -1295.182   -1097.260\n",
      "code[T.NLD]  1.473e+04     50.491    291.809      0.000    1.46e+04    1.48e+04\n",
      "code[T.NOR]  1.949e+04     50.491    385.979      0.000    1.94e+04    1.96e+04\n",
      "code[T.PAK] -2106.9906     50.491    -41.730      0.000   -2205.952   -2008.030\n",
      "code[T.PER]   335.7034     50.491      6.649      0.000     236.742     434.664\n",
      "code[T.POL]  2746.8903     50.491     54.403      0.000    2647.929    2845.851\n",
      "code[T.PRT]  7103.8455     50.491    140.695      0.000    7004.884    7202.806\n",
      "code[T.PRY]   283.2511     50.491      5.610      0.000     184.290     382.212\n",
      "code[T.ROU]   323.5073     50.491      6.407      0.000     224.546     422.468\n",
      "code[T.RUS]  4161.9408     50.491     82.429      0.000    4062.980    4260.902\n",
      "code[T.SLV]  -139.6051     50.491     -2.765      0.006    -238.566     -40.644\n",
      "code[T.SRB]  1884.9209     50.491     37.332      0.000    1785.960    1983.882\n",
      "code[T.SVK]  3101.7500     50.491     61.431      0.000    3002.789    3200.711\n",
      "code[T.SVN]  9111.1776     50.491    180.451      0.000    9012.217    9210.139\n",
      "code[T.SWE]  1.319e+04     50.491    261.222      0.000    1.31e+04    1.33e+04\n",
      "code[T.TUR]  3055.6354     50.491     60.518      0.000    2956.674    3154.596\n",
      "code[T.TWN]  1.351e+04     50.491    267.480      0.000    1.34e+04    1.36e+04\n",
      "code[T.UKR]   354.5584     50.491      7.022      0.000     255.597     453.519\n",
      "code[T.URY]  2295.9550     50.491     45.472      0.000    2196.994    2394.916\n",
      "code[T.USA]  2.251e+04     50.491    445.795      0.000    2.24e+04    2.26e+04\n",
      "code[T.XKX]  -818.5609     50.491    -16.212      0.000    -917.522    -719.600\n",
      "code[T.YEM] -1952.1940     50.491    -38.664      0.000   -2051.155   -1853.233\n",
      "code[T.ZAF]  2623.0750     50.491     51.951      0.000    2524.114    2722.036\n",
      "==============================================================================\n",
      "Omnibus:                  4298019.468   Durbin-Watson:                   0.001\n",
      "Prob(Omnibus):                  0.000   Jarque-Bera (JB):        703730413.299\n",
      "Skew:                           5.716   Prob(JB):                         0.00\n",
      "Kurtosis:                      68.685   Cond. No.                         77.0\n",
      "==============================================================================\n",
      "\n",
      "Warnings:\n",
      "[1] Standard Errors assume that the covariance matrix of the errors is correctly specified.\n"
     ]
    }
   ],
   "source": [
    "anova_pays = smf.ols('income~code', data=df_final).fit()\n",
    "print(anova_pays.summary())"
   ]
  },
  {
   "cell_type": "code",
   "execution_count": 7,
   "metadata": {},
   "outputs": [
    {
     "data": {
      "text/html": [
       "<div>\n",
       "<style scoped>\n",
       "    .dataframe tbody tr th:only-of-type {\n",
       "        vertical-align: middle;\n",
       "    }\n",
       "\n",
       "    .dataframe tbody tr th {\n",
       "        vertical-align: top;\n",
       "    }\n",
       "\n",
       "    .dataframe thead th {\n",
       "        text-align: right;\n",
       "    }\n",
       "</style>\n",
       "<table border=\"1\" class=\"dataframe\">\n",
       "  <thead>\n",
       "    <tr style=\"text-align: right;\">\n",
       "      <th></th>\n",
       "      <th>sum_sq</th>\n",
       "      <th>df</th>\n",
       "      <th>F</th>\n",
       "      <th>PR(&gt;F)</th>\n",
       "    </tr>\n",
       "  </thead>\n",
       "  <tbody>\n",
       "    <tr>\n",
       "      <th>code</th>\n",
       "      <td>1.942574e+14</td>\n",
       "      <td>75.0</td>\n",
       "      <td>40639.163243</td>\n",
       "      <td>0.0</td>\n",
       "    </tr>\n",
       "    <tr>\n",
       "      <th>Residual</th>\n",
       "      <td>2.421527e+14</td>\n",
       "      <td>3799424.0</td>\n",
       "      <td>NaN</td>\n",
       "      <td>NaN</td>\n",
       "    </tr>\n",
       "  </tbody>\n",
       "</table>\n",
       "</div>"
      ],
      "text/plain": [
       "                sum_sq         df             F  PR(>F)\n",
       "code      1.942574e+14       75.0  40639.163243     0.0\n",
       "Residual  2.421527e+14  3799424.0           NaN     NaN"
      ]
     },
     "execution_count": 7,
     "metadata": {},
     "output_type": "execute_result"
    }
   ],
   "source": [
    "import statsmodels.api as sm\n",
    "anov_table = sm.stats.anova_lm(anova_pays, typ=2)\n",
    "anov_table"
   ]
  },
  {
   "cell_type": "markdown",
   "metadata": {},
   "source": [
    "<p> Test de Ficher : <br/>\n",
    "    La p_valeur = 0 ; Le pays a donc bien un impact sur les revenus. </p>"
   ]
  },
  {
   "cell_type": "markdown",
   "metadata": {},
   "source": [
    "Il semblerait qu'une p-valeur à 0 soit significative : <br/>\n",
    "https://www.researchgate.net/post/p_value_of_0000"
   ]
  },
  {
   "cell_type": "markdown",
   "metadata": {},
   "source": [
    "## Régressions Linéaires"
   ]
  },
  {
   "cell_type": "markdown",
   "metadata": {},
   "source": [
    "### Income sans logarithme"
   ]
  },
  {
   "cell_type": "code",
   "execution_count": 8,
   "metadata": {},
   "outputs": [
    {
     "name": "stdout",
     "output_type": "stream",
     "text": [
      "                            OLS Regression Results                            \n",
      "==============================================================================\n",
      "Dep. Variable:                 income   R-squared:                       0.445\n",
      "Model:                            OLS   Adj. R-squared:                  0.445\n",
      "Method:                 Least Squares   F-statistic:                 1.524e+06\n",
      "Date:                Tue, 23 Jul 2019   Prob (F-statistic):               0.00\n",
      "Time:                        16:04:34   Log-Likelihood:            -3.9530e+07\n",
      "No. Observations:             3799500   AIC:                         7.906e+07\n",
      "Df Residuals:                 3799497   BIC:                         7.906e+07\n",
      "Df Model:                           2                                         \n",
      "Covariance Type:            nonrobust                                         \n",
      "===============================================================================\n",
      "                  coef    std err          t      P>|t|      [0.025      0.975]\n",
      "-------------------------------------------------------------------------------\n",
      "Intercept   -1.496e-08     12.748  -1.17e-09      1.000     -24.986      24.986\n",
      "Gini         2.394e-11      0.319    7.5e-11      1.000      -0.625       0.625\n",
      "mean_income     1.0000      0.001   1745.694      0.000       0.999       1.001\n",
      "==============================================================================\n",
      "Omnibus:                  4298019.468   Durbin-Watson:                   0.001\n",
      "Prob(Omnibus):                  0.000   Jarque-Bera (JB):        703730413.298\n",
      "Skew:                           5.716   Prob(JB):                         0.00\n",
      "Kurtosis:                      68.685   Cond. No.                     3.41e+04\n",
      "==============================================================================\n",
      "\n",
      "Warnings:\n",
      "[1] Standard Errors assume that the covariance matrix of the errors is correctly specified.\n",
      "[2] The condition number is large, 3.41e+04. This might indicate that there are\n",
      "strong multicollinearity or other numerical problems.\n"
     ]
    }
   ],
   "source": [
    "reg_multi = smf.ols(\"income~Gini+mean_income\", data=df_final).fit()\n",
    "print(reg_multi.summary())"
   ]
  },
  {
   "cell_type": "markdown",
   "metadata": {},
   "source": [
    "<p>On voit sur cette régression que l'indice de Gini n'est pas significatif, on peut donc l'enlever</p>"
   ]
  },
  {
   "cell_type": "code",
   "execution_count": 9,
   "metadata": {},
   "outputs": [
    {
     "name": "stdout",
     "output_type": "stream",
     "text": [
      "                            OLS Regression Results                            \n",
      "==============================================================================\n",
      "Dep. Variable:                 income   R-squared:                       0.445\n",
      "Model:                            OLS   Adj. R-squared:                  0.445\n",
      "Method:                 Least Squares   F-statistic:                 3.048e+06\n",
      "Date:                Tue, 23 Jul 2019   Prob (F-statistic):               0.00\n",
      "Time:                        16:04:36   Log-Likelihood:            -3.9530e+07\n",
      "No. Observations:             3799500   AIC:                         7.906e+07\n",
      "Df Residuals:                 3799498   BIC:                         7.906e+07\n",
      "Df Model:                           1                                         \n",
      "Covariance Type:            nonrobust                                         \n",
      "===============================================================================\n",
      "                  coef    std err          t      P>|t|      [0.025      0.975]\n",
      "-------------------------------------------------------------------------------\n",
      "Intercept   -5.224e-10      6.282  -8.32e-11      1.000     -12.312      12.312\n",
      "mean_income     1.0000      0.001   1745.851      0.000       0.999       1.001\n",
      "==============================================================================\n",
      "Omnibus:                  4298019.468   Durbin-Watson:                   0.001\n",
      "Prob(Omnibus):                  0.000   Jarque-Bera (JB):        703730413.300\n",
      "Skew:                           5.716   Prob(JB):                         0.00\n",
      "Kurtosis:                      68.685   Cond. No.                     1.68e+04\n",
      "==============================================================================\n",
      "\n",
      "Warnings:\n",
      "[1] Standard Errors assume that the covariance matrix of the errors is correctly specified.\n",
      "[2] The condition number is large, 1.68e+04. This might indicate that there are\n",
      "strong multicollinearity or other numerical problems.\n"
     ]
    }
   ],
   "source": [
    "reg_multi1 = smf.ols(\"income~mean_income\", data=df_final).fit()\n",
    "print(reg_multi1.summary())"
   ]
  },
  {
   "cell_type": "markdown",
   "metadata": {},
   "source": [
    "Ajout de "
   ]
  },
  {
   "cell_type": "markdown",
   "metadata": {},
   "source": [
    "<p> Le paramètre est ici significatif, et on obtient un R-squared de 0.445 </p>\n",
    "\n",
    "<p> R² = SCE/SCT ; </p>\n",
    "    \n",
    "<p> La décomposition de variance totale expliquée pour le pays de naissance est donc égale à 0.445 </p>\n",
    "\n",
    "<p> Et pour les autres facteurs, on a 1-0.445 = 0.555 </p>"
   ]
  },
  {
   "cell_type": "code",
   "execution_count": 10,
   "metadata": {},
   "outputs": [],
   "source": [
    "from statsmodels.stats.outliers_influence import variance_inflation_factor"
   ]
  },
  {
   "cell_type": "code",
   "execution_count": 11,
   "metadata": {},
   "outputs": [
    {
     "data": {
      "text/plain": [
       "array([1.66755086, 0.33280761, 0.99964153])"
      ]
     },
     "execution_count": 11,
     "metadata": {},
     "output_type": "execute_result"
    }
   ],
   "source": [
    "coli = df_final[['income', 'Gini', 'mean_income']]\n",
    "corr = np.corrcoef(coli, rowvar=0)\n",
    "w, v = np.linalg.eig(corr)\n",
    "w"
   ]
  },
  {
   "cell_type": "markdown",
   "metadata": {},
   "source": [
    "<p> Il y a colinéarité si l'une des eigen values était proche de 0 </p>\n",
    "<p> Pas de problème de colinéarité </p>"
   ]
  },
  {
   "cell_type": "markdown",
   "metadata": {},
   "source": [
    "### Income logarithme"
   ]
  },
  {
   "cell_type": "code",
   "execution_count": 12,
   "metadata": {},
   "outputs": [
    {
     "name": "stdout",
     "output_type": "stream",
     "text": [
      "                            OLS Regression Results                            \n",
      "==============================================================================\n",
      "Dep. Variable:                 income   R-squared:                       0.359\n",
      "Model:                            OLS   Adj. R-squared:                  0.359\n",
      "Method:                 Least Squares   F-statistic:                 1.065e+06\n",
      "Date:                Tue, 23 Jul 2019   Prob (F-statistic):               0.00\n",
      "Time:                        16:04:40   Log-Likelihood:            -3.9804e+07\n",
      "No. Observations:             3799500   AIC:                         7.961e+07\n",
      "Df Residuals:                 3799497   BIC:                         7.961e+07\n",
      "Df Model:                           2                                         \n",
      "Covariance Type:            nonrobust                                         \n",
      "=============================================================================================\n",
      "                                coef    std err          t      P>|t|      [0.025      0.975]\n",
      "---------------------------------------------------------------------------------------------\n",
      "Intercept                 -4.359e+04     37.629  -1158.319      0.000   -4.37e+04   -4.35e+04\n",
      "Gini                        -58.7552      0.346   -169.855      0.000     -59.433     -58.077\n",
      "mean_income.apply(np.log)  6284.3072      4.307   1458.995      0.000    6275.865    6292.749\n",
      "==============================================================================\n",
      "Omnibus:                  4176677.504   Durbin-Watson:                   0.001\n",
      "Prob(Omnibus):                  0.000   Jarque-Bera (JB):        571271704.542\n",
      "Skew:                           5.496   Prob(JB):                         0.00\n",
      "Kurtosis:                      62.057   Cond. No.                         328.\n",
      "==============================================================================\n",
      "\n",
      "Warnings:\n",
      "[1] Standard Errors assume that the covariance matrix of the errors is correctly specified.\n"
     ]
    }
   ],
   "source": [
    "reg_multi_ln = smf.ols(\"income~Gini+mean_income.apply(np.log)\", data=df_final).fit()\n",
    "print(reg_multi_ln.summary())"
   ]
  },
  {
   "cell_type": "markdown",
   "metadata": {},
   "source": [
    "<p> En passant la variable mean_income en logarithm on obtient deux paramètres significatifs, cependant, on peut voir que le R-squared est faible : 0.359  </p>\n",
    "\n",
    "<p> On gardera tout de même ce modèle puisqu'il contient plus de paramètres </p>\n",
    "\n",
    "<p> La décomposition de variance totale expliquée pour le pays de naissance est donc égale à 0.359 </p>\n",
    "\n",
    "<p> Et pour les autres facteurs, on a 1-0.359 = 0.641 </p>"
   ]
  },
  {
   "cell_type": "markdown",
   "metadata": {},
   "source": [
    "## Amélioration du modèle :  "
   ]
  },
  {
   "cell_type": "markdown",
   "metadata": {},
   "source": [
    "### Income logarithme"
   ]
  },
  {
   "cell_type": "code",
   "execution_count": 13,
   "metadata": {},
   "outputs": [
    {
     "name": "stdout",
     "output_type": "stream",
     "text": [
      "                            OLS Regression Results                            \n",
      "==============================================================================\n",
      "Dep. Variable:                 income   R-squared:                       0.389\n",
      "Model:                            OLS   Adj. R-squared:                  0.389\n",
      "Method:                 Least Squares   F-statistic:                 8.066e+05\n",
      "Date:                Tue, 23 Jul 2019   Prob (F-statistic):               0.00\n",
      "Time:                        16:04:43   Log-Likelihood:            -3.9713e+07\n",
      "No. Observations:             3799500   AIC:                         7.943e+07\n",
      "Df Residuals:                 3799496   BIC:                         7.943e+07\n",
      "Df Model:                           3                                         \n",
      "Covariance Type:            nonrobust                                         \n",
      "=============================================================================================\n",
      "                                coef    std err          t      P>|t|      [0.025      0.975]\n",
      "---------------------------------------------------------------------------------------------\n",
      "Intercept                 -4.683e+04     37.502  -1248.817      0.000   -4.69e+04   -4.68e+04\n",
      "Gini                        -58.7538      0.338   -173.963      0.000     -59.416     -58.092\n",
      "mean_income.apply(np.log)  6284.2806      4.205   1494.310      0.000    6276.038    6292.523\n",
      "c_i_parents                  64.2410      0.149    431.502      0.000      63.949      64.533\n",
      "==============================================================================\n",
      "Omnibus:                  4220313.247   Durbin-Watson:                   0.002\n",
      "Prob(Omnibus):                  0.000   Jarque-Bera (JB):        612984481.957\n",
      "Skew:                           5.576   Prob(JB):                         0.00\n",
      "Kurtosis:                      64.218   Cond. No.                         587.\n",
      "==============================================================================\n",
      "\n",
      "Warnings:\n",
      "[1] Standard Errors assume that the covariance matrix of the errors is correctly specified.\n"
     ]
    }
   ],
   "source": [
    "reg_multi_ln = smf.ols(\"income~Gini+mean_income.apply(np.log)+c_i_parents\", \n",
    "                       data=df_final).fit()\n",
    "\n",
    "print(reg_multi_ln.summary())"
   ]
  },
  {
   "cell_type": "markdown",
   "metadata": {},
   "source": [
    "<p> Les paramètres sont là aussi significatifs, cependant le R-squared est inférieur à la reg précédente : 0.389 </p>\n",
    "\n",
    "<p> La droite de régression s'écrit donc sous la forme : aX1 + bX2 + cX3 + d ; Soit : <br/>\n",
    "    -58.7538*X1 + 6284.2806*X2 + 64.2410*X3 + (-4.683e+04) <br/>\n",
    "    Avec : <ul> \n",
    "    <li> X1 = Gini </li>\n",
    "    <li> X2 = Mean_income (en log) </li>\n",
    "    <li> X3 = c_i_parents </li> </ul>\n",
    "\n",
    "<p> L'indice de Gini est placé en coefficient négatif, ce qui veut dire que plus l'Income est grand, plus l'indice est petit, et plus le revenu moyen est grand (logique). </p>\n",
    "\n",
    "<p> On peut donc en conclure que plus on va dans un  pays inégalitaire, plus l'indice est petit, et plus l'income est grand ; Un pays inégalitaire ne favorise donc pas plus de personne qu'il n'en défavorise </p>\n",
    "\n",
    "<p> Ici, la décomposition de variance totale expliquée pour le pays de naissance est égale à 0.389 ; Et celle non expliquée est de 1-0.389 = 0.611 </p>"
   ]
  },
  {
   "cell_type": "markdown",
   "metadata": {},
   "source": [
    "### Analyse des résultats de la régression"
   ]
  },
  {
   "cell_type": "code",
   "execution_count": 14,
   "metadata": {},
   "outputs": [],
   "source": [
    "#Testons d'abord sur un échantillon : \n",
    "from sklearn.model_selection import train_test_split\n",
    "\n",
    "df_final_, test = train_test_split(df_final, test_size=0.95)\n",
    "\n",
    "reg_multi_ln = smf.ols(\"income~Gini+mean_income.apply(np.log)+c_i_parents\", \n",
    "                       data=df_final_).fit()"
   ]
  },
  {
   "cell_type": "markdown",
   "metadata": {},
   "source": [
    "Niveau de test à 5%"
   ]
  },
  {
   "cell_type": "code",
   "execution_count": 15,
   "metadata": {},
   "outputs": [],
   "source": [
    "alpha = 0.05"
   ]
  },
  {
   "cell_type": "markdown",
   "metadata": {},
   "source": [
    "Récupérons $n$, le nombre d'individus de l'échantillon, et $p$, le nombre de variables."
   ]
  },
  {
   "cell_type": "code",
   "execution_count": 16,
   "metadata": {},
   "outputs": [],
   "source": [
    "n = df_final_.shape[0]\n",
    "p = 4"
   ]
  },
  {
   "cell_type": "markdown",
   "metadata": {},
   "source": [
    "Nous allons mener des analyses sur les valeurs atypiques et/ou influentes en travaillant sur un dataframe appelé  analyses."
   ]
  },
  {
   "cell_type": "code",
   "execution_count": 17,
   "metadata": {},
   "outputs": [],
   "source": [
    "analyses = pd.DataFrame({'obs':np.arange(1, n+1)})\n",
    "#analyses['obs'].astype('float', inplace=True)"
   ]
  },
  {
   "cell_type": "markdown",
   "metadata": {},
   "source": [
    "#### Calcul des leviers :\n",
    "On peut calculer les leviers comme ceci, en sachant que le seuil des leviers est de $2∗\\frac{p}{n}$."
   ]
  },
  {
   "cell_type": "code",
   "execution_count": 18,
   "metadata": {},
   "outputs": [],
   "source": [
    "analyses['levier'] = reg_multi_ln.get_influence().hat_matrix_diag\n",
    "\n",
    "seuil_levier = 2*p/n"
   ]
  },
  {
   "cell_type": "code",
   "execution_count": 19,
   "metadata": {},
   "outputs": [],
   "source": [
    "#plt.figure(figsize=(10,6))\n",
    "#plt.bar(analyses['obs'], analyses['levier'])\n",
    "#plt.xticks(np.arange(0, 189975, step=5))\n",
    "#plt.xlabel('Observation')\n",
    "#plt.ylabel('Leviers')\n",
    "#plt.plot([0, 189975], [seuil_levier, seuil_levier], color='r')\n",
    "#plt.show()"
   ]
  },
  {
   "cell_type": "markdown",
   "metadata": {},
   "source": [
    "Points où le levier est supérieur au seuil : "
   ]
  },
  {
   "cell_type": "code",
   "execution_count": 20,
   "metadata": {},
   "outputs": [
    {
     "data": {
      "text/html": [
       "<div>\n",
       "<style scoped>\n",
       "    .dataframe tbody tr th:only-of-type {\n",
       "        vertical-align: middle;\n",
       "    }\n",
       "\n",
       "    .dataframe tbody tr th {\n",
       "        vertical-align: top;\n",
       "    }\n",
       "\n",
       "    .dataframe thead th {\n",
       "        text-align: right;\n",
       "    }\n",
       "</style>\n",
       "<table border=\"1\" class=\"dataframe\">\n",
       "  <thead>\n",
       "    <tr style=\"text-align: right;\">\n",
       "      <th></th>\n",
       "      <th>obs</th>\n",
       "      <th>levier</th>\n",
       "    </tr>\n",
       "  </thead>\n",
       "  <tbody>\n",
       "    <tr>\n",
       "      <th>12</th>\n",
       "      <td>13</td>\n",
       "      <td>0.000066</td>\n",
       "    </tr>\n",
       "    <tr>\n",
       "      <th>15</th>\n",
       "      <td>16</td>\n",
       "      <td>0.000056</td>\n",
       "    </tr>\n",
       "    <tr>\n",
       "      <th>28</th>\n",
       "      <td>29</td>\n",
       "      <td>0.000059</td>\n",
       "    </tr>\n",
       "    <tr>\n",
       "      <th>34</th>\n",
       "      <td>35</td>\n",
       "      <td>0.000049</td>\n",
       "    </tr>\n",
       "    <tr>\n",
       "      <th>36</th>\n",
       "      <td>37</td>\n",
       "      <td>0.000052</td>\n",
       "    </tr>\n",
       "    <tr>\n",
       "      <th>42</th>\n",
       "      <td>43</td>\n",
       "      <td>0.000082</td>\n",
       "    </tr>\n",
       "    <tr>\n",
       "      <th>43</th>\n",
       "      <td>44</td>\n",
       "      <td>0.000052</td>\n",
       "    </tr>\n",
       "    <tr>\n",
       "      <th>51</th>\n",
       "      <td>52</td>\n",
       "      <td>0.000042</td>\n",
       "    </tr>\n",
       "    <tr>\n",
       "      <th>52</th>\n",
       "      <td>53</td>\n",
       "      <td>0.000054</td>\n",
       "    </tr>\n",
       "    <tr>\n",
       "      <th>65</th>\n",
       "      <td>66</td>\n",
       "      <td>0.000047</td>\n",
       "    </tr>\n",
       "    <tr>\n",
       "      <th>71</th>\n",
       "      <td>72</td>\n",
       "      <td>0.000079</td>\n",
       "    </tr>\n",
       "    <tr>\n",
       "      <th>73</th>\n",
       "      <td>74</td>\n",
       "      <td>0.000051</td>\n",
       "    </tr>\n",
       "    <tr>\n",
       "      <th>76</th>\n",
       "      <td>77</td>\n",
       "      <td>0.000044</td>\n",
       "    </tr>\n",
       "    <tr>\n",
       "      <th>92</th>\n",
       "      <td>93</td>\n",
       "      <td>0.000064</td>\n",
       "    </tr>\n",
       "    <tr>\n",
       "      <th>93</th>\n",
       "      <td>94</td>\n",
       "      <td>0.000078</td>\n",
       "    </tr>\n",
       "    <tr>\n",
       "      <th>94</th>\n",
       "      <td>95</td>\n",
       "      <td>0.000060</td>\n",
       "    </tr>\n",
       "    <tr>\n",
       "      <th>108</th>\n",
       "      <td>109</td>\n",
       "      <td>0.000051</td>\n",
       "    </tr>\n",
       "    <tr>\n",
       "      <th>113</th>\n",
       "      <td>114</td>\n",
       "      <td>0.000062</td>\n",
       "    </tr>\n",
       "    <tr>\n",
       "      <th>119</th>\n",
       "      <td>120</td>\n",
       "      <td>0.000054</td>\n",
       "    </tr>\n",
       "    <tr>\n",
       "      <th>121</th>\n",
       "      <td>122</td>\n",
       "      <td>0.000079</td>\n",
       "    </tr>\n",
       "    <tr>\n",
       "      <th>135</th>\n",
       "      <td>136</td>\n",
       "      <td>0.000045</td>\n",
       "    </tr>\n",
       "    <tr>\n",
       "      <th>144</th>\n",
       "      <td>145</td>\n",
       "      <td>0.000046</td>\n",
       "    </tr>\n",
       "    <tr>\n",
       "      <th>158</th>\n",
       "      <td>159</td>\n",
       "      <td>0.000057</td>\n",
       "    </tr>\n",
       "    <tr>\n",
       "      <th>163</th>\n",
       "      <td>164</td>\n",
       "      <td>0.000051</td>\n",
       "    </tr>\n",
       "    <tr>\n",
       "      <th>165</th>\n",
       "      <td>166</td>\n",
       "      <td>0.000069</td>\n",
       "    </tr>\n",
       "    <tr>\n",
       "      <th>176</th>\n",
       "      <td>177</td>\n",
       "      <td>0.000077</td>\n",
       "    </tr>\n",
       "    <tr>\n",
       "      <th>186</th>\n",
       "      <td>187</td>\n",
       "      <td>0.000053</td>\n",
       "    </tr>\n",
       "    <tr>\n",
       "      <th>190</th>\n",
       "      <td>191</td>\n",
       "      <td>0.000078</td>\n",
       "    </tr>\n",
       "    <tr>\n",
       "      <th>207</th>\n",
       "      <td>208</td>\n",
       "      <td>0.000044</td>\n",
       "    </tr>\n",
       "    <tr>\n",
       "      <th>214</th>\n",
       "      <td>215</td>\n",
       "      <td>0.000050</td>\n",
       "    </tr>\n",
       "    <tr>\n",
       "      <th>...</th>\n",
       "      <td>...</td>\n",
       "      <td>...</td>\n",
       "    </tr>\n",
       "    <tr>\n",
       "      <th>189724</th>\n",
       "      <td>189725</td>\n",
       "      <td>0.000043</td>\n",
       "    </tr>\n",
       "    <tr>\n",
       "      <th>189725</th>\n",
       "      <td>189726</td>\n",
       "      <td>0.000056</td>\n",
       "    </tr>\n",
       "    <tr>\n",
       "      <th>189741</th>\n",
       "      <td>189742</td>\n",
       "      <td>0.000078</td>\n",
       "    </tr>\n",
       "    <tr>\n",
       "      <th>189751</th>\n",
       "      <td>189752</td>\n",
       "      <td>0.000056</td>\n",
       "    </tr>\n",
       "    <tr>\n",
       "      <th>189757</th>\n",
       "      <td>189758</td>\n",
       "      <td>0.000057</td>\n",
       "    </tr>\n",
       "    <tr>\n",
       "      <th>189759</th>\n",
       "      <td>189760</td>\n",
       "      <td>0.000047</td>\n",
       "    </tr>\n",
       "    <tr>\n",
       "      <th>189761</th>\n",
       "      <td>189762</td>\n",
       "      <td>0.000052</td>\n",
       "    </tr>\n",
       "    <tr>\n",
       "      <th>189766</th>\n",
       "      <td>189767</td>\n",
       "      <td>0.000054</td>\n",
       "    </tr>\n",
       "    <tr>\n",
       "      <th>189768</th>\n",
       "      <td>189769</td>\n",
       "      <td>0.000043</td>\n",
       "    </tr>\n",
       "    <tr>\n",
       "      <th>189773</th>\n",
       "      <td>189774</td>\n",
       "      <td>0.000052</td>\n",
       "    </tr>\n",
       "    <tr>\n",
       "      <th>189782</th>\n",
       "      <td>189783</td>\n",
       "      <td>0.000053</td>\n",
       "    </tr>\n",
       "    <tr>\n",
       "      <th>189788</th>\n",
       "      <td>189789</td>\n",
       "      <td>0.000062</td>\n",
       "    </tr>\n",
       "    <tr>\n",
       "      <th>189834</th>\n",
       "      <td>189835</td>\n",
       "      <td>0.000056</td>\n",
       "    </tr>\n",
       "    <tr>\n",
       "      <th>189843</th>\n",
       "      <td>189844</td>\n",
       "      <td>0.000047</td>\n",
       "    </tr>\n",
       "    <tr>\n",
       "      <th>189844</th>\n",
       "      <td>189845</td>\n",
       "      <td>0.000047</td>\n",
       "    </tr>\n",
       "    <tr>\n",
       "      <th>189864</th>\n",
       "      <td>189865</td>\n",
       "      <td>0.000051</td>\n",
       "    </tr>\n",
       "    <tr>\n",
       "      <th>189871</th>\n",
       "      <td>189872</td>\n",
       "      <td>0.000057</td>\n",
       "    </tr>\n",
       "    <tr>\n",
       "      <th>189873</th>\n",
       "      <td>189874</td>\n",
       "      <td>0.000058</td>\n",
       "    </tr>\n",
       "    <tr>\n",
       "      <th>189874</th>\n",
       "      <td>189875</td>\n",
       "      <td>0.000052</td>\n",
       "    </tr>\n",
       "    <tr>\n",
       "      <th>189885</th>\n",
       "      <td>189886</td>\n",
       "      <td>0.000060</td>\n",
       "    </tr>\n",
       "    <tr>\n",
       "      <th>189889</th>\n",
       "      <td>189890</td>\n",
       "      <td>0.000052</td>\n",
       "    </tr>\n",
       "    <tr>\n",
       "      <th>189895</th>\n",
       "      <td>189896</td>\n",
       "      <td>0.000043</td>\n",
       "    </tr>\n",
       "    <tr>\n",
       "      <th>189899</th>\n",
       "      <td>189900</td>\n",
       "      <td>0.000055</td>\n",
       "    </tr>\n",
       "    <tr>\n",
       "      <th>189908</th>\n",
       "      <td>189909</td>\n",
       "      <td>0.000048</td>\n",
       "    </tr>\n",
       "    <tr>\n",
       "      <th>189915</th>\n",
       "      <td>189916</td>\n",
       "      <td>0.000049</td>\n",
       "    </tr>\n",
       "    <tr>\n",
       "      <th>189919</th>\n",
       "      <td>189920</td>\n",
       "      <td>0.000045</td>\n",
       "    </tr>\n",
       "    <tr>\n",
       "      <th>189929</th>\n",
       "      <td>189930</td>\n",
       "      <td>0.000066</td>\n",
       "    </tr>\n",
       "    <tr>\n",
       "      <th>189930</th>\n",
       "      <td>189931</td>\n",
       "      <td>0.000047</td>\n",
       "    </tr>\n",
       "    <tr>\n",
       "      <th>189944</th>\n",
       "      <td>189945</td>\n",
       "      <td>0.000058</td>\n",
       "    </tr>\n",
       "    <tr>\n",
       "      <th>189949</th>\n",
       "      <td>189950</td>\n",
       "      <td>0.000044</td>\n",
       "    </tr>\n",
       "  </tbody>\n",
       "</table>\n",
       "<p>20917 rows × 2 columns</p>\n",
       "</div>"
      ],
      "text/plain": [
       "           obs    levier\n",
       "12          13  0.000066\n",
       "15          16  0.000056\n",
       "28          29  0.000059\n",
       "34          35  0.000049\n",
       "36          37  0.000052\n",
       "42          43  0.000082\n",
       "43          44  0.000052\n",
       "51          52  0.000042\n",
       "52          53  0.000054\n",
       "65          66  0.000047\n",
       "71          72  0.000079\n",
       "73          74  0.000051\n",
       "76          77  0.000044\n",
       "92          93  0.000064\n",
       "93          94  0.000078\n",
       "94          95  0.000060\n",
       "108        109  0.000051\n",
       "113        114  0.000062\n",
       "119        120  0.000054\n",
       "121        122  0.000079\n",
       "135        136  0.000045\n",
       "144        145  0.000046\n",
       "158        159  0.000057\n",
       "163        164  0.000051\n",
       "165        166  0.000069\n",
       "176        177  0.000077\n",
       "186        187  0.000053\n",
       "190        191  0.000078\n",
       "207        208  0.000044\n",
       "214        215  0.000050\n",
       "...        ...       ...\n",
       "189724  189725  0.000043\n",
       "189725  189726  0.000056\n",
       "189741  189742  0.000078\n",
       "189751  189752  0.000056\n",
       "189757  189758  0.000057\n",
       "189759  189760  0.000047\n",
       "189761  189762  0.000052\n",
       "189766  189767  0.000054\n",
       "189768  189769  0.000043\n",
       "189773  189774  0.000052\n",
       "189782  189783  0.000053\n",
       "189788  189789  0.000062\n",
       "189834  189835  0.000056\n",
       "189843  189844  0.000047\n",
       "189844  189845  0.000047\n",
       "189864  189865  0.000051\n",
       "189871  189872  0.000057\n",
       "189873  189874  0.000058\n",
       "189874  189875  0.000052\n",
       "189885  189886  0.000060\n",
       "189889  189890  0.000052\n",
       "189895  189896  0.000043\n",
       "189899  189900  0.000055\n",
       "189908  189909  0.000048\n",
       "189915  189916  0.000049\n",
       "189919  189920  0.000045\n",
       "189929  189930  0.000066\n",
       "189930  189931  0.000047\n",
       "189944  189945  0.000058\n",
       "189949  189950  0.000044\n",
       "\n",
       "[20917 rows x 2 columns]"
      ]
     },
     "execution_count": 20,
     "metadata": {},
     "output_type": "execute_result"
    }
   ],
   "source": [
    "analyses.loc[analyses['levier'] > seuil_levier, :]"
   ]
  },
  {
   "cell_type": "markdown",
   "metadata": {},
   "source": [
    "#### Calcul des résidus studentisés : \n",
    "Le seuil pour les résidus studentisés est une loi de Student à n-p-1 degrés de liberté :"
   ]
  },
  {
   "cell_type": "code",
   "execution_count": 21,
   "metadata": {},
   "outputs": [],
   "source": [
    "from scipy.stats import t, shapiro\n",
    "import statsmodels"
   ]
  },
  {
   "cell_type": "code",
   "execution_count": 22,
   "metadata": {},
   "outputs": [
    {
     "ename": "ValueError",
     "evalue": "Length of values does not match length of index",
     "output_type": "error",
     "traceback": [
      "\u001b[1;31m---------------------------------------------------------------------------\u001b[0m",
      "\u001b[1;31mValueError\u001b[0m                                Traceback (most recent call last)",
      "\u001b[1;32m<ipython-input-22-65ee344e82f8>\u001b[0m in \u001b[0;36m<module>\u001b[1;34m\u001b[0m\n\u001b[1;32m----> 1\u001b[1;33m \u001b[0manalyses\u001b[0m\u001b[1;33m[\u001b[0m\u001b[1;34m'rstudent'\u001b[0m\u001b[1;33m]\u001b[0m \u001b[1;33m=\u001b[0m \u001b[0mreg_multi\u001b[0m\u001b[1;33m.\u001b[0m\u001b[0mget_influence\u001b[0m\u001b[1;33m(\u001b[0m\u001b[1;33m)\u001b[0m\u001b[1;33m.\u001b[0m\u001b[0mresid_studentized_internal\u001b[0m\u001b[1;33m\u001b[0m\u001b[1;33m\u001b[0m\u001b[0m\n\u001b[0m\u001b[0;32m      2\u001b[0m \u001b[0mseuil_rstudent\u001b[0m \u001b[1;33m=\u001b[0m \u001b[0mt\u001b[0m\u001b[1;33m.\u001b[0m\u001b[0mppf\u001b[0m\u001b[1;33m(\u001b[0m\u001b[1;36m1\u001b[0m\u001b[1;33m-\u001b[0m\u001b[0malpha\u001b[0m\u001b[1;33m/\u001b[0m\u001b[1;36m2\u001b[0m\u001b[1;33m,\u001b[0m\u001b[0mn\u001b[0m\u001b[1;33m-\u001b[0m\u001b[0mp\u001b[0m\u001b[1;33m-\u001b[0m\u001b[1;36m1\u001b[0m\u001b[1;33m)\u001b[0m\u001b[1;33m\u001b[0m\u001b[1;33m\u001b[0m\u001b[0m\n",
      "\u001b[1;32m~\\Anaconda3\\lib\\site-packages\\pandas\\core\\frame.py\u001b[0m in \u001b[0;36m__setitem__\u001b[1;34m(self, key, value)\u001b[0m\n\u001b[0;32m   3117\u001b[0m         \u001b[1;32melse\u001b[0m\u001b[1;33m:\u001b[0m\u001b[1;33m\u001b[0m\u001b[1;33m\u001b[0m\u001b[0m\n\u001b[0;32m   3118\u001b[0m             \u001b[1;31m# set column\u001b[0m\u001b[1;33m\u001b[0m\u001b[1;33m\u001b[0m\u001b[1;33m\u001b[0m\u001b[0m\n\u001b[1;32m-> 3119\u001b[1;33m             \u001b[0mself\u001b[0m\u001b[1;33m.\u001b[0m\u001b[0m_set_item\u001b[0m\u001b[1;33m(\u001b[0m\u001b[0mkey\u001b[0m\u001b[1;33m,\u001b[0m \u001b[0mvalue\u001b[0m\u001b[1;33m)\u001b[0m\u001b[1;33m\u001b[0m\u001b[1;33m\u001b[0m\u001b[0m\n\u001b[0m\u001b[0;32m   3120\u001b[0m \u001b[1;33m\u001b[0m\u001b[0m\n\u001b[0;32m   3121\u001b[0m     \u001b[1;32mdef\u001b[0m \u001b[0m_setitem_slice\u001b[0m\u001b[1;33m(\u001b[0m\u001b[0mself\u001b[0m\u001b[1;33m,\u001b[0m \u001b[0mkey\u001b[0m\u001b[1;33m,\u001b[0m \u001b[0mvalue\u001b[0m\u001b[1;33m)\u001b[0m\u001b[1;33m:\u001b[0m\u001b[1;33m\u001b[0m\u001b[1;33m\u001b[0m\u001b[0m\n",
      "\u001b[1;32m~\\Anaconda3\\lib\\site-packages\\pandas\\core\\frame.py\u001b[0m in \u001b[0;36m_set_item\u001b[1;34m(self, key, value)\u001b[0m\n\u001b[0;32m   3192\u001b[0m \u001b[1;33m\u001b[0m\u001b[0m\n\u001b[0;32m   3193\u001b[0m         \u001b[0mself\u001b[0m\u001b[1;33m.\u001b[0m\u001b[0m_ensure_valid_index\u001b[0m\u001b[1;33m(\u001b[0m\u001b[0mvalue\u001b[0m\u001b[1;33m)\u001b[0m\u001b[1;33m\u001b[0m\u001b[1;33m\u001b[0m\u001b[0m\n\u001b[1;32m-> 3194\u001b[1;33m         \u001b[0mvalue\u001b[0m \u001b[1;33m=\u001b[0m \u001b[0mself\u001b[0m\u001b[1;33m.\u001b[0m\u001b[0m_sanitize_column\u001b[0m\u001b[1;33m(\u001b[0m\u001b[0mkey\u001b[0m\u001b[1;33m,\u001b[0m \u001b[0mvalue\u001b[0m\u001b[1;33m)\u001b[0m\u001b[1;33m\u001b[0m\u001b[1;33m\u001b[0m\u001b[0m\n\u001b[0m\u001b[0;32m   3195\u001b[0m         \u001b[0mNDFrame\u001b[0m\u001b[1;33m.\u001b[0m\u001b[0m_set_item\u001b[0m\u001b[1;33m(\u001b[0m\u001b[0mself\u001b[0m\u001b[1;33m,\u001b[0m \u001b[0mkey\u001b[0m\u001b[1;33m,\u001b[0m \u001b[0mvalue\u001b[0m\u001b[1;33m)\u001b[0m\u001b[1;33m\u001b[0m\u001b[1;33m\u001b[0m\u001b[0m\n\u001b[0;32m   3196\u001b[0m \u001b[1;33m\u001b[0m\u001b[0m\n",
      "\u001b[1;32m~\\Anaconda3\\lib\\site-packages\\pandas\\core\\frame.py\u001b[0m in \u001b[0;36m_sanitize_column\u001b[1;34m(self, key, value, broadcast)\u001b[0m\n\u001b[0;32m   3389\u001b[0m \u001b[1;33m\u001b[0m\u001b[0m\n\u001b[0;32m   3390\u001b[0m             \u001b[1;31m# turn me into an ndarray\u001b[0m\u001b[1;33m\u001b[0m\u001b[1;33m\u001b[0m\u001b[1;33m\u001b[0m\u001b[0m\n\u001b[1;32m-> 3391\u001b[1;33m             \u001b[0mvalue\u001b[0m \u001b[1;33m=\u001b[0m \u001b[0m_sanitize_index\u001b[0m\u001b[1;33m(\u001b[0m\u001b[0mvalue\u001b[0m\u001b[1;33m,\u001b[0m \u001b[0mself\u001b[0m\u001b[1;33m.\u001b[0m\u001b[0mindex\u001b[0m\u001b[1;33m,\u001b[0m \u001b[0mcopy\u001b[0m\u001b[1;33m=\u001b[0m\u001b[1;32mFalse\u001b[0m\u001b[1;33m)\u001b[0m\u001b[1;33m\u001b[0m\u001b[1;33m\u001b[0m\u001b[0m\n\u001b[0m\u001b[0;32m   3392\u001b[0m             \u001b[1;32mif\u001b[0m \u001b[1;32mnot\u001b[0m \u001b[0misinstance\u001b[0m\u001b[1;33m(\u001b[0m\u001b[0mvalue\u001b[0m\u001b[1;33m,\u001b[0m \u001b[1;33m(\u001b[0m\u001b[0mnp\u001b[0m\u001b[1;33m.\u001b[0m\u001b[0mndarray\u001b[0m\u001b[1;33m,\u001b[0m \u001b[0mIndex\u001b[0m\u001b[1;33m)\u001b[0m\u001b[1;33m)\u001b[0m\u001b[1;33m:\u001b[0m\u001b[1;33m\u001b[0m\u001b[1;33m\u001b[0m\u001b[0m\n\u001b[0;32m   3393\u001b[0m                 \u001b[1;32mif\u001b[0m \u001b[0misinstance\u001b[0m\u001b[1;33m(\u001b[0m\u001b[0mvalue\u001b[0m\u001b[1;33m,\u001b[0m \u001b[0mlist\u001b[0m\u001b[1;33m)\u001b[0m \u001b[1;32mand\u001b[0m \u001b[0mlen\u001b[0m\u001b[1;33m(\u001b[0m\u001b[0mvalue\u001b[0m\u001b[1;33m)\u001b[0m \u001b[1;33m>\u001b[0m \u001b[1;36m0\u001b[0m\u001b[1;33m:\u001b[0m\u001b[1;33m\u001b[0m\u001b[1;33m\u001b[0m\u001b[0m\n",
      "\u001b[1;32m~\\Anaconda3\\lib\\site-packages\\pandas\\core\\series.py\u001b[0m in \u001b[0;36m_sanitize_index\u001b[1;34m(data, index, copy)\u001b[0m\n\u001b[0;32m   3999\u001b[0m \u001b[1;33m\u001b[0m\u001b[0m\n\u001b[0;32m   4000\u001b[0m     \u001b[1;32mif\u001b[0m \u001b[0mlen\u001b[0m\u001b[1;33m(\u001b[0m\u001b[0mdata\u001b[0m\u001b[1;33m)\u001b[0m \u001b[1;33m!=\u001b[0m \u001b[0mlen\u001b[0m\u001b[1;33m(\u001b[0m\u001b[0mindex\u001b[0m\u001b[1;33m)\u001b[0m\u001b[1;33m:\u001b[0m\u001b[1;33m\u001b[0m\u001b[1;33m\u001b[0m\u001b[0m\n\u001b[1;32m-> 4001\u001b[1;33m         \u001b[1;32mraise\u001b[0m \u001b[0mValueError\u001b[0m\u001b[1;33m(\u001b[0m\u001b[1;34m'Length of values does not match length of '\u001b[0m \u001b[1;34m'index'\u001b[0m\u001b[1;33m)\u001b[0m\u001b[1;33m\u001b[0m\u001b[1;33m\u001b[0m\u001b[0m\n\u001b[0m\u001b[0;32m   4002\u001b[0m \u001b[1;33m\u001b[0m\u001b[0m\n\u001b[0;32m   4003\u001b[0m     \u001b[1;32mif\u001b[0m \u001b[0misinstance\u001b[0m\u001b[1;33m(\u001b[0m\u001b[0mdata\u001b[0m\u001b[1;33m,\u001b[0m \u001b[0mABCIndexClass\u001b[0m\u001b[1;33m)\u001b[0m \u001b[1;32mand\u001b[0m \u001b[1;32mnot\u001b[0m \u001b[0mcopy\u001b[0m\u001b[1;33m:\u001b[0m\u001b[1;33m\u001b[0m\u001b[1;33m\u001b[0m\u001b[0m\n",
      "\u001b[1;31mValueError\u001b[0m: Length of values does not match length of index"
     ]
    }
   ],
   "source": [
    "analyses['rstudent'] = reg_multi.get_influence().resid_studentized_internal\n",
    "seuil_rstudent = t.ppf(1-alpha/2,n-p-1)"
   ]
  },
  {
   "cell_type": "code",
   "execution_count": null,
   "metadata": {},
   "outputs": [],
   "source": [
    "plt.figure(figsize=(10,6))\n",
    "plt.bar(analyses['obs'], analyses['rstudent'])\n",
    "plt.xticks(np.arange(0, 115, step=5))\n",
    "plt.xlabel('Observation')\n",
    "plt.ylabel('Résidus studentisés')\n",
    "plt.plot([0, 115], [seuil_rstudent, seuil_rstudent], color='r')\n",
    "plt.plot([0, 115], [-seuil_rstudent, -seuil_rstudent], color='r')\n",
    "plt.show()"
   ]
  },
  {
   "cell_type": "markdown",
   "metadata": {},
   "source": [
    "#### Distance de Cook : "
   ]
  },
  {
   "cell_type": "code",
   "execution_count": null,
   "metadata": {},
   "outputs": [],
   "source": [
    "#influence = reg_multi.get_influence().summary_frame()"
   ]
  },
  {
   "cell_type": "markdown",
   "metadata": {},
   "source": [
    "Le seuil de la distance de Cook est de n-p."
   ]
  },
  {
   "cell_type": "code",
   "execution_count": null,
   "metadata": {},
   "outputs": [],
   "source": [
    "#analyses['dcooks'] = influence['cooks_d']\n",
    "#seuil_dcook = 4/(n-p)"
   ]
  },
  {
   "cell_type": "markdown",
   "metadata": {},
   "source": [
    "Observations influentes : "
   ]
  },
  {
   "cell_type": "code",
   "execution_count": null,
   "metadata": {},
   "outputs": [],
   "source": [
    "\"\"\"\n",
    "plt.figure(figsize=(10,6))\n",
    "plt.bar(analyses['obs'], analyses['dcooks'])\n",
    "plt.xticks(np.arange(0, 115, step=5))\n",
    "plt.xlabel('Observation')\n",
    "plt.ylabel('Leviers')\n",
    "plt.plot([0, 115], [seuil_dcook, seuil_dcook], color='r')\n",
    "plt.show()\n",
    "\"\"\""
   ]
  },
  {
   "cell_type": "markdown",
   "metadata": {},
   "source": [
    "On ne retire des points qu'après avoir vérifié qu'ils sont effectivement atypiques, voire aberrants, au vu du modèle estimé."
   ]
  },
  {
   "cell_type": "markdown",
   "metadata": {},
   "source": [
    "#### Normalité des résidus : \n",
    "Test de Shapiro-Wilk : "
   ]
  },
  {
   "cell_type": "code",
   "execution_count": null,
   "metadata": {},
   "outputs": [],
   "source": [
    "shapiro(reg_multi.resid)"
   ]
  },
  {
   "cell_type": "markdown",
   "metadata": {},
   "source": [
    "Refaire le texte\n",
    "\n",
    "Ici, l'hypothèse de normalité est remise en cause (p-value = 0.003 < 0.05).\n",
    "\n",
    "Néanmoins, l'observation des résidus, le fait qu'ils ne soient pas très différents d'une distribution symétrique, et le fait que l'échantillon soit de taille suffisante (supérieure à 30) permettent de dire que les résultats obtenus par le modèle linéaire gaussien ne sont pas absurdes, même si le résidu n'est pas considéré comme étant gaussien.\n",
    "\n",
    "Nous aurions pu aussi sélectionner automatiquement un modèle avec l'ensemble des variables à disposition (variables météo et pic d'ozone de la veille) :\n"
   ]
  },
  {
   "cell_type": "code",
   "execution_count": null,
   "metadata": {},
   "outputs": [],
   "source": [
    "columns = ['income','code','Gini','c_i_parents','mean_income']\n",
    "reg_backward = backward_selected(df_final[columns], 'income')"
   ]
  },
  {
   "cell_type": "code",
   "execution_count": null,
   "metadata": {},
   "outputs": [],
   "source": []
  }
 ],
 "metadata": {
  "kernelspec": {
   "display_name": "Python 3",
   "language": "python",
   "name": "python3"
  },
  "language_info": {
   "codemirror_mode": {
    "name": "ipython",
    "version": 3
   },
   "file_extension": ".py",
   "mimetype": "text/x-python",
   "name": "python",
   "nbconvert_exporter": "python",
   "pygments_lexer": "ipython3",
   "version": "3.7.1"
  },
  "toc": {
   "base_numbering": 1,
   "nav_menu": {},
   "number_sections": true,
   "sideBar": true,
   "skip_h1_title": false,
   "title_cell": "Table of Contents",
   "title_sidebar": "Contents",
   "toc_cell": false,
   "toc_position": {},
   "toc_section_display": true,
   "toc_window_display": false
  }
 },
 "nbformat": 4,
 "nbformat_minor": 2
}
