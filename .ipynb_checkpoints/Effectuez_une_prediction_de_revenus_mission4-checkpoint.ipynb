{
 "cells": [
  {
   "cell_type": "code",
   "execution_count": 1,
   "metadata": {},
   "outputs": [],
   "source": [
    "import numpy as np\n",
    "import pandas as pd\n",
    "import matplotlib.pyplot as plt\n",
    "import seaborn as sns"
   ]
  },
  {
   "cell_type": "markdown",
   "metadata": {},
   "source": [
    "# Mission 4"
   ]
  },
  {
   "cell_type": "code",
   "execution_count": 2,
   "metadata": {},
   "outputs": [],
   "source": [
    "df_final = pd.read_csv('df_final')"
   ]
  },
  {
   "cell_type": "code",
   "execution_count": 3,
   "metadata": {},
   "outputs": [
    {
     "data": {
      "text/plain": [
       "(3799500, 7)"
      ]
     },
     "execution_count": 3,
     "metadata": {},
     "output_type": "execute_result"
    }
   ],
   "source": [
    "df_final.shape"
   ]
  },
  {
   "cell_type": "code",
   "execution_count": 4,
   "metadata": {},
   "outputs": [],
   "source": [
    "import statsmodels.formula.api as smf"
   ]
  },
  {
   "cell_type": "markdown",
   "metadata": {},
   "source": [
    "## ANOVA"
   ]
  },
  {
   "cell_type": "markdown",
   "metadata": {},
   "source": [
    "<p> Commençons par une boxplot, nous passerons ensuite au calcul de l'ANOVA ; </p>\n",
    "\n",
    "<p> Pour plus de lisibilité nous en prendrons que 10 Pays sur les 76 </p>"
   ]
  },
  {
   "cell_type": "code",
   "execution_count": 5,
   "metadata": {},
   "outputs": [
    {
     "data": {
      "image/png": "[encoded data removed]",
      "text/plain": [
       "<Figure size 864x576 with 1 Axes>"
      ]
     },
     "metadata": {
      "needs_background": "light"
     },
     "output_type": "display_data"
    },
    {
     "name": "stdout",
     "output_type": "stream",
     "text": [
      "La variance :\n",
      "ARG : 34634965\n",
      "BEL : 92222234\n",
      "BRA : 52109735\n",
      "CIV : 142892\n",
      "CYP : 127129528\n",
      "ISR : 90789160\n",
      "SRB : 6912608\n",
      "URY : 35104460\n",
      "USA : 589070300\n",
      "ZAF : 115623596\n"
     ]
    }
   ],
   "source": [
    "np.random.seed(1)\n",
    "sample = np.random.randint(76, size=10)\n",
    "X_ = df_final['code'].unique()[sample]\n",
    "sampled_data_ = df_final[df_final.code.isin(X_)]\n",
    "\n",
    "X = \"code\" # qualitative\n",
    "\n",
    "Y = \"income\" # quantitative\n",
    "\n",
    "sous_echantillon = sampled_data_\n",
    "\n",
    "modalites = sous_echantillon[X].unique()\n",
    "\n",
    "groupes = []\n",
    "\n",
    "for m in modalites:\n",
    "\n",
    "    groupes.append(sous_echantillon[sous_echantillon[X]==m][Y])\n",
    "\n",
    "medianprops = {'color':\"black\"}\n",
    "\n",
    "meanprops = {'marker':'o', 'markeredgecolor':'black',\n",
    "\n",
    "            'markerfacecolor':'firebrick'}\n",
    "\n",
    "plt.figure(figsize=[12,8])\n",
    "plt.boxplot(groupes, labels=modalites, showfliers=False, medianprops=medianprops, \n",
    "\n",
    "            vert=False, patch_artist=True, showmeans=True, meanprops=meanprops)\n",
    "plt.title(\"Boxplot\")\n",
    "plt.xlabel(\"Income\")\n",
    "plt.ylabel(\"Code\")\n",
    "plt.savefig(\"Graphiques/boxplot_.png\")\n",
    "plt.show()\n",
    "\n",
    "print('La variance :')\n",
    "for pays in sampled_data_.code.unique() :\n",
    "    sampled_pays = sampled_data_[sampled_data_['code'] == pays]\n",
    "    print(pays, \":\", round(sampled_pays['income'].var()))"
   ]
  },
  {
   "cell_type": "code",
   "execution_count": 6,
   "metadata": {},
   "outputs": [
    {
     "name": "stdout",
     "output_type": "stream",
     "text": [
      "                            OLS Regression Results                            \n",
      "==============================================================================\n",
      "Dep. Variable:                 income   R-squared:                       0.445\n",
      "Model:                            OLS   Adj. R-squared:                  0.445\n",
      "Method:                 Least Squares   F-statistic:                 4.064e+04\n",
      "Date:                Sat, 03 Aug 2019   Prob (F-statistic):               0.00\n",
      "Time:                        15:59:21   Log-Likelihood:            -3.9530e+07\n",
      "No. Observations:             3799500   AIC:                         7.906e+07\n",
      "Df Residuals:                 3799424   BIC:                         7.906e+07\n",
      "Df Model:                          75                                         \n",
      "Covariance Type:            nonrobust                                         \n",
      "===============================================================================\n",
      "                  coef    std err          t      P>|t|      [0.025      0.975]\n",
      "-------------------------------------------------------------------------------\n",
      "Intercept    2994.8299     35.703     83.883      0.000    2924.854    3064.806\n",
      "code[T.ARG]  2853.0548     50.491     56.506      0.000    2754.094    2952.016\n",
      "code[T.ARM] -1366.4471     50.491    -27.063      0.000   -1465.408   -1267.486\n",
      "code[T.AUT]  1.364e+04     50.491    270.201      0.000    1.35e+04    1.37e+04\n",
      "code[T.AZE]  -637.4009     50.491    -12.624      0.000    -736.362    -538.440\n",
      "code[T.BEL]  1.203e+04     50.491    238.255      0.000    1.19e+04    1.21e+04\n",
      "code[T.BGR]  1990.1487     50.491     39.416      0.000    1891.188    2089.110\n",
      "code[T.BLR]   926.3336     50.491     18.346      0.000     827.373    1025.295\n",
      "code[T.BOL]    21.4339     50.491      0.425      0.671     -77.527     120.395\n",
      "code[T.BRA]  1812.6547     50.491     35.900      0.000    1713.694    1911.616\n",
      "code[T.CAF] -2183.5300     50.491    -43.246      0.000   -2282.491   -2084.569\n",
      "code[T.CAN]  2.074e+04     50.491    410.860      0.000    2.06e+04    2.08e+04\n",
      "code[T.CIV] -2594.9947     50.491    -51.395      0.000   -2693.956   -2496.034\n",
      "code[T.COD] -2718.8139     50.491    -53.847      0.000   -2817.775   -2619.853\n",
      "code[T.COL]   552.1754     50.491     10.936      0.000     453.214     651.136\n",
      "code[T.CRI]  2585.5567     50.491     51.208      0.000    2486.596    2684.518\n",
      "code[T.CYP]  1.435e+04     50.491    284.219      0.000    1.43e+04    1.44e+04\n",
      "code[T.CZE]  5240.4635     50.491    103.790      0.000    5141.503    5339.424\n",
      "code[T.DEU]  1.507e+04     50.491    298.406      0.000     1.5e+04    1.52e+04\n",
      "code[T.DNK]  1.405e+04     50.491    278.233      0.000    1.39e+04    1.41e+04\n",
      "code[T.DOM]   563.5722     50.491     11.162      0.000     464.611     662.533\n",
      "code[T.ECU]   388.9111     50.491      7.703      0.000     289.950     487.872\n",
      "code[T.ESP]  1.012e+04     50.491    200.474      0.000       1e+04    1.02e+04\n",
      "code[T.EST]  4707.2327     50.491     93.229      0.000    4608.272    4806.194\n",
      "code[T.FIN]  1.331e+04     50.491    263.640      0.000    1.32e+04    1.34e+04\n",
      "code[T.FJI]  -896.0990     50.491    -17.748      0.000    -995.060    -797.138\n",
      "code[T.FRA]  1.531e+04     50.491    303.312      0.000    1.52e+04    1.54e+04\n",
      "code[T.GBR]  1.871e+04     50.491    370.654      0.000    1.86e+04    1.88e+04\n",
      "code[T.GEO] -1631.0713     50.491    -32.304      0.000   -1730.032   -1532.110\n",
      "code[T.GRC]  8732.4444     50.491    172.950      0.000    8633.483    8831.405\n",
      "code[T.HND]   301.4385     50.491      5.970      0.000     202.478     400.399\n",
      "code[T.HRV]  4721.6359     50.491     93.514      0.000    4622.675    4820.597\n",
      "code[T.HUN]  3106.5113     50.491     61.526      0.000    3007.550    3205.472\n",
      "code[T.IRL]  1.472e+04     50.491    291.455      0.000    1.46e+04    1.48e+04\n",
      "code[T.IRN]  2837.8256     50.491     56.204      0.000    2738.865    2936.787\n",
      "code[T.IRQ] -1289.3176     50.491    -25.535      0.000   -1388.279   -1190.357\n",
      "code[T.ISL]  2.389e+04     50.491    473.225      0.000    2.38e+04     2.4e+04\n",
      "code[T.ISR]  8105.4882     50.491    160.533      0.000    8006.527    8204.449\n",
      "code[T.ITA]  1.193e+04     50.491    236.286      0.000    1.18e+04     1.2e+04\n",
      "code[T.JOR]    53.8011     50.491      1.066      0.287     -45.160     152.762\n",
      "code[T.JPN]  1.444e+04     50.491    285.953      0.000    1.43e+04    1.45e+04\n",
      "code[T.KAZ]  -755.6801     50.491    -14.967      0.000    -854.641    -656.719\n",
      "code[T.KGZ] -1221.6107     50.491    -24.195      0.000   -1320.572   -1122.650\n",
      "code[T.KHM] -1508.4897     50.491    -29.876      0.000   -1607.451   -1409.529\n",
      "code[T.KOR]  1.223e+04     50.491    242.275      0.000    1.21e+04    1.23e+04\n",
      "code[T.LTU]  3646.4177     50.619     72.037      0.000    3547.207    3745.628\n",
      "code[T.LUX]  2.222e+04     50.491    440.131      0.000    2.21e+04    2.23e+04\n",
      "code[T.LVA]  3769.6447     50.491     74.659      0.000    3670.684    3868.606\n",
      "code[T.MDA]  -845.6585     50.491    -16.749      0.000    -944.619    -746.698\n",
      "code[T.MEX]   891.0004     50.491     17.647      0.000     792.039     989.961\n",
      "code[T.MKD]  1604.5664     50.491     31.779      0.000    1505.605    1703.527\n",
      "code[T.MNE]  3553.0692     50.491     70.370      0.000    3454.108    3652.030\n",
      "code[T.MOZ] -2302.3494     50.491    -45.599      0.000   -2401.310   -2203.388\n",
      "code[T.MRT] -1196.2208     50.491    -23.692      0.000   -1295.182   -1097.260\n",
      "code[T.NLD]  1.473e+04     50.491    291.809      0.000    1.46e+04    1.48e+04\n",
      "code[T.NOR]  1.949e+04     50.491    385.979      0.000    1.94e+04    1.96e+04\n",
      "code[T.PAK] -2106.9906     50.491    -41.730      0.000   -2205.952   -2008.030\n",
      "code[T.PER]   335.7034     50.491      6.649      0.000     236.742     434.664\n",
      "code[T.POL]  2746.8903     50.491     54.403      0.000    2647.929    2845.851\n",
      "code[T.PRT]  7103.8455     50.491    140.695      0.000    7004.884    7202.806\n",
      "code[T.PRY]   283.2511     50.491      5.610      0.000     184.290     382.212\n",
      "code[T.ROU]   323.5073     50.491      6.407      0.000     224.546     422.468\n",
      "code[T.RUS]  4161.9408     50.491     82.429      0.000    4062.980    4260.902\n",
      "code[T.SLV]  -139.6051     50.491     -2.765      0.006    -238.566     -40.644\n",
      "code[T.SRB]  1884.9209     50.491     37.332      0.000    1785.960    1983.882\n",
      "code[T.SVK]  3101.7500     50.491     61.431      0.000    3002.789    3200.711\n",
      "code[T.SVN]  9111.1776     50.491    180.451      0.000    9012.217    9210.139\n",
      "code[T.SWE]  1.319e+04     50.491    261.222      0.000    1.31e+04    1.33e+04\n",
      "code[T.TUR]  3055.6354     50.491     60.518      0.000    2956.674    3154.596\n",
      "code[T.TWN]  1.351e+04     50.491    267.480      0.000    1.34e+04    1.36e+04\n",
      "code[T.UKR]   354.5584     50.491      7.022      0.000     255.597     453.519\n",
      "code[T.URY]  2295.9550     50.491     45.472      0.000    2196.994    2394.916\n",
      "code[T.USA]  2.251e+04     50.491    445.795      0.000    2.24e+04    2.26e+04\n",
      "code[T.XKX]  -818.5609     50.491    -16.212      0.000    -917.522    -719.600\n",
      "code[T.YEM] -1952.1940     50.491    -38.664      0.000   -2051.155   -1853.233\n",
      "code[T.ZAF]  2623.0750     50.491     51.951      0.000    2524.114    2722.036\n",
      "==============================================================================\n",
      "Omnibus:                  4298019.468   Durbin-Watson:                   0.001\n",
      "Prob(Omnibus):                  0.000   Jarque-Bera (JB):        703730413.299\n",
      "Skew:                           5.716   Prob(JB):                         0.00\n",
      "Kurtosis:                      68.685   Cond. No.                         77.0\n",
      "==============================================================================\n",
      "\n",
      "Warnings:\n",
      "[1] Standard Errors assume that the covariance matrix of the errors is correctly specified.\n"
     ]
    }
   ],
   "source": [
    "anova_pays = smf.ols('income~code', data=df_final).fit()\n",
    "print(anova_pays.summary())"
   ]
  },
  {
   "cell_type": "code",
   "execution_count": 7,
   "metadata": {},
   "outputs": [
    {
     "data": {
      "text/html": [
       "<div>\n",
       "<style scoped>\n",
       "    .dataframe tbody tr th:only-of-type {\n",
       "        vertical-align: middle;\n",
       "    }\n",
       "\n",
       "    .dataframe tbody tr th {\n",
       "        vertical-align: top;\n",
       "    }\n",
       "\n",
       "    .dataframe thead th {\n",
       "        text-align: right;\n",
       "    }\n",
       "</style>\n",
       "<table border=\"1\" class=\"dataframe\">\n",
       "  <thead>\n",
       "    <tr style=\"text-align: right;\">\n",
       "      <th></th>\n",
       "      <th>sum_sq</th>\n",
       "      <th>df</th>\n",
       "      <th>F</th>\n",
       "      <th>PR(&gt;F)</th>\n",
       "    </tr>\n",
       "  </thead>\n",
       "  <tbody>\n",
       "    <tr>\n",
       "      <th>code</th>\n",
       "      <td>1.942574e+14</td>\n",
       "      <td>75.0</td>\n",
       "      <td>40639.163243</td>\n",
       "      <td>0.0</td>\n",
       "    </tr>\n",
       "    <tr>\n",
       "      <th>Residual</th>\n",
       "      <td>2.421527e+14</td>\n",
       "      <td>3799424.0</td>\n",
       "      <td>NaN</td>\n",
       "      <td>NaN</td>\n",
       "    </tr>\n",
       "  </tbody>\n",
       "</table>\n",
       "</div>"
      ],
      "text/plain": [
       "                sum_sq         df             F  PR(>F)\n",
       "code      1.942574e+14       75.0  40639.163243     0.0\n",
       "Residual  2.421527e+14  3799424.0           NaN     NaN"
      ]
     },
     "execution_count": 7,
     "metadata": {},
     "output_type": "execute_result"
    }
   ],
   "source": [
    "import statsmodels.api as sm\n",
    "anov_table = sm.stats.anova_lm(anova_pays, typ=2)\n",
    "anov_table"
   ]
  },
  {
   "cell_type": "markdown",
   "metadata": {},
   "source": [
    "<p> Test de Ficher : <br/>\n",
    "    La p_valeur = 0 ; Le pays a donc bien un impact sur les revenus. </p>"
   ]
  },
  {
   "cell_type": "markdown",
   "metadata": {},
   "source": [
    "Une p-valeur strictement égale à 0 est significative : <br/>\n",
    "https://www.researchgate.net/post/p_value_of_0000"
   ]
  },
  {
   "cell_type": "markdown",
   "metadata": {},
   "source": [
    "## Régressions Linéaires"
   ]
  },
  {
   "cell_type": "markdown",
   "metadata": {},
   "source": [
    "### Income sans logarithme"
   ]
  },
  {
   "cell_type": "code",
   "execution_count": 8,
   "metadata": {},
   "outputs": [
    {
     "name": "stdout",
     "output_type": "stream",
     "text": [
      "                            OLS Regression Results                            \n",
      "==============================================================================\n",
      "Dep. Variable:                 income   R-squared:                       0.445\n",
      "Model:                            OLS   Adj. R-squared:                  0.445\n",
      "Method:                 Least Squares   F-statistic:                 1.524e+06\n",
      "Date:                Sat, 03 Aug 2019   Prob (F-statistic):               0.00\n",
      "Time:                        15:59:24   Log-Likelihood:            -3.9530e+07\n",
      "No. Observations:             3799500   AIC:                         7.906e+07\n",
      "Df Residuals:                 3799497   BIC:                         7.906e+07\n",
      "Df Model:                           2                                         \n",
      "Covariance Type:            nonrobust                                         \n",
      "===============================================================================\n",
      "                  coef    std err          t      P>|t|      [0.025      0.975]\n",
      "-------------------------------------------------------------------------------\n",
      "Intercept   -1.496e-08     12.748  -1.17e-09      1.000     -24.986      24.986\n",
      "Gini         2.394e-11      0.319    7.5e-11      1.000      -0.625       0.625\n",
      "mean_income     1.0000      0.001   1745.694      0.000       0.999       1.001\n",
      "==============================================================================\n",
      "Omnibus:                  4298019.468   Durbin-Watson:                   0.001\n",
      "Prob(Omnibus):                  0.000   Jarque-Bera (JB):        703730413.298\n",
      "Skew:                           5.716   Prob(JB):                         0.00\n",
      "Kurtosis:                      68.685   Cond. No.                     3.41e+04\n",
      "==============================================================================\n",
      "\n",
      "Warnings:\n",
      "[1] Standard Errors assume that the covariance matrix of the errors is correctly specified.\n",
      "[2] The condition number is large, 3.41e+04. This might indicate that there are\n",
      "strong multicollinearity or other numerical problems.\n"
     ]
    }
   ],
   "source": [
    "reg_multi = smf.ols(\"income~Gini+mean_income\", data=df_final).fit()\n",
    "print(reg_multi.summary())"
   ]
  },
  {
   "cell_type": "markdown",
   "metadata": {},
   "source": [
    "<p>On voit sur cette régression que l'indice de Gini n'est pas significatif, on peut donc l'enlever</p>"
   ]
  },
  {
   "cell_type": "code",
   "execution_count": 9,
   "metadata": {},
   "outputs": [
    {
     "name": "stdout",
     "output_type": "stream",
     "text": [
      "                            OLS Regression Results                            \n",
      "==============================================================================\n",
      "Dep. Variable:                 income   R-squared:                       0.445\n",
      "Model:                            OLS   Adj. R-squared:                  0.445\n",
      "Method:                 Least Squares   F-statistic:                 3.048e+06\n",
      "Date:                Sat, 03 Aug 2019   Prob (F-statistic):               0.00\n",
      "Time:                        15:59:25   Log-Likelihood:            -3.9530e+07\n",
      "No. Observations:             3799500   AIC:                         7.906e+07\n",
      "Df Residuals:                 3799498   BIC:                         7.906e+07\n",
      "Df Model:                           1                                         \n",
      "Covariance Type:            nonrobust                                         \n",
      "===============================================================================\n",
      "                  coef    std err          t      P>|t|      [0.025      0.975]\n",
      "-------------------------------------------------------------------------------\n",
      "Intercept   -5.224e-10      6.282  -8.32e-11      1.000     -12.312      12.312\n",
      "mean_income     1.0000      0.001   1745.851      0.000       0.999       1.001\n",
      "==============================================================================\n",
      "Omnibus:                  4298019.468   Durbin-Watson:                   0.001\n",
      "Prob(Omnibus):                  0.000   Jarque-Bera (JB):        703730413.300\n",
      "Skew:                           5.716   Prob(JB):                         0.00\n",
      "Kurtosis:                      68.685   Cond. No.                     1.68e+04\n",
      "==============================================================================\n",
      "\n",
      "Warnings:\n",
      "[1] Standard Errors assume that the covariance matrix of the errors is correctly specified.\n",
      "[2] The condition number is large, 1.68e+04. This might indicate that there are\n",
      "strong multicollinearity or other numerical problems.\n"
     ]
    }
   ],
   "source": [
    "reg_multi1 = smf.ols(\"income~mean_income\", data=df_final).fit()\n",
    "print(reg_multi1.summary())"
   ]
  },
  {
   "cell_type": "markdown",
   "metadata": {},
   "source": [
    "<p> Le paramètre est ici significatif, et on obtient un R-squared de 0.445 </p>\n",
    "\n",
    "<p> R² = SCE/SCT ; </p>\n",
    "    \n",
    "<p> La décomposition de variance totale expliquée pour le pays de naissance est donc égale à 0.445 </p>\n",
    "\n",
    "<p> Et pour les autres facteurs, on a 1-0.445 = 0.555 </p>"
   ]
  },
  {
   "cell_type": "code",
   "execution_count": 10,
   "metadata": {},
   "outputs": [],
   "source": [
    "from statsmodels.stats.outliers_influence import variance_inflation_factor"
   ]
  },
  {
   "cell_type": "code",
   "execution_count": 11,
   "metadata": {},
   "outputs": [
    {
     "data": {
      "text/plain": [
       "array([1.66755086, 0.33280761, 0.99964153])"
      ]
     },
     "execution_count": 11,
     "metadata": {},
     "output_type": "execute_result"
    }
   ],
   "source": [
    "coli = df_final[['income', 'Gini', 'mean_income']]\n",
    "corr = np.corrcoef(coli, rowvar=0)\n",
    "w, v = np.linalg.eig(corr)\n",
    "w"
   ]
  },
  {
   "cell_type": "markdown",
   "metadata": {},
   "source": [
    "<p> Il y a colinéarité si l'une des eigen values était proche de 0 </p>\n",
    "<p> Pas de problème de colinéarité </p>"
   ]
  },
  {
   "cell_type": "markdown",
   "metadata": {},
   "source": [
    "### Income logarithme"
   ]
  },
  {
   "cell_type": "code",
   "execution_count": 12,
   "metadata": {},
   "outputs": [
    {
     "name": "stdout",
     "output_type": "stream",
     "text": [
      "                            OLS Regression Results                            \n",
      "==============================================================================\n",
      "Dep. Variable:                 income   R-squared:                       0.359\n",
      "Model:                            OLS   Adj. R-squared:                  0.359\n",
      "Method:                 Least Squares   F-statistic:                 1.065e+06\n",
      "Date:                Sat, 03 Aug 2019   Prob (F-statistic):               0.00\n",
      "Time:                        15:59:27   Log-Likelihood:            -3.9804e+07\n",
      "No. Observations:             3799500   AIC:                         7.961e+07\n",
      "Df Residuals:                 3799497   BIC:                         7.961e+07\n",
      "Df Model:                           2                                         \n",
      "Covariance Type:            nonrobust                                         \n",
      "=============================================================================================\n",
      "                                coef    std err          t      P>|t|      [0.025      0.975]\n",
      "---------------------------------------------------------------------------------------------\n",
      "Intercept                 -4.359e+04     37.629  -1158.319      0.000   -4.37e+04   -4.35e+04\n",
      "Gini                        -58.7552      0.346   -169.855      0.000     -59.433     -58.077\n",
      "mean_income.apply(np.log)  6284.3072      4.307   1458.995      0.000    6275.865    6292.749\n",
      "==============================================================================\n",
      "Omnibus:                  4176677.504   Durbin-Watson:                   0.001\n",
      "Prob(Omnibus):                  0.000   Jarque-Bera (JB):        571271704.542\n",
      "Skew:                           5.496   Prob(JB):                         0.00\n",
      "Kurtosis:                      62.057   Cond. No.                         328.\n",
      "==============================================================================\n",
      "\n",
      "Warnings:\n",
      "[1] Standard Errors assume that the covariance matrix of the errors is correctly specified.\n"
     ]
    }
   ],
   "source": [
    "reg_multi_ln = smf.ols(\"income~Gini+mean_income.apply(np.log)\", data=df_final).fit()\n",
    "print(reg_multi_ln.summary())"
   ]
  },
  {
   "cell_type": "markdown",
   "metadata": {},
   "source": [
    "<p> En passant la variable mean_income en logarithm on obtient deux paramètres significatifs, cependant, on peut voir que le R-squared est faible : 0.359  </p>\n",
    "\n",
    "<p> On gardera tout de même ce modèle puisqu'il contient plus de paramètres </p>\n",
    "\n",
    "<p> La décomposition de variance totale expliquée pour le pays de naissance est donc égale à 0.359 </p>\n",
    "\n",
    "<p> Et pour les autres facteurs, on a 1-0.359 = 0.641 </p>"
   ]
  },
  {
   "cell_type": "code",
   "execution_count": 13,
   "metadata": {},
   "outputs": [
    {
     "data": {
      "text/plain": [
       "array([1.61142273, 0.39233308, 0.99624419])"
      ]
     },
     "execution_count": 13,
     "metadata": {},
     "output_type": "execute_result"
    }
   ],
   "source": [
    "df_final['log'] = df_final['mean_income'].apply(np.log)\n",
    "coli = df_final[['income', 'Gini', 'log']]\n",
    "corr = np.corrcoef(coli, rowvar=0)\n",
    "w, v = np.linalg.eig(corr)\n",
    "w"
   ]
  },
  {
   "cell_type": "markdown",
   "metadata": {},
   "source": [
    "Encore une fois, pas de colinéarité entre les variables"
   ]
  },
  {
   "cell_type": "markdown",
   "metadata": {},
   "source": [
    "## Amélioration du modèle :  "
   ]
  },
  {
   "cell_type": "markdown",
   "metadata": {},
   "source": [
    "### Income logarithme"
   ]
  },
  {
   "cell_type": "code",
   "execution_count": 14,
   "metadata": {},
   "outputs": [
    {
     "name": "stdout",
     "output_type": "stream",
     "text": [
      "                            OLS Regression Results                            \n",
      "==============================================================================\n",
      "Dep. Variable:                 income   R-squared:                       0.389\n",
      "Model:                            OLS   Adj. R-squared:                  0.389\n",
      "Method:                 Least Squares   F-statistic:                 8.066e+05\n",
      "Date:                Sat, 03 Aug 2019   Prob (F-statistic):               0.00\n",
      "Time:                        15:59:30   Log-Likelihood:            -3.9713e+07\n",
      "No. Observations:             3799500   AIC:                         7.943e+07\n",
      "Df Residuals:                 3799496   BIC:                         7.943e+07\n",
      "Df Model:                           3                                         \n",
      "Covariance Type:            nonrobust                                         \n",
      "=============================================================================================\n",
      "                                coef    std err          t      P>|t|      [0.025      0.975]\n",
      "---------------------------------------------------------------------------------------------\n",
      "Intercept                 -4.683e+04     37.502  -1248.817      0.000   -4.69e+04   -4.68e+04\n",
      "Gini                        -58.7538      0.338   -173.963      0.000     -59.416     -58.092\n",
      "mean_income.apply(np.log)  6284.2806      4.205   1494.310      0.000    6276.038    6292.523\n",
      "c_i_parents                  64.2410      0.149    431.502      0.000      63.949      64.533\n",
      "==============================================================================\n",
      "Omnibus:                  4220313.247   Durbin-Watson:                   0.002\n",
      "Prob(Omnibus):                  0.000   Jarque-Bera (JB):        612984481.957\n",
      "Skew:                           5.576   Prob(JB):                         0.00\n",
      "Kurtosis:                      64.218   Cond. No.                         587.\n",
      "==============================================================================\n",
      "\n",
      "Warnings:\n",
      "[1] Standard Errors assume that the covariance matrix of the errors is correctly specified.\n"
     ]
    }
   ],
   "source": [
    "reg_multi_ln = smf.ols(\"income~Gini+mean_income.apply(np.log)+c_i_parents\", \n",
    "                       data=df_final).fit()\n",
    "\n",
    "print(reg_multi_ln.summary())"
   ]
  },
  {
   "cell_type": "markdown",
   "metadata": {},
   "source": [
    "<p> Les paramètres sont là aussi significatifs, cependant le R-squared est inférieur à la reg précédente : 0.389 </p>\n",
    "\n",
    "<p> La droite de régression s'écrit donc sous la forme : aX1 + bX2 + cX3 + d ; Soit : <br/>\n",
    "    -58.7538*X1 + 6284.2806*X2 + 64.2410*X3 + (-4.683e+04) <br/>\n",
    "    Avec : <ul> \n",
    "    <li> X1 = Gini </li>\n",
    "    <li> X2 = Mean_income (en log) </li>\n",
    "    <li> X3 = c_i_parents </li> </ul>\n",
    "\n",
    "<p> L'indice de Gini est placé en coefficient négatif, ce qui veut dire que plus l'Income est grand, plus le revenu moyen est grand (logique), plus l'indice est petit. </p>\n",
    "\n",
    "<p> On peut donc en conclure que plus on va dans un  pays inégalitaire, plus l'indice est grand, et plus l'income et le mean_income sont petits ; Un pays inégalitaire ne favorise donc pas plus de personne qu'il n'en défavorise </p>\n",
    "\n",
    "<p> Ici, la décomposition de variance totale expliquée pour le pays de naissance est égale à 0.389 ; Et celle non expliquée est de 1-0.389 = 0.611 </p>"
   ]
  },
  {
   "cell_type": "markdown",
   "metadata": {},
   "source": [
    "### Analyse des résultats de la régression"
   ]
  },
  {
   "cell_type": "markdown",
   "metadata": {},
   "source": [
    "#### Normalité des résidus : \n",
    "On ne peut pas utiliser de trest de shapiro dans ce cas là, le nombre de données excedant les 2000 ; On va donc utiliser le test de Stephens"
   ]
  },
  {
   "cell_type": "code",
   "execution_count": 16,
   "metadata": {},
   "outputs": [
    {
     "data": {
      "text/plain": [
       "AndersonResult(statistic=233667.2212877213, critical_values=array([0.576, 0.656, 0.787, 0.918, 1.092]), significance_level=array([15. , 10. ,  5. ,  2.5,  1. ]))"
      ]
     },
     "execution_count": 16,
     "metadata": {},
     "output_type": "execute_result"
    }
   ],
   "source": [
    "import scipy.stats\n",
    "scipy.stats.anderson(reg_multi_ln.resid)"
   ]
  },
  {
   "cell_type": "markdown",
   "metadata": {},
   "source": [
    "<p> Ici, l'hypothèse de normalité n'est pas remise en cause (Statistic > critical value). </p>\n",
    "<p> Les résidus suivent donc une loi normal, ce qui nous montre que le modèle fit bien les données et est performant </p>"
   ]
  },
  {
   "cell_type": "markdown",
   "metadata": {},
   "source": [
    "# Annexe 1 Liens vers des articles ou sujets de forums :"
   ]
  },
  {
   "cell_type": "markdown",
   "metadata": {},
   "source": [
    "https://newonlinecourses.science.psu.edu/stat501/node/281/\n",
    "\n",
    "https://stats.stackexchange.com/questions/54533/what-do-normal-residuals-mean-and-what-does-this-tell-me-about-my-data\n",
    "\n",
    "https://www.quora.com/Why-is-the-normality-of-residuals-assumption-important-in-regression-analysis"
   ]
  }
 ],
 "metadata": {
  "kernelspec": {
   "display_name": "Python 3",
   "language": "python",
   "name": "python3"
  },
  "language_info": {
   "codemirror_mode": {
    "name": "ipython",
    "version": 3
   },
   "file_extension": ".py",
   "mimetype": "text/x-python",
   "name": "python",
   "nbconvert_exporter": "python",
   "pygments_lexer": "ipython3",
   "version": "3.7.1"
  },
  "toc": {
   "base_numbering": 1,
   "nav_menu": {},
   "number_sections": true,
   "sideBar": true,
   "skip_h1_title": false,
   "title_cell": "Table of Contents",
   "title_sidebar": "Contents",
   "toc_cell": false,
   "toc_position": {},
   "toc_section_display": true,
   "toc_window_display": false
  }
 },
 "nbformat": 4,
 "nbformat_minor": 2
}
